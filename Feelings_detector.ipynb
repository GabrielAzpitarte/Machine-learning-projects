{
  "nbformat": 4,
  "nbformat_minor": 0,
  "metadata": {
    "colab": {
      "provenance": [],
      "include_colab_link": true
    },
    "kernelspec": {
      "name": "python3",
      "display_name": "Python 3"
    },
    "language_info": {
      "name": "python"
    }
  },
  "cells": [
    {
      "cell_type": "markdown",
      "metadata": {
        "id": "view-in-github",
        "colab_type": "text"
      },
      "source": [
        "<a href=\"https://colab.research.google.com/github/GabrielAzpitarte/Machine-learning-projects/blob/main/Feelings_detector.ipynb\" target=\"_parent\"><img src=\"https://colab.research.google.com/assets/colab-badge.svg\" alt=\"Open In Colab\"/></a>"
      ]
    },
    {
      "cell_type": "markdown",
      "source": [
        "# Création de bdd a la mano"
      ],
      "metadata": {
        "id": "OGGlqdKj7Ibn"
      }
    },
    {
      "cell_type": "code",
      "execution_count": null,
      "metadata": {
        "id": "ycmSYTcO4KXC"
      },
      "outputs": [],
      "source": [
        "positives = [\n",
        "    \"J'ai passé une super journée aujourd'hui !\",\n",
        "    \"C'est la fête ce soir.\",\n",
        "    \"Je suis contente d'être en vacances.\"\n",
        "]\n",
        "\n",
        "negatives = [\n",
        "    \"J'en ai marre de tout !!\",\n",
        "    \"Je suis trop malade.\",\n",
        "    \"Je suis très fatiguée...\"\n",
        "]"
      ]
    },
    {
      "cell_type": "markdown",
      "source": [
        "# Créer le vocabulaire"
      ],
      "metadata": {
        "id": "oIlpOCub7LdX"
      }
    },
    {
      "cell_type": "markdown",
      "source": [
        "### Etape 1 : récupérer tous les mots"
      ],
      "metadata": {
        "id": "u0hB50-R7SXX"
      }
    },
    {
      "cell_type": "code",
      "source": [
        "positives"
      ],
      "metadata": {
        "colab": {
          "base_uri": "https://localhost:8080/"
        },
        "id": "pV5mqv267V99",
        "outputId": "4d8b1ca0-8622-4427-e640-91eb2637c4fd"
      },
      "execution_count": null,
      "outputs": [
        {
          "output_type": "execute_result",
          "data": {
            "text/plain": [
              "[\"J'ai passé une super journée aujourd'hui !\",\n",
              " \"C'est la fête ce soir.\",\n",
              " \"Je suis contente d'être en vacances.\"]"
            ]
          },
          "metadata": {},
          "execution_count": 2
        }
      ]
    },
    {
      "cell_type": "code",
      "source": [
        "print(positives)"
      ],
      "metadata": {
        "colab": {
          "base_uri": "https://localhost:8080/"
        },
        "id": "ll8Nyvpk7t4v",
        "outputId": "209338f5-882e-44f3-8607-e067959fd761"
      },
      "execution_count": null,
      "outputs": [
        {
          "output_type": "stream",
          "name": "stdout",
          "text": [
            "[\"J'ai passé une super journée aujourd'hui !\", \"C'est la fête ce soir.\", \"Je suis contente d'être en vacances.\"]\n"
          ]
        }
      ]
    },
    {
      "cell_type": "code",
      "source": [
        "# isalpha() permet de tester si un caractère est d'ordre alphabétique ou non\n",
        "# split() divise une chaine en sous chaine. le paramètre \" \" permet de lui dire de diviser a chaque espace\n",
        "def creation_liste(donnees):\n",
        "  liste = []\n",
        "  for phrase in donnees:\n",
        "    sans_ponctuation = \"\"\n",
        "    for lettre in phrase:\n",
        "      if lettre.isalpha():\n",
        "        sans_ponctuation += lettre\n",
        "      else :\n",
        "        sans_ponctuation += \" \"\n",
        "    liste.append(sans_ponctuation.split(\" \"))\n",
        "  return liste"
      ],
      "metadata": {
        "id": "zjZ7QQC475uJ"
      },
      "execution_count": null,
      "outputs": []
    },
    {
      "cell_type": "code",
      "source": [
        "liste = positives + negatives\n",
        "liste_mots = creation_liste(liste)\n",
        "print(liste_mots)"
      ],
      "metadata": {
        "colab": {
          "base_uri": "https://localhost:8080/"
        },
        "id": "Gu6ClcQk-zjE",
        "outputId": "9ec13168-f333-4a31-82a3-c0d3d746b4f2"
      },
      "execution_count": null,
      "outputs": [
        {
          "output_type": "stream",
          "name": "stdout",
          "text": [
            "[['J', 'ai', 'passé', 'une', 'super', 'journée', 'aujourd', 'hui', '', ''], ['C', 'est', 'la', 'fête', 'ce', 'soir', ''], ['Je', 'suis', 'contente', 'd', 'être', 'en', 'vacances', ''], ['J', 'en', 'ai', 'marre', 'de', 'tout', '', '', ''], ['Je', 'suis', 'trop', 'malade', ''], ['Je', 'suis', 'très', 'fatiguée', '', '', '']]\n"
          ]
        }
      ]
    },
    {
      "cell_type": "markdown",
      "source": [
        "### Etape 2 éliminer les doublons"
      ],
      "metadata": {
        "id": "dpUj_Hft_WCE"
      }
    },
    {
      "cell_type": "code",
      "source": [
        "tous_mots = [\"\"]\n",
        "\n",
        "for liste in liste_mots:\n",
        "  for mot in liste:\n",
        "    tous_mots.append(mot)\n",
        "\n",
        "mots_uniques = set(tous_mots)\n",
        "print(mots_uniques)"
      ],
      "metadata": {
        "colab": {
          "base_uri": "https://localhost:8080/"
        },
        "id": "5lcIdkbO_ZKc",
        "outputId": "57c855e7-050f-40c8-c73c-ea685221c192"
      },
      "execution_count": null,
      "outputs": [
        {
          "output_type": "stream",
          "name": "stdout",
          "text": [
            "{'', 'suis', 'J', 'fête', 'super', 'la', 'est', 'journée', 'ce', 'd', 'marre', 'aujourd', 'contente', 'passé', 'être', 'hui', 'très', 'tout', 'malade', 'Je', 'de', 'trop', 'C', 'une', 'en', 'vacances', 'fatiguée', 'soir', 'ai'}\n"
          ]
        }
      ]
    },
    {
      "cell_type": "markdown",
      "source": [
        "### Etape 3: création d'un dico caractère par index, et index par caractere"
      ],
      "metadata": {
        "id": "-szm6_suAha_"
      }
    },
    {
      "cell_type": "code",
      "source": [
        "# On veut assigner une valeur numérique à chaque mot\n",
        "\n",
        "# On utilise enumerate pour l'obtenir\n",
        "# On boucle pour chaque pair (un mot / son numéro)\n",
        "for pair in enumerate(mots_uniques):\n",
        "  print(pair)"
      ],
      "metadata": {
        "colab": {
          "base_uri": "https://localhost:8080/"
        },
        "id": "4wEUsZD_A_KS",
        "outputId": "0003600f-e738-4ed1-bfff-5df258c153c8"
      },
      "execution_count": null,
      "outputs": [
        {
          "output_type": "stream",
          "name": "stdout",
          "text": [
            "(0, '')\n",
            "(1, 'suis')\n",
            "(2, 'J')\n",
            "(3, 'fête')\n",
            "(4, 'super')\n",
            "(5, 'la')\n",
            "(6, 'est')\n",
            "(7, 'journée')\n",
            "(8, 'ce')\n",
            "(9, 'd')\n",
            "(10, 'marre')\n",
            "(11, 'aujourd')\n",
            "(12, 'contente')\n",
            "(13, 'passé')\n",
            "(14, 'être')\n",
            "(15, 'hui')\n",
            "(16, 'très')\n",
            "(17, 'tout')\n",
            "(18, 'malade')\n",
            "(19, 'Je')\n",
            "(20, 'de')\n",
            "(21, 'trop')\n",
            "(22, 'C')\n",
            "(23, 'une')\n",
            "(24, 'en')\n",
            "(25, 'vacances')\n",
            "(26, 'fatiguée')\n",
            "(27, 'soir')\n",
            "(28, 'ai')\n"
          ]
        }
      ]
    },
    {
      "cell_type": "markdown",
      "source": [
        "Encoder les mots"
      ],
      "metadata": {
        "id": "xEiKoGSQCLjk"
      }
    },
    {
      "cell_type": "code",
      "source": [
        "# On crée un dictionnaire de compréhension, pour accéder facilement du mot à son index\n",
        "\n",
        "# mot:index correspond a ce que l'on recherche\n",
        "# for index, mot correspond a notre mot précédent\n",
        "# in enumerate(mots_uniques) récupère le nombre qui correspond à chaque mot\n",
        "mot2index = {mot:index for index,mot in enumerate(mots_uniques)}\n",
        "\n",
        "mot2index\n"
      ],
      "metadata": {
        "colab": {
          "base_uri": "https://localhost:8080/"
        },
        "id": "QH8cJLfsCLMj",
        "outputId": "ad27c749-4fde-468b-cfda-14f60c9967eb"
      },
      "execution_count": null,
      "outputs": [
        {
          "output_type": "execute_result",
          "data": {
            "text/plain": [
              "{'': 0,\n",
              " 'suis': 1,\n",
              " 'J': 2,\n",
              " 'fête': 3,\n",
              " 'super': 4,\n",
              " 'la': 5,\n",
              " 'est': 6,\n",
              " 'journée': 7,\n",
              " 'ce': 8,\n",
              " 'd': 9,\n",
              " 'marre': 10,\n",
              " 'aujourd': 11,\n",
              " 'contente': 12,\n",
              " 'passé': 13,\n",
              " 'être': 14,\n",
              " 'hui': 15,\n",
              " 'très': 16,\n",
              " 'tout': 17,\n",
              " 'malade': 18,\n",
              " 'Je': 19,\n",
              " 'de': 20,\n",
              " 'trop': 21,\n",
              " 'C': 22,\n",
              " 'une': 23,\n",
              " 'en': 24,\n",
              " 'vacances': 25,\n",
              " 'fatiguée': 26,\n",
              " 'soir': 27,\n",
              " 'ai': 28}"
            ]
          },
          "metadata": {},
          "execution_count": 8
        }
      ]
    },
    {
      "cell_type": "code",
      "source": [
        "mot2index['journée']"
      ],
      "metadata": {
        "colab": {
          "base_uri": "https://localhost:8080/"
        },
        "id": "WvhTWcgwDY4G",
        "outputId": "398c9c17-1cc1-4b73-cfdc-74f83d0aab3a"
      },
      "execution_count": null,
      "outputs": [
        {
          "output_type": "execute_result",
          "data": {
            "text/plain": [
              "7"
            ]
          },
          "metadata": {},
          "execution_count": 9
        }
      ]
    },
    {
      "cell_type": "markdown",
      "source": [
        "Décoder les mots (on fait l'inverse)"
      ],
      "metadata": {
        "id": "a48CMvCmEafT"
      }
    },
    {
      "cell_type": "code",
      "source": [
        "# Version \"on lui donne un nombre et il nous retourne un mot\"\n",
        "index2mot = {index:mot for index,mot in enumerate(mots_uniques)}"
      ],
      "metadata": {
        "id": "RIJQbvTdElbB"
      },
      "execution_count": null,
      "outputs": []
    },
    {
      "cell_type": "code",
      "source": [
        "index2mot[10]"
      ],
      "metadata": {
        "colab": {
          "base_uri": "https://localhost:8080/",
          "height": 35
        },
        "id": "vPd0HwFtE1iK",
        "outputId": "f05c2ea6-f1ec-4280-ca33-067a55643cb4"
      },
      "execution_count": null,
      "outputs": [
        {
          "output_type": "execute_result",
          "data": {
            "text/plain": [
              "'marre'"
            ],
            "application/vnd.google.colaboratory.intrinsic+json": {
              "type": "string"
            }
          },
          "metadata": {},
          "execution_count": 11
        }
      ]
    },
    {
      "cell_type": "code",
      "source": [
        "# Fonction inversée qui permettra de décoder\n",
        "def decode(phrase):\n",
        "  phrase_decode = []\n",
        "  for num in phrase:\n",
        "    phrase_decode.append(index2mot[num])\n",
        "  return phrase_decode"
      ],
      "metadata": {
        "id": "1brtpNu0FqPV"
      },
      "execution_count": null,
      "outputs": []
    },
    {
      "cell_type": "markdown",
      "source": [
        "### Etape 4 : Préparation des données (X et Y)"
      ],
      "metadata": {
        "id": "zJu4jcFdGXat"
      }
    },
    {
      "cell_type": "code",
      "source": [
        "import numpy as np\n",
        "from tensorflow.keras.preprocessing.sequence import pad_sequences"
      ],
      "metadata": {
        "id": "2CZAgae4Ghw8"
      },
      "execution_count": null,
      "outputs": []
    },
    {
      "cell_type": "code",
      "source": [
        "taille = 100\n",
        "\n",
        "X = []\n",
        "Y = []"
      ],
      "metadata": {
        "id": "jNoY_SkZHLaO"
      },
      "execution_count": null,
      "outputs": []
    },
    {
      "cell_type": "code",
      "source": [
        "# On crée une fonction qui permet de transformer une liste de mots en une liste de nombres\n",
        "def encode(liste):\n",
        "  encode = []\n",
        "  for mot in liste:\n",
        "    encode.append(mot2index[mot])\n",
        "  return encode"
      ],
      "metadata": {
        "id": "H_cDFegbIBcy"
      },
      "execution_count": null,
      "outputs": []
    },
    {
      "cell_type": "code",
      "source": [
        "liste_positive = creation_liste(positives)\n",
        "\n",
        "for phrase in liste_positive:\n",
        "  print(phrase)\n",
        "  phrase_encode = encode(phrase)\n",
        "  pad = pad_sequences([phrase_encode], maxlen=taille)\n",
        "  X.append(pad)\n",
        "  Y.append(1)\n"
      ],
      "metadata": {
        "colab": {
          "base_uri": "https://localhost:8080/"
        },
        "id": "7_ETqmnDHXZp",
        "outputId": "33587a41-9dab-46bd-f947-9b58e3e260ff"
      },
      "execution_count": null,
      "outputs": [
        {
          "output_type": "stream",
          "name": "stdout",
          "text": [
            "['J', 'ai', 'passé', 'une', 'super', 'journée', 'aujourd', 'hui', '', '']\n",
            "['C', 'est', 'la', 'fête', 'ce', 'soir', '']\n",
            "['Je', 'suis', 'contente', 'd', 'être', 'en', 'vacances', '']\n"
          ]
        }
      ]
    },
    {
      "cell_type": "code",
      "source": [
        "liste_negative = creation_liste(negatives)\n",
        "\n",
        "for phrase in liste_negative:\n",
        "  print(phrase)\n",
        "  phrase_encode = encode(phrase)\n",
        "  pad = pad_sequences([phrase_encode], maxlen=taille)\n",
        "  X.append(pad)\n",
        "  Y.append(0)"
      ],
      "metadata": {
        "colab": {
          "base_uri": "https://localhost:8080/"
        },
        "id": "8qbRLfUrI76f",
        "outputId": "d5dcd2ce-faf4-4e72-82a6-2c5465a35504"
      },
      "execution_count": null,
      "outputs": [
        {
          "output_type": "stream",
          "name": "stdout",
          "text": [
            "['J', 'en', 'ai', 'marre', 'de', 'tout', '', '', '']\n",
            "['Je', 'suis', 'trop', 'malade', '']\n",
            "['Je', 'suis', 'très', 'fatiguée', '', '', '']\n"
          ]
        }
      ]
    },
    {
      "cell_type": "code",
      "source": [
        "X = np.asarray(X)\n",
        "print(X.shape)\n",
        "X = np.reshape(X, (X.shape[0], taille))\n",
        "print(X.shape)\n",
        "\n",
        "# On utilise pas to_categorical car on veut un seul neurone, définit entre 0 et 1\n",
        "# 0 pour le négatif , 1 pour positif\n",
        "Y = np.asarray(Y)\n",
        "print(Y.shape)"
      ],
      "metadata": {
        "colab": {
          "base_uri": "https://localhost:8080/"
        },
        "id": "gO5cv17-Jr-o",
        "outputId": "7168135d-4457-43e8-c9b0-d76cd87c36ef"
      },
      "execution_count": null,
      "outputs": [
        {
          "output_type": "stream",
          "name": "stdout",
          "text": [
            "(6, 1, 100)\n",
            "(6, 100)\n",
            "(6,)\n"
          ]
        }
      ]
    },
    {
      "cell_type": "markdown",
      "source": [
        "# Création et entrainement du modèle"
      ],
      "metadata": {
        "id": "SnXUpjrQDEkI"
      }
    },
    {
      "cell_type": "code",
      "source": [
        "from tensorflow.keras.models import Sequential\n",
        "from tensorflow.keras.layers import Dense, LSTM, Embedding\n",
        "\n",
        "max_features = len(tous_mots) #Taille du vocabulaire\n",
        "taille_sequence = taille #Nbre de mots dans une séquence\n",
        "taille_vecteur = 10 # nbre de valeurs que l'IA utilise pour apprendre le sens des mots\n",
        "\n",
        "# Créer le modèle\n",
        "model = Sequential()\n",
        "model.add(Embedding(max_features, taille_vecteur, input_length=taille_sequence))\n",
        "model.add(LSTM(64, dropout=0.2, recurrent_dropout=0.2))\n",
        "model.add(Dense(1, activation='sigmoid'))\n",
        "model.summary()"
      ],
      "metadata": {
        "colab": {
          "base_uri": "https://localhost:8080/"
        },
        "id": "yp7GeFF9DIWz",
        "outputId": "fdeeac22-711a-44e3-805b-5cdf5020e291"
      },
      "execution_count": null,
      "outputs": [
        {
          "output_type": "stream",
          "name": "stdout",
          "text": [
            "Model: \"sequential\"\n",
            "_________________________________________________________________\n",
            " Layer (type)                Output Shape              Param #   \n",
            "=================================================================\n",
            " embedding (Embedding)       (None, 100, 10)           470       \n",
            "                                                                 \n",
            " lstm (LSTM)                 (None, 64)                19200     \n",
            "                                                                 \n",
            " dense (Dense)               (None, 1)                 65        \n",
            "                                                                 \n",
            "=================================================================\n",
            "Total params: 19,735\n",
            "Trainable params: 19,735\n",
            "Non-trainable params: 0\n",
            "_________________________________________________________________\n"
          ]
        }
      ]
    },
    {
      "cell_type": "code",
      "source": [
        "model.compile(loss=\"binary_crossentropy\", optimizer=\"adam\", metrics=[\"accuracy\"])"
      ],
      "metadata": {
        "id": "Z5u7LIWoGaNj"
      },
      "execution_count": null,
      "outputs": []
    },
    {
      "cell_type": "code",
      "source": [
        "model.fit(X,Y, epochs=10, batch_size=6)"
      ],
      "metadata": {
        "colab": {
          "base_uri": "https://localhost:8080/"
        },
        "id": "ZI7K4z-_Gmam",
        "outputId": "37a0a965-ae39-4a2b-9f7a-d6de79323f03"
      },
      "execution_count": null,
      "outputs": [
        {
          "output_type": "stream",
          "name": "stdout",
          "text": [
            "Epoch 1/10\n",
            "1/1 [==============================] - 3s 3s/step - loss: 0.6934 - accuracy: 0.5000\n",
            "Epoch 2/10\n",
            "1/1 [==============================] - 0s 98ms/step - loss: 0.6924 - accuracy: 0.6667\n",
            "Epoch 3/10\n",
            "1/1 [==============================] - 0s 94ms/step - loss: 0.6925 - accuracy: 0.5000\n",
            "Epoch 4/10\n",
            "1/1 [==============================] - 0s 102ms/step - loss: 0.6919 - accuracy: 0.6667\n",
            "Epoch 5/10\n",
            "1/1 [==============================] - 0s 102ms/step - loss: 0.6905 - accuracy: 0.6667\n",
            "Epoch 6/10\n",
            "1/1 [==============================] - 0s 93ms/step - loss: 0.6888 - accuracy: 1.0000\n",
            "Epoch 7/10\n",
            "1/1 [==============================] - 0s 91ms/step - loss: 0.6890 - accuracy: 0.8333\n",
            "Epoch 8/10\n",
            "1/1 [==============================] - 0s 93ms/step - loss: 0.6892 - accuracy: 0.8333\n",
            "Epoch 9/10\n",
            "1/1 [==============================] - 0s 94ms/step - loss: 0.6877 - accuracy: 1.0000\n",
            "Epoch 10/10\n",
            "1/1 [==============================] - 0s 98ms/step - loss: 0.6864 - accuracy: 0.6667\n"
          ]
        },
        {
          "output_type": "execute_result",
          "data": {
            "text/plain": [
              "<keras.callbacks.History at 0x7f2c3ec96830>"
            ]
          },
          "metadata": {},
          "execution_count": 21
        }
      ]
    },
    {
      "cell_type": "markdown",
      "source": [
        "#Prédicteur"
      ],
      "metadata": {
        "id": "QDvEPJRSHZ0-"
      }
    },
    {
      "cell_type": "code",
      "source": [
        "# Il va falloir MODIFIER l'encode pour ajouter un try/except\n",
        "# Si l'on tombe sur une clé qui n'est pas dans e dictionnaire\n",
        "def encode(liste):\n",
        "  encode = []\n",
        "  for mot in liste:\n",
        "    try:\n",
        "      encode.append(mot2index[mot])\n",
        "    except KeyError :\n",
        "      pass\n",
        "  return encode"
      ],
      "metadata": {
        "id": "CsV7h62XHcTF"
      },
      "execution_count": null,
      "outputs": []
    },
    {
      "cell_type": "code",
      "source": [
        "ma_phrase = [\"C'est trop bien!\"]\n",
        "\n",
        "# Transformer la phrase en liste de mots\n",
        "liste = creation_liste(ma_phrase)\n",
        "print(liste)\n",
        "# Transformer la liste de mots en liste de nombre (index)\n",
        "# Si le mot n'est pas dans le vocabulaire, il n'est pas pris en compte\n",
        "phrase_encode = encode(liste[0])\n",
        "print(phrase_encode)\n",
        "print(decode(phrase_encode))\n",
        "# Faire le padding\n",
        "pad = pad_sequences([phrase_encode], maxlen=taille)\n",
        "print(pad.shape)"
      ],
      "metadata": {
        "colab": {
          "base_uri": "https://localhost:8080/",
          "height": 245
        },
        "id": "LiZYnsDBJzQM",
        "outputId": "4bc02394-2b38-4c65-be6d-2ecb8f299396"
      },
      "execution_count": null,
      "outputs": [
        {
          "output_type": "error",
          "ename": "NameError",
          "evalue": "ignored",
          "traceback": [
            "\u001b[0;31m---------------------------------------------------------------------------\u001b[0m",
            "\u001b[0;31mNameError\u001b[0m                                 Traceback (most recent call last)",
            "\u001b[0;32m<ipython-input-3-270de7317d1e>\u001b[0m in \u001b[0;36m<cell line: 4>\u001b[0;34m()\u001b[0m\n\u001b[1;32m      2\u001b[0m \u001b[0;34m\u001b[0m\u001b[0m\n\u001b[1;32m      3\u001b[0m \u001b[0;31m# Transformer la phrase en liste de mots\u001b[0m\u001b[0;34m\u001b[0m\u001b[0;34m\u001b[0m\u001b[0m\n\u001b[0;32m----> 4\u001b[0;31m \u001b[0mliste\u001b[0m \u001b[0;34m=\u001b[0m \u001b[0mcreation_liste\u001b[0m\u001b[0;34m(\u001b[0m\u001b[0mma_phrase\u001b[0m\u001b[0;34m)\u001b[0m\u001b[0;34m\u001b[0m\u001b[0;34m\u001b[0m\u001b[0m\n\u001b[0m\u001b[1;32m      5\u001b[0m \u001b[0mprint\u001b[0m\u001b[0;34m(\u001b[0m\u001b[0mliste\u001b[0m\u001b[0;34m)\u001b[0m\u001b[0;34m\u001b[0m\u001b[0;34m\u001b[0m\u001b[0m\n\u001b[1;32m      6\u001b[0m \u001b[0;31m# Transformer la liste de mots en liste de nombre (index)\u001b[0m\u001b[0;34m\u001b[0m\u001b[0;34m\u001b[0m\u001b[0m\n",
            "\u001b[0;31mNameError\u001b[0m: name 'creation_liste' is not defined"
          ]
        }
      ]
    },
    {
      "cell_type": "code",
      "source": [
        "prediction = model.predict(pad)\n",
        "print(prediction[0][0])"
      ],
      "metadata": {
        "colab": {
          "base_uri": "https://localhost:8080/",
          "height": 192
        },
        "id": "QdDSGlCUN6tj",
        "outputId": "05314cee-cbb2-4480-f69b-af176943cab4"
      },
      "execution_count": null,
      "outputs": [
        {
          "output_type": "error",
          "ename": "NameError",
          "evalue": "ignored",
          "traceback": [
            "\u001b[0;31m---------------------------------------------------------------------------\u001b[0m",
            "\u001b[0;31mNameError\u001b[0m                                 Traceback (most recent call last)",
            "\u001b[0;32m<ipython-input-4-30da28ff1d27>\u001b[0m in \u001b[0;36m<cell line: 1>\u001b[0;34m()\u001b[0m\n\u001b[0;32m----> 1\u001b[0;31m \u001b[0mprediction\u001b[0m \u001b[0;34m=\u001b[0m \u001b[0mmodel\u001b[0m\u001b[0;34m.\u001b[0m\u001b[0mpredict\u001b[0m\u001b[0;34m(\u001b[0m\u001b[0mpad\u001b[0m\u001b[0;34m)\u001b[0m\u001b[0;34m\u001b[0m\u001b[0;34m\u001b[0m\u001b[0m\n\u001b[0m\u001b[1;32m      2\u001b[0m \u001b[0mprint\u001b[0m\u001b[0;34m(\u001b[0m\u001b[0mprediction\u001b[0m\u001b[0;34m[\u001b[0m\u001b[0;36m0\u001b[0m\u001b[0;34m]\u001b[0m\u001b[0;34m[\u001b[0m\u001b[0;36m0\u001b[0m\u001b[0;34m]\u001b[0m\u001b[0;34m)\u001b[0m\u001b[0;34m\u001b[0m\u001b[0;34m\u001b[0m\u001b[0m\n",
            "\u001b[0;31mNameError\u001b[0m: name 'model' is not defined"
          ]
        }
      ]
    }
  ]
}