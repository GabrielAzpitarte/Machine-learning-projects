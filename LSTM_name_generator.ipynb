{
  "nbformat": 4,
  "nbformat_minor": 0,
  "metadata": {
    "colab": {
      "provenance": [],
      "toc_visible": true,
      "include_colab_link": true
    },
    "kernelspec": {
      "name": "python3",
      "display_name": "Python 3"
    },
    "language_info": {
      "name": "python"
    }
  },
  "cells": [
    {
      "cell_type": "markdown",
      "metadata": {
        "id": "view-in-github",
        "colab_type": "text"
      },
      "source": [
        "<a href=\"https://colab.research.google.com/github/GabrielAzpitarte/Machine-learning-projects/blob/main/LSTM_name_generator.ipynb\" target=\"_parent\"><img src=\"https://colab.research.google.com/assets/colab-badge.svg\" alt=\"Open In Colab\"/></a>"
      ]
    },
    {
      "cell_type": "markdown",
      "source": [
        "# Notre premier LSTM\n",
        "On va utiliser nos propres données de prénoms"
      ],
      "metadata": {
        "id": "916fWndCdcmf"
      }
    },
    {
      "cell_type": "code",
      "execution_count": null,
      "metadata": {
        "id": "wvLki3D3at-C"
      },
      "outputs": [],
      "source": [
        "liste_prenoms = [\"Benjamin\", \"Danylo\", \"Paul\", \"Ethan\", \"Hazem\", \"Noé\", \"Raphaël\", \"Karliss\", \"Gabriel\",\n",
        "                 \"Timothée\",\"Soizic\",\"Adrien\",\"Théo\",\"Maeva\",\"Samy\",\"Camille\",\"Romain\",\"Alexandre\",\"Arthur\"]"
      ]
    },
    {
      "cell_type": "markdown",
      "source": [
        "##Mise en forme des données\n",
        "On va faire une chaîne de caractère qui joint tous les éléments de la liste.\n",
        "\n",
        "Pour ce faire, on va utiliser la méthode str.join(list)"
      ],
      "metadata": {
        "id": "yNT6n3-9ffcT"
      }
    },
    {
      "cell_type": "code",
      "source": [
        "#On commence par chercher la longueur des séquences\n",
        "longueur_sequence = 0\n",
        "\n",
        "#Il va falloir mettre cette longueur par rapport au plus long nom\n",
        "for prenom in liste_prenoms :\n",
        "  longueur = len(prenom)\n",
        "\n",
        "  #si la longueur du prénom est plus grande que celle de la séquence, on update cette dernière\n",
        "  if longueur > longueur_sequence :\n",
        "    longueur_sequence = longueur\n",
        "\n",
        "#On ajoute 1 pour prendre en compte le séparateur ' '\n",
        "longueur_sequence += 1\n",
        "\n",
        "print(\"Longueur des séquences :\", longueur_sequence)"
      ],
      "metadata": {
        "colab": {
          "base_uri": "https://localhost:8080/"
        },
        "id": "u4ENAEU8f1mu",
        "outputId": "2481229a-d07e-4e49-96be-2934ae2d2751"
      },
      "execution_count": null,
      "outputs": [
        {
          "output_type": "stream",
          "name": "stdout",
          "text": [
            "Longueur des séquences : 10\n"
          ]
        }
      ]
    },
    {
      "cell_type": "code",
      "source": [
        "#On peut maintenant faire notre chaîne de prénoms :\n",
        "chaine_prenoms = ' '.join(liste_prenoms).lower()\n",
        "\n",
        "#On ajoute un espace à la fin\n",
        "chaine_prenoms += ' '\n",
        "\n",
        "print(\"Chaîne des prénoms :\", chaine_prenoms)"
      ],
      "metadata": {
        "colab": {
          "base_uri": "https://localhost:8080/"
        },
        "id": "b1ZilLE0hSST",
        "outputId": "dd04fed7-21f7-4f85-ec46-2d33521f1dd4"
      },
      "execution_count": null,
      "outputs": [
        {
          "output_type": "stream",
          "name": "stdout",
          "text": [
            "Chaîne des prénoms : benjamin danylo paul ethan hazem noé raphaël karliss gabriel timothée soizic adrien théo maeva samy camille romain alexandre arthur \n"
          ]
        }
      ]
    },
    {
      "cell_type": "code",
      "source": [
        "print(chaine_prenoms.capitalize())"
      ],
      "metadata": {
        "colab": {
          "base_uri": "https://localhost:8080/"
        },
        "id": "MzqL_7Bmig5A",
        "outputId": "03241a7c-9e96-4630-9f28-73708bb43349"
      },
      "execution_count": null,
      "outputs": [
        {
          "output_type": "stream",
          "name": "stdout",
          "text": [
            "Benjamin danylo paul ethan hazem noé raphaël karliss gabriel timothée soizic adrien théo maeva samy camille romain alexandre arthur \n"
          ]
        }
      ]
    },
    {
      "cell_type": "markdown",
      "source": [
        "On va faire une liste des différentes lettres et on pourra ainsi remplacer le caractère dans chaine_prenom par son indice."
      ],
      "metadata": {
        "id": "qGFHOjqAh6s0"
      }
    },
    {
      "cell_type": "code",
      "source": [
        "liste_lettres = []\n",
        "\n",
        "#Pour chaque lettre de la chaine, on ajoute la lettre à liste_lettres si elle n'est pas déjà dedans\n",
        "for lettre in chaine_prenoms :\n",
        "  if lettre not in liste_lettres :\n",
        "    liste_lettres.append(lettre)\n",
        "\n",
        "print(\"Nombre de caractères différents :\",len(liste_lettres))\n",
        "print(liste_lettres)\n",
        "print('indice de la lettre h :', liste_lettres.index('h'))"
      ],
      "metadata": {
        "colab": {
          "base_uri": "https://localhost:8080/"
        },
        "id": "PbfkNwYjiV9q",
        "outputId": "8f0784d7-9c33-4306-98d5-c1c4c76aeb40"
      },
      "execution_count": null,
      "outputs": [
        {
          "output_type": "stream",
          "name": "stdout",
          "text": [
            "Nombre de caractères différents : 26\n",
            "['b', 'e', 'n', 'j', 'a', 'm', 'i', ' ', 'd', 'y', 'l', 'o', 'p', 'u', 't', 'h', 'z', 'é', 'r', 'ë', 'k', 's', 'g', 'c', 'v', 'x']\n",
            "indice de la lettre h : 15\n"
          ]
        }
      ]
    },
    {
      "cell_type": "markdown",
      "source": [
        "On va pouvoir créer les séquences glissées sur la chaîne de prénoms"
      ],
      "metadata": {
        "id": "tAhbe_3AkWaE"
      }
    },
    {
      "cell_type": "code",
      "source": [
        "#On va créer les séquences et la lettre suivante en même temps\n",
        "sequences = []\n",
        "lettres_suivantes = []\n",
        "\n",
        "#On récupère la longueur de la chaîne de prénoms :\n",
        "longueur_chaine = len(chaine_prenoms)\n",
        "\n",
        "#on va faire une boucle sur des indices entre 0 et longueur_chaine - longueur_sequence :\n",
        "for indice in range(0, longueur_chaine - longueur_sequence) :\n",
        "  #on récupère une séquence dans chaîne nombre située entre indice et indice + longueur_sequence\n",
        "  sequence = chaine_prenoms[indice : indice + longueur_sequence]\n",
        "  #on récupère la lettre suivante :\n",
        "  lettre_suivante = chaine_prenoms[indice + longueur_sequence]\n",
        "\n",
        "  #On ajoute ces derniers éléments à nos 2 listes\n",
        "  sequences.append(sequence)\n",
        "  lettres_suivantes.append(lettre_suivante)\n",
        "\n",
        "print(\"Nombre de séquences :\", len(sequences))\n",
        "#Vérification sur les 10 premiers éléments et le dernier\n",
        "#On utilise enumerate() pour récupérer l'indice et l'élément de la liste avec for\n",
        "for indice,sequence in enumerate(sequences[:10]):\n",
        "  print(\"Séquence :\", sequence, \"    Lettre suivante :\",lettres_suivantes[indice])\n",
        "\n",
        "print()\n",
        "print(\"Dernières occurences :\")\n",
        "print(\"Séquence :\", sequences[-1], \"    Lettre suivante :\",lettres_suivantes[-1])"
      ],
      "metadata": {
        "colab": {
          "base_uri": "https://localhost:8080/"
        },
        "id": "PZBXWQ_VksjN",
        "outputId": "09194526-6838-4950-b924-dffd9f426acd"
      },
      "execution_count": null,
      "outputs": [
        {
          "output_type": "stream",
          "name": "stdout",
          "text": [
            "Nombre de séquences : 122\n",
            "Séquence : benjamin d     Lettre suivante : a\n",
            "Séquence : enjamin da     Lettre suivante : n\n",
            "Séquence : njamin dan     Lettre suivante : y\n",
            "Séquence : jamin dany     Lettre suivante : l\n",
            "Séquence : amin danyl     Lettre suivante : o\n",
            "Séquence : min danylo     Lettre suivante :  \n",
            "Séquence : in danylo      Lettre suivante : p\n",
            "Séquence : n danylo p     Lettre suivante : a\n",
            "Séquence :  danylo pa     Lettre suivante : u\n",
            "Séquence : danylo pau     Lettre suivante : l\n",
            "\n",
            "Dernières occurences :\n",
            "Séquence : dre arthur     Lettre suivante :  \n"
          ]
        }
      ]
    },
    {
      "cell_type": "markdown",
      "source": [
        "## Création des X, Y"
      ],
      "metadata": {
        "id": "XdrZHPPLZlul"
      }
    },
    {
      "cell_type": "code",
      "source": [
        "import numpy as np\n",
        "from tensorflow.keras.utils import to_categorical\n",
        "\n",
        "#On stocke la longueur de liste_lettres\n",
        "categories = len(liste_lettres)\n",
        "\n",
        "#on va commencer par créer les X\n",
        "X=[]\n",
        "\n",
        "#on crée une boucle sur les séquences\n",
        "for sequence in sequences :\n",
        "  #on va créer une liste vide pour récolter les indices des caractères\n",
        "  liste = []\n",
        "  for caractere in sequence :\n",
        "    #on récupère l'indice correspondant au caractère\n",
        "    indice = liste_lettres.index(caractere)\n",
        "    #on ajoute l'indice à la liste\n",
        "    liste.append(indice)\n",
        "\n",
        "  #on convertit tout de suite avec to_categorical pour avoir un vecteur de proba de 26 éléments\n",
        "  liste = to_categorical(liste,categories)\n",
        "  #On ajoute la liste dans X\n",
        "  X.append(liste)\n",
        "\n",
        "X= np.asarray(X)\n",
        "print(X.shape)\n",
        "\n",
        "#pour les Y, on ne change pas de méthode\n",
        "#il faut quand même convertir les caractères en indice\n",
        "Y=[]\n",
        "for caractere in lettres_suivantes :\n",
        "  indice = liste_lettres.index(caractere)\n",
        "  Y.append(indice)\n",
        "\n",
        "#to_categorical\n",
        "Y = to_categorical(Y,categories)\n",
        "\n",
        "print(Y.shape)"
      ],
      "metadata": {
        "colab": {
          "base_uri": "https://localhost:8080/"
        },
        "id": "3zVips3nZpL1",
        "outputId": "a86b4966-97e8-41c4-ede7-3b95471c5644"
      },
      "execution_count": null,
      "outputs": [
        {
          "output_type": "stream",
          "name": "stdout",
          "text": [
            "(122, 10, 26)\n",
            "(122, 26)\n"
          ]
        }
      ]
    },
    {
      "cell_type": "markdown",
      "source": [
        "##Réseau de neurones avec LSTM"
      ],
      "metadata": {
        "id": "HtqMLjh8h9U3"
      }
    },
    {
      "cell_type": "code",
      "source": [
        "from tensorflow.keras.models import Sequential\n",
        "from tensorflow.keras.layers import Dense, LSTM\n",
        "\n",
        "modele = Sequential()\n",
        "\n",
        "#On ajoute en entrée une couche de neurones LSTM\n",
        "modele.add(LSTM(64, input_shape = (longueur_sequence,categories), recurrent_dropout = 0.1))\n",
        "\n",
        "#On ajoute la sortie\n",
        "modele.add(Dense(categories, activation='softmax'))\n",
        "\n",
        "modele.summary()"
      ],
      "metadata": {
        "colab": {
          "base_uri": "https://localhost:8080/"
        },
        "id": "DVnQcoVgiC0K",
        "outputId": "2df50646-c1f1-4be7-c814-7f0272279e63"
      },
      "execution_count": null,
      "outputs": [
        {
          "output_type": "stream",
          "name": "stdout",
          "text": [
            "Model: \"sequential\"\n",
            "_________________________________________________________________\n",
            " Layer (type)                Output Shape              Param #   \n",
            "=================================================================\n",
            " lstm (LSTM)                 (None, 64)                23296     \n",
            "                                                                 \n",
            " dense (Dense)               (None, 26)                1690      \n",
            "                                                                 \n",
            "=================================================================\n",
            "Total params: 24,986\n",
            "Trainable params: 24,986\n",
            "Non-trainable params: 0\n",
            "_________________________________________________________________\n"
          ]
        }
      ]
    },
    {
      "cell_type": "code",
      "source": [
        "from tensorflow.keras.optimizers import RMSprop\n",
        "\n",
        "optimizer = RMSprop(learning_rate = 0.01)\n",
        "\n",
        "modele.compile(optimizer=optimizer, loss='categorical_crossentropy', metrics=['accuracy',])\n",
        "\n",
        "modele.fit(X, Y, batch_size = 8, epochs = 30)\n",
        "\n",
        "modele.save('name_generator.h5')"
      ],
      "metadata": {
        "colab": {
          "base_uri": "https://localhost:8080/"
        },
        "id": "Kz-MG9M4kp2M",
        "outputId": "5a33db6f-e88b-4330-dd76-17b4ac5e53d7"
      },
      "execution_count": null,
      "outputs": [
        {
          "output_type": "stream",
          "name": "stdout",
          "text": [
            "Epoch 1/30\n",
            "16/16 [==============================] - 7s 27ms/step - loss: 3.1303 - accuracy: 0.0902\n",
            "Epoch 2/30\n",
            "16/16 [==============================] - 0s 27ms/step - loss: 2.9120 - accuracy: 0.1803\n",
            "Epoch 3/30\n",
            "16/16 [==============================] - 0s 24ms/step - loss: 2.8332 - accuracy: 0.1967\n",
            "Epoch 4/30\n",
            "16/16 [==============================] - 0s 28ms/step - loss: 2.6608 - accuracy: 0.2623\n",
            "Epoch 5/30\n",
            "16/16 [==============================] - 0s 26ms/step - loss: 2.4674 - accuracy: 0.2787\n",
            "Epoch 6/30\n",
            "16/16 [==============================] - 0s 23ms/step - loss: 2.2861 - accuracy: 0.3279\n",
            "Epoch 7/30\n",
            "16/16 [==============================] - 0s 20ms/step - loss: 2.0249 - accuracy: 0.3607\n",
            "Epoch 8/30\n",
            "16/16 [==============================] - 0s 20ms/step - loss: 1.8747 - accuracy: 0.3934\n",
            "Epoch 9/30\n",
            "16/16 [==============================] - 0s 20ms/step - loss: 1.6677 - accuracy: 0.4836\n",
            "Epoch 10/30\n",
            "16/16 [==============================] - 0s 20ms/step - loss: 1.4754 - accuracy: 0.5000\n",
            "Epoch 11/30\n",
            "16/16 [==============================] - 0s 22ms/step - loss: 1.2902 - accuracy: 0.5902\n",
            "Epoch 12/30\n",
            "16/16 [==============================] - 0s 27ms/step - loss: 1.0031 - accuracy: 0.7131\n",
            "Epoch 13/30\n",
            "16/16 [==============================] - 0s 28ms/step - loss: 0.8523 - accuracy: 0.7459\n",
            "Epoch 14/30\n",
            "16/16 [==============================] - 0s 25ms/step - loss: 0.7353 - accuracy: 0.8197\n",
            "Epoch 15/30\n",
            "16/16 [==============================] - 0s 27ms/step - loss: 0.5451 - accuracy: 0.8934\n",
            "Epoch 16/30\n",
            "16/16 [==============================] - 0s 25ms/step - loss: 0.4212 - accuracy: 0.9426\n",
            "Epoch 17/30\n",
            "16/16 [==============================] - 0s 25ms/step - loss: 0.3135 - accuracy: 0.9672\n",
            "Epoch 18/30\n",
            "16/16 [==============================] - 0s 26ms/step - loss: 0.2939 - accuracy: 0.9590\n",
            "Epoch 19/30\n",
            "16/16 [==============================] - 0s 25ms/step - loss: 0.2253 - accuracy: 0.9590\n",
            "Epoch 20/30\n",
            "16/16 [==============================] - 0s 22ms/step - loss: 0.1829 - accuracy: 0.9918\n",
            "Epoch 21/30\n",
            "16/16 [==============================] - 0s 26ms/step - loss: 0.1519 - accuracy: 0.9754\n",
            "Epoch 22/30\n",
            "16/16 [==============================] - 0s 22ms/step - loss: 0.0909 - accuracy: 0.9836\n",
            "Epoch 23/30\n",
            "16/16 [==============================] - 0s 22ms/step - loss: 0.1094 - accuracy: 0.9836\n",
            "Epoch 24/30\n",
            "16/16 [==============================] - 0s 25ms/step - loss: 0.1412 - accuracy: 0.9754\n",
            "Epoch 25/30\n",
            "16/16 [==============================] - 0s 25ms/step - loss: 0.0473 - accuracy: 1.0000\n",
            "Epoch 26/30\n",
            "16/16 [==============================] - 0s 25ms/step - loss: 0.0261 - accuracy: 1.0000\n",
            "Epoch 27/30\n",
            "16/16 [==============================] - 0s 23ms/step - loss: 0.0271 - accuracy: 1.0000\n",
            "Epoch 28/30\n",
            "16/16 [==============================] - 0s 23ms/step - loss: 0.0717 - accuracy: 0.9836\n",
            "Epoch 29/30\n",
            "16/16 [==============================] - 0s 20ms/step - loss: 0.0352 - accuracy: 0.9918\n",
            "Epoch 30/30\n",
            "16/16 [==============================] - 0s 21ms/step - loss: 0.0131 - accuracy: 1.0000\n"
          ]
        }
      ]
    },
    {
      "cell_type": "markdown",
      "source": [
        "##Création du prédicteur"
      ],
      "metadata": {
        "id": "WVYdnJywpAdW"
      }
    },
    {
      "cell_type": "code",
      "source": [
        "from random import choice\n",
        "\n",
        "#On va décider de la première lettre :\n",
        "#lettre = 'é'\n",
        "lettre = choice(liste_lettres)\n",
        "\n",
        "#On récupère la dernière séquence\n",
        "sequence=\"dre arthur\"\n",
        "\n",
        "#On ajoute à la fin un caractère espace et la lettre choisie et on supprime les 2 premiers caractères\n",
        "sequence += ' ' + lettre\n",
        "sequence = sequence[2:]\n",
        "\n",
        "#print(len(sequence),sequence)\n",
        "\n",
        "#On crée une nouvelle chaine pour stocker les prénoms générés en commençant par la lettre choisie :\n",
        "prenoms_generes = lettre\n",
        "\n",
        "#On donne combien de noms vont être générés :\n",
        "nombre_noms = 10\n",
        "\n",
        "while nombre_noms > 0 :\n",
        "  X = []\n",
        "\n",
        "  #on recrée X\n",
        "  for caractere in sequence :\n",
        "    indice = liste_lettres.index(caractere)\n",
        "    X.append(indice)\n",
        "\n",
        "  #On to_categorical X\n",
        "  X = to_categorical(X, categories)\n",
        "\n",
        "  #il faut reshape X pour avoir un tenseur en 3 dimensions\n",
        "  X = np.reshape(X, (1,X.shape[0],X.shape[1]))\n",
        "  #print(X.shape)\n",
        "\n",
        "  #On prédit le vecteur de probabilités\n",
        "  probas = modele.predict(X, verbose = 0)\n",
        "  probas = probas[0]\n",
        "\n",
        "  #On choisit aléatoirement l'indice parmi les catégories en utilisant la distribution calculée\n",
        "  indice = np.random.choice(categories, p=probas)\n",
        "\n",
        "  #On récupère la lettre correspondante et on l'ajoute à la liste des prénoms\n",
        "  lettre = liste_lettres[indice]\n",
        "  prenoms_generes += lettre\n",
        "\n",
        "  #On refait la séquence d'entrée du prédicteur\n",
        "  sequence += lettre\n",
        "  sequence = sequence[1:]\n",
        "\n",
        "  #Si la lettre est le séparateur, on a nouveau nom\n",
        "  if lettre == ' ':\n",
        "    nombre_noms -= 1\n",
        "    print(\"noms générés : \", 10 - nombre_noms)\n",
        "\n",
        "prenoms = prenoms_generes.split()\n",
        "print(\"Voici les 10 prénoms générés\")\n",
        "for prenom in prenoms :\n",
        "  print(prenom.capitalize())"
      ],
      "metadata": {
        "colab": {
          "base_uri": "https://localhost:8080/"
        },
        "id": "wYeSx1hLpSvn",
        "outputId": "dca7e04a-8409-4376-991c-1fd33984bd37"
      },
      "execution_count": null,
      "outputs": [
        {
          "output_type": "stream",
          "name": "stdout",
          "text": [
            "noms générés :  1\n",
            "noms générés :  2\n",
            "noms générés :  3\n",
            "noms générés :  4\n",
            "noms générés :  5\n",
            "noms générés :  6\n",
            "noms générés :  7\n",
            "noms générés :  8\n",
            "noms générés :  9\n",
            "noms générés :  10\n",
            "Voici les 10 prénoms générés\n",
            "Oamhl\n",
            "Earlic\n",
            "Adre\n",
            "R\n",
            "Thée\n",
            "Mazicc\n",
            "Arriel\n",
            "Théo\n",
            "Maeva\n",
            "Samy\n"
          ]
        }
      ]
    },
    {
      "cell_type": "code",
      "source": [
        "print(prenoms)"
      ],
      "metadata": {
        "colab": {
          "base_uri": "https://localhost:8080/"
        },
        "id": "O2cjqHbXc2mu",
        "outputId": "c946aece-7b89-4f3d-f5bd-0eb9b889d4af"
      },
      "execution_count": null,
      "outputs": [
        {
          "output_type": "stream",
          "name": "stdout",
          "text": [
            "['oamhl', 'earlic', 'adre', 'r', 'thée', 'mazicc', 'arriel', 'théo', 'maeva', 'samy']\n"
          ]
        }
      ]
    },
    {
      "cell_type": "code",
      "source": [
        "liste_prenoms = [\"Benjamin\", \"Danylo\", \"Paul\", \"Ethan\", \"Hazem\", \"Noé\", \"Raphaël\", \"Karliss\", \"Gabriel\",\n",
        "                 \"Timothée\",\"Soizic\",\"Adrien\",\"Théo\",\"Maeva\",\"Samy\",\"Camille\",\"Romain\",\"Alexandre\",\"Arthur\"]"
      ],
      "metadata": {
        "colab": {
          "base_uri": "https://localhost:8080/",
          "height": 36
        },
        "id": "ANMNIMTTdPjr",
        "outputId": "a89a4429-6314-4a06-c242-68b9dbeb2d21"
      },
      "execution_count": null,
      "outputs": [
        {
          "output_type": "execute_result",
          "data": {
            "text/plain": [
              "'a'"
            ],
            "application/vnd.google.colaboratory.intrinsic+json": {
              "type": "string"
            }
          },
          "metadata": {},
          "execution_count": 15
        }
      ]
    },
    {
      "cell_type": "markdown",
      "source": [
        "#Avec des listes de prénoms déjà faites\n",
        "\n",
        "On va utiliser la liste de prénoms donnée ici : https://www.data.gouv.fr/fr/datasets/liste-de-prenoms/#resources"
      ],
      "metadata": {
        "id": "SJkeI9idmgDn"
      }
    },
    {
      "cell_type": "code",
      "source": [
        "import os\n",
        "\n",
        "!wget \"https://www.data.gouv.fr/fr/datasets/r/55cd803a-998d-4a5c-9741-4cd0ee0a7699\"\n",
        "os.rename(\"/content/55cd803a-998d-4a5c-9741-4cd0ee0a7699\",\"/content/prenoms.csv\" )"
      ],
      "metadata": {
        "colab": {
          "base_uri": "https://localhost:8080/"
        },
        "id": "wNW3GS_Jmx6Q",
        "outputId": "1b725c47-cc39-428e-8008-0fbecff7217f"
      },
      "execution_count": null,
      "outputs": [
        {
          "output_type": "stream",
          "name": "stdout",
          "text": [
            "--2023-01-28 13:12:23--  https://www.data.gouv.fr/fr/datasets/r/55cd803a-998d-4a5c-9741-4cd0ee0a7699\n",
            "Resolving www.data.gouv.fr (www.data.gouv.fr)... 37.59.183.93\n",
            "Connecting to www.data.gouv.fr (www.data.gouv.fr)|37.59.183.93|:443... connected.\n",
            "HTTP request sent, awaiting response... 302 FOUND\n",
            "Location: https://static.data.gouv.fr/resources/liste-de-prenoms/20141127-154433/Prenoms.csv [following]\n",
            "--2023-01-28 13:12:25--  https://static.data.gouv.fr/resources/liste-de-prenoms/20141127-154433/Prenoms.csv\n",
            "Resolving static.data.gouv.fr (static.data.gouv.fr)... 37.59.183.93\n",
            "Connecting to static.data.gouv.fr (static.data.gouv.fr)|37.59.183.93|:443... connected.\n",
            "HTTP request sent, awaiting response... 200 OK\n",
            "Length: 265821 (260K) [text/csv]\n",
            "Saving to: ‘55cd803a-998d-4a5c-9741-4cd0ee0a7699’\n",
            "\n",
            "55cd803a-998d-4a5c- 100%[===================>] 259.59K   245KB/s    in 1.1s    \n",
            "\n",
            "2023-01-28 13:12:27 (245 KB/s) - ‘55cd803a-998d-4a5c-9741-4cd0ee0a7699’ saved [265821/265821]\n",
            "\n"
          ]
        }
      ]
    },
    {
      "cell_type": "code",
      "source": [
        "import pandas as pd\n",
        "\n",
        "#Attention, les caractères du csv sont codées en latin-1 et non en utf-8\n",
        "#Bien évidemment, les créateurs n'ont pas utilisés une virgule comme séparateur mais un ;\n",
        "data_prenoms = pd.read_csv(\"prenoms.csv\", sep=\";\", encoding = 'latin-1')\n",
        "\n",
        "data_prenoms.columns = ['prenom','genre','langage','frequence']\n",
        "data_prenoms.sample(20)"
      ],
      "metadata": {
        "colab": {
          "base_uri": "https://localhost:8080/",
          "height": 676
        },
        "id": "peVYBxKAnRn7",
        "outputId": "d23cd921-4430-448d-d201-815f46182014"
      },
      "execution_count": null,
      "outputs": [
        {
          "output_type": "execute_result",
          "data": {
            "text/plain": [
              "           prenom genre                                      langage  \\\n",
              "1010       aurora     f                              roman mythology   \n",
              "6637    livia (1)     f  italian, portuguese, english, ancient roman   \n",
              "1121         banu     f                                      turkish   \n",
              "4371        hajna     f                                    hungarian   \n",
              "9795        shana     f                                      english   \n",
              "4099    glendower     m                                        welsh   \n",
              "6131      kondrat     m                                       polish   \n",
              "845        arkadi     m                                      russian   \n",
              "2228       costel     m                                     romanian   \n",
              "10859       ulric     m                                      english   \n",
              "10962        varg     m                                    norwegian   \n",
              "7290      mateusz     m                                       polish   \n",
              "10571    thracius     m                                ancient roman   \n",
              "5681       justus     m                                ancient roman   \n",
              "3028   elissa (1)     f                              roman mythology   \n",
              "992       augusto     m                 spanish, italian, portuguese   \n",
              "9886      shevaun     f                               irish, english   \n",
              "1369       bilhah     f                                     biblical   \n",
              "1435    boleslawa     f                                       polish   \n",
              "99            adi     f                                       jewish   \n",
              "\n",
              "       frequence  \n",
              "1010        0.29  \n",
              "6637        0.00  \n",
              "1121        0.00  \n",
              "4371        0.00  \n",
              "9795        0.00  \n",
              "4099        0.00  \n",
              "6131        0.03  \n",
              "845         0.03  \n",
              "2228        0.00  \n",
              "10859       0.00  \n",
              "10962       0.00  \n",
              "7290        0.00  \n",
              "10571       0.00  \n",
              "5681        0.16  \n",
              "3028        0.00  \n",
              "992         2.55  \n",
              "9886        0.00  \n",
              "1369        0.00  \n",
              "1435        0.00  \n",
              "99          0.00  "
            ],
            "text/html": [
              "\n",
              "  <div id=\"df-fa5f16f9-76d8-4ce7-aef7-68d526cb29f2\">\n",
              "    <div class=\"colab-df-container\">\n",
              "      <div>\n",
              "<style scoped>\n",
              "    .dataframe tbody tr th:only-of-type {\n",
              "        vertical-align: middle;\n",
              "    }\n",
              "\n",
              "    .dataframe tbody tr th {\n",
              "        vertical-align: top;\n",
              "    }\n",
              "\n",
              "    .dataframe thead th {\n",
              "        text-align: right;\n",
              "    }\n",
              "</style>\n",
              "<table border=\"1\" class=\"dataframe\">\n",
              "  <thead>\n",
              "    <tr style=\"text-align: right;\">\n",
              "      <th></th>\n",
              "      <th>prenom</th>\n",
              "      <th>genre</th>\n",
              "      <th>langage</th>\n",
              "      <th>frequence</th>\n",
              "    </tr>\n",
              "  </thead>\n",
              "  <tbody>\n",
              "    <tr>\n",
              "      <th>1010</th>\n",
              "      <td>aurora</td>\n",
              "      <td>f</td>\n",
              "      <td>roman mythology</td>\n",
              "      <td>0.29</td>\n",
              "    </tr>\n",
              "    <tr>\n",
              "      <th>6637</th>\n",
              "      <td>livia (1)</td>\n",
              "      <td>f</td>\n",
              "      <td>italian, portuguese, english, ancient roman</td>\n",
              "      <td>0.00</td>\n",
              "    </tr>\n",
              "    <tr>\n",
              "      <th>1121</th>\n",
              "      <td>banu</td>\n",
              "      <td>f</td>\n",
              "      <td>turkish</td>\n",
              "      <td>0.00</td>\n",
              "    </tr>\n",
              "    <tr>\n",
              "      <th>4371</th>\n",
              "      <td>hajna</td>\n",
              "      <td>f</td>\n",
              "      <td>hungarian</td>\n",
              "      <td>0.00</td>\n",
              "    </tr>\n",
              "    <tr>\n",
              "      <th>9795</th>\n",
              "      <td>shana</td>\n",
              "      <td>f</td>\n",
              "      <td>english</td>\n",
              "      <td>0.00</td>\n",
              "    </tr>\n",
              "    <tr>\n",
              "      <th>4099</th>\n",
              "      <td>glendower</td>\n",
              "      <td>m</td>\n",
              "      <td>welsh</td>\n",
              "      <td>0.00</td>\n",
              "    </tr>\n",
              "    <tr>\n",
              "      <th>6131</th>\n",
              "      <td>kondrat</td>\n",
              "      <td>m</td>\n",
              "      <td>polish</td>\n",
              "      <td>0.03</td>\n",
              "    </tr>\n",
              "    <tr>\n",
              "      <th>845</th>\n",
              "      <td>arkadi</td>\n",
              "      <td>m</td>\n",
              "      <td>russian</td>\n",
              "      <td>0.03</td>\n",
              "    </tr>\n",
              "    <tr>\n",
              "      <th>2228</th>\n",
              "      <td>costel</td>\n",
              "      <td>m</td>\n",
              "      <td>romanian</td>\n",
              "      <td>0.00</td>\n",
              "    </tr>\n",
              "    <tr>\n",
              "      <th>10859</th>\n",
              "      <td>ulric</td>\n",
              "      <td>m</td>\n",
              "      <td>english</td>\n",
              "      <td>0.00</td>\n",
              "    </tr>\n",
              "    <tr>\n",
              "      <th>10962</th>\n",
              "      <td>varg</td>\n",
              "      <td>m</td>\n",
              "      <td>norwegian</td>\n",
              "      <td>0.00</td>\n",
              "    </tr>\n",
              "    <tr>\n",
              "      <th>7290</th>\n",
              "      <td>mateusz</td>\n",
              "      <td>m</td>\n",
              "      <td>polish</td>\n",
              "      <td>0.00</td>\n",
              "    </tr>\n",
              "    <tr>\n",
              "      <th>10571</th>\n",
              "      <td>thracius</td>\n",
              "      <td>m</td>\n",
              "      <td>ancient roman</td>\n",
              "      <td>0.00</td>\n",
              "    </tr>\n",
              "    <tr>\n",
              "      <th>5681</th>\n",
              "      <td>justus</td>\n",
              "      <td>m</td>\n",
              "      <td>ancient roman</td>\n",
              "      <td>0.16</td>\n",
              "    </tr>\n",
              "    <tr>\n",
              "      <th>3028</th>\n",
              "      <td>elissa (1)</td>\n",
              "      <td>f</td>\n",
              "      <td>roman mythology</td>\n",
              "      <td>0.00</td>\n",
              "    </tr>\n",
              "    <tr>\n",
              "      <th>992</th>\n",
              "      <td>augusto</td>\n",
              "      <td>m</td>\n",
              "      <td>spanish, italian, portuguese</td>\n",
              "      <td>2.55</td>\n",
              "    </tr>\n",
              "    <tr>\n",
              "      <th>9886</th>\n",
              "      <td>shevaun</td>\n",
              "      <td>f</td>\n",
              "      <td>irish, english</td>\n",
              "      <td>0.00</td>\n",
              "    </tr>\n",
              "    <tr>\n",
              "      <th>1369</th>\n",
              "      <td>bilhah</td>\n",
              "      <td>f</td>\n",
              "      <td>biblical</td>\n",
              "      <td>0.00</td>\n",
              "    </tr>\n",
              "    <tr>\n",
              "      <th>1435</th>\n",
              "      <td>boleslawa</td>\n",
              "      <td>f</td>\n",
              "      <td>polish</td>\n",
              "      <td>0.00</td>\n",
              "    </tr>\n",
              "    <tr>\n",
              "      <th>99</th>\n",
              "      <td>adi</td>\n",
              "      <td>f</td>\n",
              "      <td>jewish</td>\n",
              "      <td>0.00</td>\n",
              "    </tr>\n",
              "  </tbody>\n",
              "</table>\n",
              "</div>\n",
              "      <button class=\"colab-df-convert\" onclick=\"convertToInteractive('df-fa5f16f9-76d8-4ce7-aef7-68d526cb29f2')\"\n",
              "              title=\"Convert this dataframe to an interactive table.\"\n",
              "              style=\"display:none;\">\n",
              "        \n",
              "  <svg xmlns=\"http://www.w3.org/2000/svg\" height=\"24px\"viewBox=\"0 0 24 24\"\n",
              "       width=\"24px\">\n",
              "    <path d=\"M0 0h24v24H0V0z\" fill=\"none\"/>\n",
              "    <path d=\"M18.56 5.44l.94 2.06.94-2.06 2.06-.94-2.06-.94-.94-2.06-.94 2.06-2.06.94zm-11 1L8.5 8.5l.94-2.06 2.06-.94-2.06-.94L8.5 2.5l-.94 2.06-2.06.94zm10 10l.94 2.06.94-2.06 2.06-.94-2.06-.94-.94-2.06-.94 2.06-2.06.94z\"/><path d=\"M17.41 7.96l-1.37-1.37c-.4-.4-.92-.59-1.43-.59-.52 0-1.04.2-1.43.59L10.3 9.45l-7.72 7.72c-.78.78-.78 2.05 0 2.83L4 21.41c.39.39.9.59 1.41.59.51 0 1.02-.2 1.41-.59l7.78-7.78 2.81-2.81c.8-.78.8-2.07 0-2.86zM5.41 20L4 18.59l7.72-7.72 1.47 1.35L5.41 20z\"/>\n",
              "  </svg>\n",
              "      </button>\n",
              "      \n",
              "  <style>\n",
              "    .colab-df-container {\n",
              "      display:flex;\n",
              "      flex-wrap:wrap;\n",
              "      gap: 12px;\n",
              "    }\n",
              "\n",
              "    .colab-df-convert {\n",
              "      background-color: #E8F0FE;\n",
              "      border: none;\n",
              "      border-radius: 50%;\n",
              "      cursor: pointer;\n",
              "      display: none;\n",
              "      fill: #1967D2;\n",
              "      height: 32px;\n",
              "      padding: 0 0 0 0;\n",
              "      width: 32px;\n",
              "    }\n",
              "\n",
              "    .colab-df-convert:hover {\n",
              "      background-color: #E2EBFA;\n",
              "      box-shadow: 0px 1px 2px rgba(60, 64, 67, 0.3), 0px 1px 3px 1px rgba(60, 64, 67, 0.15);\n",
              "      fill: #174EA6;\n",
              "    }\n",
              "\n",
              "    [theme=dark] .colab-df-convert {\n",
              "      background-color: #3B4455;\n",
              "      fill: #D2E3FC;\n",
              "    }\n",
              "\n",
              "    [theme=dark] .colab-df-convert:hover {\n",
              "      background-color: #434B5C;\n",
              "      box-shadow: 0px 1px 3px 1px rgba(0, 0, 0, 0.15);\n",
              "      filter: drop-shadow(0px 1px 2px rgba(0, 0, 0, 0.3));\n",
              "      fill: #FFFFFF;\n",
              "    }\n",
              "  </style>\n",
              "\n",
              "      <script>\n",
              "        const buttonEl =\n",
              "          document.querySelector('#df-fa5f16f9-76d8-4ce7-aef7-68d526cb29f2 button.colab-df-convert');\n",
              "        buttonEl.style.display =\n",
              "          google.colab.kernel.accessAllowed ? 'block' : 'none';\n",
              "\n",
              "        async function convertToInteractive(key) {\n",
              "          const element = document.querySelector('#df-fa5f16f9-76d8-4ce7-aef7-68d526cb29f2');\n",
              "          const dataTable =\n",
              "            await google.colab.kernel.invokeFunction('convertToInteractive',\n",
              "                                                     [key], {});\n",
              "          if (!dataTable) return;\n",
              "\n",
              "          const docLinkHtml = 'Like what you see? Visit the ' +\n",
              "            '<a target=\"_blank\" href=https://colab.research.google.com/notebooks/data_table.ipynb>data table notebook</a>'\n",
              "            + ' to learn more about interactive tables.';\n",
              "          element.innerHTML = '';\n",
              "          dataTable['output_type'] = 'display_data';\n",
              "          await google.colab.output.renderOutput(dataTable, element);\n",
              "          const docLink = document.createElement('div');\n",
              "          docLink.innerHTML = docLinkHtml;\n",
              "          element.appendChild(docLink);\n",
              "        }\n",
              "      </script>\n",
              "    </div>\n",
              "  </div>\n",
              "  "
            ]
          },
          "metadata": {},
          "execution_count": 16
        }
      ]
    },
    {
      "cell_type": "code",
      "source": [
        "data_prenoms_sansna = data_prenoms.dropna()\n",
        "\n",
        "data_prenoms_sansna[data_prenoms_sansna.prenom.str.contains(\"livia\")]"
      ],
      "metadata": {
        "colab": {
          "base_uri": "https://localhost:8080/",
          "height": 175
        },
        "id": "KXnFR1TOmqaS",
        "outputId": "ce992c8e-a96a-4125-d907-24ae447c0127"
      },
      "execution_count": null,
      "outputs": [
        {
          "output_type": "execute_result",
          "data": {
            "text/plain": [
              "         prenom genre                                      langage  frequence\n",
              "6637  livia (1)     f  italian, portuguese, english, ancient roman       0.00\n",
              "6638  livia (2)     f                                      english       0.00\n",
              "6639    liviana     f                       italian, ancient roman       0.00\n",
              "8243     olivia     f                                      english       1.27"
            ],
            "text/html": [
              "\n",
              "  <div id=\"df-b992f8e8-9c9e-4d27-bf4b-552bc1886ffe\">\n",
              "    <div class=\"colab-df-container\">\n",
              "      <div>\n",
              "<style scoped>\n",
              "    .dataframe tbody tr th:only-of-type {\n",
              "        vertical-align: middle;\n",
              "    }\n",
              "\n",
              "    .dataframe tbody tr th {\n",
              "        vertical-align: top;\n",
              "    }\n",
              "\n",
              "    .dataframe thead th {\n",
              "        text-align: right;\n",
              "    }\n",
              "</style>\n",
              "<table border=\"1\" class=\"dataframe\">\n",
              "  <thead>\n",
              "    <tr style=\"text-align: right;\">\n",
              "      <th></th>\n",
              "      <th>prenom</th>\n",
              "      <th>genre</th>\n",
              "      <th>langage</th>\n",
              "      <th>frequence</th>\n",
              "    </tr>\n",
              "  </thead>\n",
              "  <tbody>\n",
              "    <tr>\n",
              "      <th>6637</th>\n",
              "      <td>livia (1)</td>\n",
              "      <td>f</td>\n",
              "      <td>italian, portuguese, english, ancient roman</td>\n",
              "      <td>0.00</td>\n",
              "    </tr>\n",
              "    <tr>\n",
              "      <th>6638</th>\n",
              "      <td>livia (2)</td>\n",
              "      <td>f</td>\n",
              "      <td>english</td>\n",
              "      <td>0.00</td>\n",
              "    </tr>\n",
              "    <tr>\n",
              "      <th>6639</th>\n",
              "      <td>liviana</td>\n",
              "      <td>f</td>\n",
              "      <td>italian, ancient roman</td>\n",
              "      <td>0.00</td>\n",
              "    </tr>\n",
              "    <tr>\n",
              "      <th>8243</th>\n",
              "      <td>olivia</td>\n",
              "      <td>f</td>\n",
              "      <td>english</td>\n",
              "      <td>1.27</td>\n",
              "    </tr>\n",
              "  </tbody>\n",
              "</table>\n",
              "</div>\n",
              "      <button class=\"colab-df-convert\" onclick=\"convertToInteractive('df-b992f8e8-9c9e-4d27-bf4b-552bc1886ffe')\"\n",
              "              title=\"Convert this dataframe to an interactive table.\"\n",
              "              style=\"display:none;\">\n",
              "        \n",
              "  <svg xmlns=\"http://www.w3.org/2000/svg\" height=\"24px\"viewBox=\"0 0 24 24\"\n",
              "       width=\"24px\">\n",
              "    <path d=\"M0 0h24v24H0V0z\" fill=\"none\"/>\n",
              "    <path d=\"M18.56 5.44l.94 2.06.94-2.06 2.06-.94-2.06-.94-.94-2.06-.94 2.06-2.06.94zm-11 1L8.5 8.5l.94-2.06 2.06-.94-2.06-.94L8.5 2.5l-.94 2.06-2.06.94zm10 10l.94 2.06.94-2.06 2.06-.94-2.06-.94-.94-2.06-.94 2.06-2.06.94z\"/><path d=\"M17.41 7.96l-1.37-1.37c-.4-.4-.92-.59-1.43-.59-.52 0-1.04.2-1.43.59L10.3 9.45l-7.72 7.72c-.78.78-.78 2.05 0 2.83L4 21.41c.39.39.9.59 1.41.59.51 0 1.02-.2 1.41-.59l7.78-7.78 2.81-2.81c.8-.78.8-2.07 0-2.86zM5.41 20L4 18.59l7.72-7.72 1.47 1.35L5.41 20z\"/>\n",
              "  </svg>\n",
              "      </button>\n",
              "      \n",
              "  <style>\n",
              "    .colab-df-container {\n",
              "      display:flex;\n",
              "      flex-wrap:wrap;\n",
              "      gap: 12px;\n",
              "    }\n",
              "\n",
              "    .colab-df-convert {\n",
              "      background-color: #E8F0FE;\n",
              "      border: none;\n",
              "      border-radius: 50%;\n",
              "      cursor: pointer;\n",
              "      display: none;\n",
              "      fill: #1967D2;\n",
              "      height: 32px;\n",
              "      padding: 0 0 0 0;\n",
              "      width: 32px;\n",
              "    }\n",
              "\n",
              "    .colab-df-convert:hover {\n",
              "      background-color: #E2EBFA;\n",
              "      box-shadow: 0px 1px 2px rgba(60, 64, 67, 0.3), 0px 1px 3px 1px rgba(60, 64, 67, 0.15);\n",
              "      fill: #174EA6;\n",
              "    }\n",
              "\n",
              "    [theme=dark] .colab-df-convert {\n",
              "      background-color: #3B4455;\n",
              "      fill: #D2E3FC;\n",
              "    }\n",
              "\n",
              "    [theme=dark] .colab-df-convert:hover {\n",
              "      background-color: #434B5C;\n",
              "      box-shadow: 0px 1px 3px 1px rgba(0, 0, 0, 0.15);\n",
              "      filter: drop-shadow(0px 1px 2px rgba(0, 0, 0, 0.3));\n",
              "      fill: #FFFFFF;\n",
              "    }\n",
              "  </style>\n",
              "\n",
              "      <script>\n",
              "        const buttonEl =\n",
              "          document.querySelector('#df-b992f8e8-9c9e-4d27-bf4b-552bc1886ffe button.colab-df-convert');\n",
              "        buttonEl.style.display =\n",
              "          google.colab.kernel.accessAllowed ? 'block' : 'none';\n",
              "\n",
              "        async function convertToInteractive(key) {\n",
              "          const element = document.querySelector('#df-b992f8e8-9c9e-4d27-bf4b-552bc1886ffe');\n",
              "          const dataTable =\n",
              "            await google.colab.kernel.invokeFunction('convertToInteractive',\n",
              "                                                     [key], {});\n",
              "          if (!dataTable) return;\n",
              "\n",
              "          const docLinkHtml = 'Like what you see? Visit the ' +\n",
              "            '<a target=\"_blank\" href=https://colab.research.google.com/notebooks/data_table.ipynb>data table notebook</a>'\n",
              "            + ' to learn more about interactive tables.';\n",
              "          element.innerHTML = '';\n",
              "          dataTable['output_type'] = 'display_data';\n",
              "          await google.colab.output.renderOutput(dataTable, element);\n",
              "          const docLink = document.createElement('div');\n",
              "          docLink.innerHTML = docLinkHtml;\n",
              "          element.appendChild(docLink);\n",
              "        }\n",
              "      </script>\n",
              "    </div>\n",
              "  </div>\n",
              "  "
            ]
          },
          "metadata": {},
          "execution_count": 33
        }
      ]
    },
    {
      "cell_type": "code",
      "source": [
        "data_prenoms.info()"
      ],
      "metadata": {
        "colab": {
          "base_uri": "https://localhost:8080/"
        },
        "id": "u6Vi5NNrqxdy",
        "outputId": "8e3b5e08-869a-4e0b-f09c-eeb6077f7664"
      },
      "execution_count": null,
      "outputs": [
        {
          "output_type": "stream",
          "name": "stdout",
          "text": [
            "<class 'pandas.core.frame.DataFrame'>\n",
            "RangeIndex: 11627 entries, 0 to 11626\n",
            "Data columns (total 4 columns):\n",
            " #   Column     Non-Null Count  Dtype  \n",
            "---  ------     --------------  -----  \n",
            " 0   prenom     11626 non-null  object \n",
            " 1   genre      11627 non-null  object \n",
            " 2   langage    11627 non-null  object \n",
            " 3   frequence  11627 non-null  float64\n",
            "dtypes: float64(1), object(3)\n",
            "memory usage: 363.5+ KB\n"
          ]
        }
      ]
    },
    {
      "cell_type": "code",
      "source": [
        "from tqdm import tqdm\n",
        "\n",
        "#On remplit les NA de langage par 'french'\n",
        "data_prenoms[\"langage\"] = data_prenoms[\"langage\"].fillna(value=\"french\")\n",
        "\n",
        "#On va récupérer seulement les noms qui ont comme langue 'french'\n",
        "#data_prenoms_french = data_prenoms[data_prenoms.langage.str.contains('french')]\n",
        "\n",
        "#si on veut sélectionner plusieurs langues\n",
        "data_prenoms_ita_french = pd.concat([data_prenoms[data_prenoms.langage.str.contains('french')], data_prenoms[data_prenoms.langage.str.contains('italian')]])\n",
        "\n",
        "#On récupère la colonne avec les prénoms\n",
        "prenoms = data_prenoms_ita_french['prenom']\n",
        "\n",
        "#On supprime les éléments vide avec dropna\n",
        "prenoms = prenoms.dropna()\n",
        "\n",
        "#on la convertit en liste\n",
        "liste_prenoms = []\n",
        "\n",
        "for prenom in tqdm(prenoms):\n",
        "  #S'il y a une parenthèse, on ne garde que le prénom\n",
        "  if '(' in prenom :\n",
        "    prenom = prenom.split()[0]\n",
        "\n",
        "  #On vérifie qu'il n'y ait pas de doublons\n",
        "  if prenom not in liste_prenoms and '(' not in prenom :\n",
        "    liste_prenoms.append(prenom)\n"
      ],
      "metadata": {
        "id": "Es73e6MbpHOD",
        "colab": {
          "base_uri": "https://localhost:8080/"
        },
        "outputId": "a2f66551-b368-4ba3-db3a-a3ab6f7bdcd0"
      },
      "execution_count": null,
      "outputs": [
        {
          "output_type": "stream",
          "name": "stderr",
          "text": [
            "100%|██████████| 1698/1698 [00:00<00:00, 67707.30it/s]\n"
          ]
        }
      ]
    },
    {
      "cell_type": "code",
      "source": [
        "print(len(liste_prenoms))"
      ],
      "metadata": {
        "colab": {
          "base_uri": "https://localhost:8080/"
        },
        "id": "4-4Nwr5fpxcn",
        "outputId": "d4e85e06-2143-4599-8888-49d984009b9f"
      },
      "execution_count": null,
      "outputs": [
        {
          "output_type": "stream",
          "name": "stdout",
          "text": [
            "1692\n"
          ]
        }
      ]
    },
    {
      "cell_type": "code",
      "source": [
        "#si on veut sélectionner plusieurs langues\n",
        "data_prenoms_ita_french = pd.concat([data_prenoms[data_prenoms.langage.str.contains('french')], data_prenoms[data_prenoms.langage.str.contains('italian')]])\n",
        "\n",
        "data_prenoms_ita_french.sample(20)"
      ],
      "metadata": {
        "colab": {
          "base_uri": "https://localhost:8080/",
          "height": 676
        },
        "id": "WC5ty1hGjD0T",
        "outputId": "8c2da840-1f11-4575-f95a-feea5b95eeb5"
      },
      "execution_count": null,
      "outputs": [
        {
          "output_type": "execute_result",
          "data": {
            "text/plain": [
              "              prenom genre                                            langage  \\\n",
              "6403          lazare     m                                             french   \n",
              "3265        estachio     m                                            italian   \n",
              "4787        ianthina     f                                             french   \n",
              "11464         yvette     f                                             french   \n",
              "2075         clément     m                                             french   \n",
              "367          alfredo     m                       italian, spanish, portuguese   \n",
              "9089          régine     f                                             french   \n",
              "7274          marzio     m                                            italian   \n",
              "3254           esmée     f                                             french   \n",
              "3793          gaétan     m                                             french   \n",
              "3404         fabiola     f                            italian, french, german   \n",
              "1743         carmela     f                                   italian, spanish   \n",
              "7455          meraud     f                                             french   \n",
              "820          arianne     f                                             french   \n",
              "4031          gilles     m                                             french   \n",
              "6361         laurent     m                                             french   \n",
              "8730         placida     f                                late roman, italian   \n",
              "5305   jean-baptiste     m                                             french   \n",
              "7186          marise     f                                             french   \n",
              "11111       virginia     f  english, italian, spanish, portuguese, danish,...   \n",
              "\n",
              "       frequence  \n",
              "6403        4.43  \n",
              "3265        0.00  \n",
              "4787        0.00  \n",
              "11464       2.20  \n",
              "2075        6.69  \n",
              "367         0.41  \n",
              "9089        0.35  \n",
              "7274        0.00  \n",
              "3254        0.96  \n",
              "3793        0.03  \n",
              "3404        0.10  \n",
              "1743        0.03  \n",
              "7455        0.00  \n",
              "820         0.00  \n",
              "4031        8.76  \n",
              "6361       28.80  \n",
              "8730        0.00  \n",
              "5305        0.00  \n",
              "7186        0.03  \n",
              "11111       3.03  "
            ],
            "text/html": [
              "\n",
              "  <div id=\"df-e82106cf-9d25-42b0-b439-f23c800d5b42\">\n",
              "    <div class=\"colab-df-container\">\n",
              "      <div>\n",
              "<style scoped>\n",
              "    .dataframe tbody tr th:only-of-type {\n",
              "        vertical-align: middle;\n",
              "    }\n",
              "\n",
              "    .dataframe tbody tr th {\n",
              "        vertical-align: top;\n",
              "    }\n",
              "\n",
              "    .dataframe thead th {\n",
              "        text-align: right;\n",
              "    }\n",
              "</style>\n",
              "<table border=\"1\" class=\"dataframe\">\n",
              "  <thead>\n",
              "    <tr style=\"text-align: right;\">\n",
              "      <th></th>\n",
              "      <th>prenom</th>\n",
              "      <th>genre</th>\n",
              "      <th>langage</th>\n",
              "      <th>frequence</th>\n",
              "    </tr>\n",
              "  </thead>\n",
              "  <tbody>\n",
              "    <tr>\n",
              "      <th>6403</th>\n",
              "      <td>lazare</td>\n",
              "      <td>m</td>\n",
              "      <td>french</td>\n",
              "      <td>4.43</td>\n",
              "    </tr>\n",
              "    <tr>\n",
              "      <th>3265</th>\n",
              "      <td>estachio</td>\n",
              "      <td>m</td>\n",
              "      <td>italian</td>\n",
              "      <td>0.00</td>\n",
              "    </tr>\n",
              "    <tr>\n",
              "      <th>4787</th>\n",
              "      <td>ianthina</td>\n",
              "      <td>f</td>\n",
              "      <td>french</td>\n",
              "      <td>0.00</td>\n",
              "    </tr>\n",
              "    <tr>\n",
              "      <th>11464</th>\n",
              "      <td>yvette</td>\n",
              "      <td>f</td>\n",
              "      <td>french</td>\n",
              "      <td>2.20</td>\n",
              "    </tr>\n",
              "    <tr>\n",
              "      <th>2075</th>\n",
              "      <td>clément</td>\n",
              "      <td>m</td>\n",
              "      <td>french</td>\n",
              "      <td>6.69</td>\n",
              "    </tr>\n",
              "    <tr>\n",
              "      <th>367</th>\n",
              "      <td>alfredo</td>\n",
              "      <td>m</td>\n",
              "      <td>italian, spanish, portuguese</td>\n",
              "      <td>0.41</td>\n",
              "    </tr>\n",
              "    <tr>\n",
              "      <th>9089</th>\n",
              "      <td>régine</td>\n",
              "      <td>f</td>\n",
              "      <td>french</td>\n",
              "      <td>0.35</td>\n",
              "    </tr>\n",
              "    <tr>\n",
              "      <th>7274</th>\n",
              "      <td>marzio</td>\n",
              "      <td>m</td>\n",
              "      <td>italian</td>\n",
              "      <td>0.00</td>\n",
              "    </tr>\n",
              "    <tr>\n",
              "      <th>3254</th>\n",
              "      <td>esmée</td>\n",
              "      <td>f</td>\n",
              "      <td>french</td>\n",
              "      <td>0.96</td>\n",
              "    </tr>\n",
              "    <tr>\n",
              "      <th>3793</th>\n",
              "      <td>gaétan</td>\n",
              "      <td>m</td>\n",
              "      <td>french</td>\n",
              "      <td>0.03</td>\n",
              "    </tr>\n",
              "    <tr>\n",
              "      <th>3404</th>\n",
              "      <td>fabiola</td>\n",
              "      <td>f</td>\n",
              "      <td>italian, french, german</td>\n",
              "      <td>0.10</td>\n",
              "    </tr>\n",
              "    <tr>\n",
              "      <th>1743</th>\n",
              "      <td>carmela</td>\n",
              "      <td>f</td>\n",
              "      <td>italian, spanish</td>\n",
              "      <td>0.03</td>\n",
              "    </tr>\n",
              "    <tr>\n",
              "      <th>7455</th>\n",
              "      <td>meraud</td>\n",
              "      <td>f</td>\n",
              "      <td>french</td>\n",
              "      <td>0.00</td>\n",
              "    </tr>\n",
              "    <tr>\n",
              "      <th>820</th>\n",
              "      <td>arianne</td>\n",
              "      <td>f</td>\n",
              "      <td>french</td>\n",
              "      <td>0.00</td>\n",
              "    </tr>\n",
              "    <tr>\n",
              "      <th>4031</th>\n",
              "      <td>gilles</td>\n",
              "      <td>m</td>\n",
              "      <td>french</td>\n",
              "      <td>8.76</td>\n",
              "    </tr>\n",
              "    <tr>\n",
              "      <th>6361</th>\n",
              "      <td>laurent</td>\n",
              "      <td>m</td>\n",
              "      <td>french</td>\n",
              "      <td>28.80</td>\n",
              "    </tr>\n",
              "    <tr>\n",
              "      <th>8730</th>\n",
              "      <td>placida</td>\n",
              "      <td>f</td>\n",
              "      <td>late roman, italian</td>\n",
              "      <td>0.00</td>\n",
              "    </tr>\n",
              "    <tr>\n",
              "      <th>5305</th>\n",
              "      <td>jean-baptiste</td>\n",
              "      <td>m</td>\n",
              "      <td>french</td>\n",
              "      <td>0.00</td>\n",
              "    </tr>\n",
              "    <tr>\n",
              "      <th>7186</th>\n",
              "      <td>marise</td>\n",
              "      <td>f</td>\n",
              "      <td>french</td>\n",
              "      <td>0.03</td>\n",
              "    </tr>\n",
              "    <tr>\n",
              "      <th>11111</th>\n",
              "      <td>virginia</td>\n",
              "      <td>f</td>\n",
              "      <td>english, italian, spanish, portuguese, danish,...</td>\n",
              "      <td>3.03</td>\n",
              "    </tr>\n",
              "  </tbody>\n",
              "</table>\n",
              "</div>\n",
              "      <button class=\"colab-df-convert\" onclick=\"convertToInteractive('df-e82106cf-9d25-42b0-b439-f23c800d5b42')\"\n",
              "              title=\"Convert this dataframe to an interactive table.\"\n",
              "              style=\"display:none;\">\n",
              "        \n",
              "  <svg xmlns=\"http://www.w3.org/2000/svg\" height=\"24px\"viewBox=\"0 0 24 24\"\n",
              "       width=\"24px\">\n",
              "    <path d=\"M0 0h24v24H0V0z\" fill=\"none\"/>\n",
              "    <path d=\"M18.56 5.44l.94 2.06.94-2.06 2.06-.94-2.06-.94-.94-2.06-.94 2.06-2.06.94zm-11 1L8.5 8.5l.94-2.06 2.06-.94-2.06-.94L8.5 2.5l-.94 2.06-2.06.94zm10 10l.94 2.06.94-2.06 2.06-.94-2.06-.94-.94-2.06-.94 2.06-2.06.94z\"/><path d=\"M17.41 7.96l-1.37-1.37c-.4-.4-.92-.59-1.43-.59-.52 0-1.04.2-1.43.59L10.3 9.45l-7.72 7.72c-.78.78-.78 2.05 0 2.83L4 21.41c.39.39.9.59 1.41.59.51 0 1.02-.2 1.41-.59l7.78-7.78 2.81-2.81c.8-.78.8-2.07 0-2.86zM5.41 20L4 18.59l7.72-7.72 1.47 1.35L5.41 20z\"/>\n",
              "  </svg>\n",
              "      </button>\n",
              "      \n",
              "  <style>\n",
              "    .colab-df-container {\n",
              "      display:flex;\n",
              "      flex-wrap:wrap;\n",
              "      gap: 12px;\n",
              "    }\n",
              "\n",
              "    .colab-df-convert {\n",
              "      background-color: #E8F0FE;\n",
              "      border: none;\n",
              "      border-radius: 50%;\n",
              "      cursor: pointer;\n",
              "      display: none;\n",
              "      fill: #1967D2;\n",
              "      height: 32px;\n",
              "      padding: 0 0 0 0;\n",
              "      width: 32px;\n",
              "    }\n",
              "\n",
              "    .colab-df-convert:hover {\n",
              "      background-color: #E2EBFA;\n",
              "      box-shadow: 0px 1px 2px rgba(60, 64, 67, 0.3), 0px 1px 3px 1px rgba(60, 64, 67, 0.15);\n",
              "      fill: #174EA6;\n",
              "    }\n",
              "\n",
              "    [theme=dark] .colab-df-convert {\n",
              "      background-color: #3B4455;\n",
              "      fill: #D2E3FC;\n",
              "    }\n",
              "\n",
              "    [theme=dark] .colab-df-convert:hover {\n",
              "      background-color: #434B5C;\n",
              "      box-shadow: 0px 1px 3px 1px rgba(0, 0, 0, 0.15);\n",
              "      filter: drop-shadow(0px 1px 2px rgba(0, 0, 0, 0.3));\n",
              "      fill: #FFFFFF;\n",
              "    }\n",
              "  </style>\n",
              "\n",
              "      <script>\n",
              "        const buttonEl =\n",
              "          document.querySelector('#df-e82106cf-9d25-42b0-b439-f23c800d5b42 button.colab-df-convert');\n",
              "        buttonEl.style.display =\n",
              "          google.colab.kernel.accessAllowed ? 'block' : 'none';\n",
              "\n",
              "        async function convertToInteractive(key) {\n",
              "          const element = document.querySelector('#df-e82106cf-9d25-42b0-b439-f23c800d5b42');\n",
              "          const dataTable =\n",
              "            await google.colab.kernel.invokeFunction('convertToInteractive',\n",
              "                                                     [key], {});\n",
              "          if (!dataTable) return;\n",
              "\n",
              "          const docLinkHtml = 'Like what you see? Visit the ' +\n",
              "            '<a target=\"_blank\" href=https://colab.research.google.com/notebooks/data_table.ipynb>data table notebook</a>'\n",
              "            + ' to learn more about interactive tables.';\n",
              "          element.innerHTML = '';\n",
              "          dataTable['output_type'] = 'display_data';\n",
              "          await google.colab.output.renderOutput(dataTable, element);\n",
              "          const docLink = document.createElement('div');\n",
              "          docLink.innerHTML = docLinkHtml;\n",
              "          element.appendChild(docLink);\n",
              "        }\n",
              "      </script>\n",
              "    </div>\n",
              "  </div>\n",
              "  "
            ]
          },
          "metadata": {},
          "execution_count": 36
        }
      ]
    },
    {
      "cell_type": "code",
      "source": [
        "data_prenoms_ita_french.info()"
      ],
      "metadata": {
        "colab": {
          "base_uri": "https://localhost:8080/"
        },
        "id": "yIRGQolXjjpl",
        "outputId": "de03785e-4263-4553-be11-4ac3e3a14bcd"
      },
      "execution_count": null,
      "outputs": [
        {
          "output_type": "stream",
          "name": "stdout",
          "text": [
            "<class 'pandas.core.frame.DataFrame'>\n",
            "Int64Index: 1698 entries, 29 to 11572\n",
            "Data columns (total 4 columns):\n",
            " #   Column     Non-Null Count  Dtype  \n",
            "---  ------     --------------  -----  \n",
            " 0   prenom     1698 non-null   object \n",
            " 1   genre      1698 non-null   object \n",
            " 2   langage    1698 non-null   object \n",
            " 3   frequence  1698 non-null   float64\n",
            "dtypes: float64(1), object(3)\n",
            "memory usage: 66.3+ KB\n"
          ]
        }
      ]
    },
    {
      "cell_type": "markdown",
      "source": [
        "##Mise en forme des données\n",
        "On va faire une chaîne de caractère qui joint tous les éléments de la liste.\n",
        "\n",
        "Pour ce faire, on va utiliser la méthode str.join(list)"
      ],
      "metadata": {
        "id": "mAglkKYGo2bk"
      }
    },
    {
      "cell_type": "code",
      "source": [
        "#On commence par chercher la longueur des séquences\n",
        "longueur_sequence = 0\n",
        "\n",
        "#Il va falloir mettre cette longueur par rapport au plus long nom\n",
        "for prenom in liste_prenoms :\n",
        "  longueur = len(prenom)\n",
        "\n",
        "  #si la longueur du prénom est plus grande que celle de la séquence, on update cette dernière\n",
        "  if longueur > longueur_sequence :\n",
        "    longueur_sequence = longueur\n",
        "\n",
        "#On ajoute 1 pour prendre en compte le séparateur ' '\n",
        "longueur_sequence += 1\n",
        "\n",
        "print(\"Longueur des séquences :\", longueur_sequence)\n",
        "\n"
      ],
      "metadata": {
        "colab": {
          "base_uri": "https://localhost:8080/"
        },
        "outputId": "a82fc78f-1d2d-4e5e-c38d-91cc573ff718",
        "id": "RjM09cUOo2cG"
      },
      "execution_count": null,
      "outputs": [
        {
          "output_type": "stream",
          "name": "stdout",
          "text": [
            "Longueur des séquences : 14\n"
          ]
        }
      ]
    },
    {
      "cell_type": "code",
      "source": [
        "#On peut maintenant faire notre chaîne de prénoms :\n",
        "chaine_prenoms = ' '.join(liste_prenoms).lower()\n",
        "\n",
        "#On ajoute un espace à la fin\n",
        "chaine_prenoms += ' '\n",
        "\n",
        "print(\"Chaîne des prénoms :\", chaine_prenoms)"
      ],
      "metadata": {
        "colab": {
          "base_uri": "https://localhost:8080/"
        },
        "outputId": "345ea5f6-6dd6-4ac5-bd9c-5fecbf3c7786",
        "id": "gnwbmtfLo2cO"
      },
      "execution_count": null,
      "outputs": [
        {
          "output_type": "stream",
          "name": "stdout",
          "text": [
            "Chaîne des prénoms : abel absolon achille adair adam adara adélaïde adèle adeline aden adena adolphe adonia adrien adrienne afra agathe aglea agnès aiden aimé aimée alain albert albertine aldrick alexandre alexandrie alexis alfred aliah alice aline alison alodia alphonse alphonsine alphonsus alta alva amara amarante amardad amaury ambre ambroise amédée amélie aminta amynta anaïs anastasie anatole andré andrée angèle angeline angelique anika anne annette ansel anselme antoine antoinette aphra apollinaire apolline aracelis aracely araminta aran ariane arianne arienne arik aristide arlen arlette armand armel armelle arnaud arnaude aryana ashanti ashtad athelstan atticus aude auguste augustin aurèle aurélie aurelien aurore avia avra avril axelle aylmer azarias azeneth balfour baptiste barbara barnabé barthélémy basile bastien baudouin béatrice beavis bénédicte benjamin benjamine benoit benoite berlin bernadette bernard bernardine berthe bertrand blaine blaise blanche boniface brannon brenna brice brielle brigitte brin bron brunette bruno brynne bryson cadi caetlin cai cailin calix camille cande capricia caprina caramia cari carine carole caroline carran catherine catina cécile céleste célestin célestine celina céline cerise cesaire césar chania chantal chanté charles charline charlot charlotte chloé christelle christen christian christiane christianne christine christophe ciera cierra cilla cissy claire clarette clarice clarisse claude claudette claudine clémence clément clementine cletes cletis clothilde clovia cnut coby colette colombain colombe conner constance constant constantin conway corentin corin corinne cort cosette cosma cristen cunégonde cyprian cyra cyrille damien dania danica daniel danièle danielle danika danita danya davena david davinia deja delora delphia delphina delphine delphinia delshad denis denise dennis derry desi désiré désirée desta devan dezi diane dianne didier dieudonné dieudonnée dilshad dimitri diodore dion dobrogost dominica dominique donat donatien donatienne donelle doretta doriane dorita dorothée dory dosia drina drummond durand eben ebert edana edgar edgard édith edmond edmonda édouard edsel edwige eiran elario elba elbert eléonore elfa éliane elidi elisabeth élise elita elma élodie eloi éloise elsabeth elva elvina ely elyse elysia emeline emeric émile emilian émilie émilien emma emmanuel emmanuelle era erasmus eric erma ermenegilde esmé esmée essa estee esther étienne eugène eugénie eulalie eulia eustache eustacia évariste eve everild evette evonne evrard ezar fabien fabienne fabiola fabrice faramond fastred faustine félicie felicien felicienne felina félix ferdinand fernand fernande ferrer fiacre fidelia fifi filander filbert filibert findlay firenze firmin flavian flavie florence florentin floretta florette florian florianne florine fonsie francine franck françois françoise fravardin frea frédéric frédérique fulbert gabriel gabrielle gaétan gaetane gaspard gaston gautier geneviève genevra geoffroi georges georgette georgine gérald gérard géraud germain germaine german gervais gervaise gervasius gerwulf ghislain ghislaine gigi gilbert gilberte gilbertine gill gilles gisèle giselle gisselle glenice gobnata godelieve goretti gracilia gratien grégoire guendolen guenevere guillaume gusta gustave guy gwenaelle gweneth gwenneth gyneth hadyn halcyon hamnet hamo hamon hannah hayden haydn hector heida hélène héloïse henri henriette herbert hercule hereward herk hermine hervé hilaire hilbert hippolyte honoré honorine horace hormazd hormazed hortense hosanna hosannah hoyt hrodohaidis hubert hugues humbert hyacinthe ianthina idesta idetta ignace ignatius ilbert ilma ilsa ima inès inglebert iola iréné irène irénée irwin isabel isabelle isadora isebella isidore isleen issy ives ivette ivonette jacinthe jacobina jacqueline jacques jafet jahel japeth jayel jayma jean jean-baptiste jeanine jean-marie jeanne jeannette jeannine jeannot jeptha jérémie jérôme jeunesse joachim joannes joceline joël joelle joisse jolie josée joseph josèphe joséphine josette josiane josue jourdain judith jules juliane julie julien julienne juliette julitta juste justin justine kaila kaolin karena karina karyna kasimir kasimira katina keara keithia kelan kelda kelia khara khordad kiara kiaran kiarra kieron kierra kirsa kohinoor kris laird lambert lamont lanty lari laure laurence laurent laurentine laurette lazare léa leandra léandre lecia leith lemmy leolin léon léonard léonce léonie léonne léontine léopold lesia liane liddy ligia lionel liouba lisette livvy loic lorette loris lothaire louis louise loup luc lucas luce lucie lucien lucienne lucile lucille lucinde lucrece lunete lure lyall lyda lydie madeleine madeline maeja maeva mahala mahalia malakai malamis malika malone manon marc marcel marceline marcelle marcellette marcellin marcelline maresol margot marguerite mariamne marian marianne marie marielle mariette marin marine marise marius marquita marthe martin martine mathieu mathilde mathis matthieu maurice mavreena maxime maximilien maximilienne mayim mayme meaveen mehalia mélanie melesina melina meliora mélissa melle meraud mica michel michèle micheline michelle mignon milburga milogost minta minty mirabelle mireille modeste modestine monet monique monta morgaine morgane mose muriel myriam myrrine mysie nadia nadine nanook nanuk narca narcisse natalie nathalie nazaire nereza nerida neva nicholas nicodème nicolas nicole nicolette nina ninette ninon noé noel noele noella noelle noémie nuadha nyala nyssa océane odessa odette odila odile odilon odo odoacer olivie olivier olympe olympia onesime oral oriane orianne orinda ormonda ormonde orpa orpha osanne ossia otho otthild ottila ouida ozanne papillion parnel parth pascal pascale pascaline paschal patrice patrick paul paule paulette pauline pénélope perceval perele pernel peronelle perrine peterkin petranella philander philbert philibert philippe philippine pierre pierrick placide pons praxis prosper ptolema purdie quentin quinlan quintella raban rachel rainier raoul raphaël raphael raymond raymonde reah rébecca régine régis reine rémi rémy renard renaud rené renée retha reva reynaud richard richelle ríghnach rika rilla rio robena robert roch rochelle rodolph rodolphe rodrigue roger rohesia rolan roland rolande roma romain romaine romane rosabel rosalie rosalinda rosalva rose roselle rosemonde rosette roshni rosine roxane roxanne rubina sabas sabine sacha salena salina salman salomé salvalus samuel sandrine sans sarah sarava sarosh savalus schwanhild scilla sébastien sébastienne sence sens seraphine serge séverin sévérine shad shahpur shehrevar shelena shelia shena sheona sibylle sidonie sieghild siena sienna simon simone solange sophie steffie stéphane stéphanie suzanne suzette swithin swithun sybille sylvain sylvaine sylvestre sylviane sylvianne sylvie taegan taletta tamia tamson tatienne tearach tecla tegan telesphore terese teris than thecla theirn théo théodore théophile thérèse thibault thierry thirza thomas thyrza tierra timeus timoteus timothée tivoli toinette torcall toussaint tovia toya tria tristan tully ulbrecht ulrich urbain urias urvakhsha valdis valentin valentine valère valérie valéry valeska velda vena venetia vern verona véronique vespasien veva victoire victor victorine vienne vilmar vina vincent violette virginie vivien vivienne walburga wigburg wilbert wilda wislaw xanthia xara xavia xavier xylina yadira yan yanick yann yannic yannick yolande yseult yves yvette yvon yvonne zacharie zelpah zelpha zenia zephania zephyra zephyrine zeta zoé zona adalberto adamo adelina adolfo adriana adriano agata agnese agostina agostino alba alberta albertina alberto albina aldo alessa alessandra alessandro alessia alessio alfeo alfonsina alfonso alfreda alfredo allegra alonzo alphonso amadeo amato ambra ambrogino ambrogio amedea amedeo amerigo anacleto anastasio andrea angela angelica angelina angelo anna annabella annetta annunciata annunziata anselma anselmo antonella antonello antonia antonietta antonino antonio arabella arcangelo arduino arianna armando arnaldo aroldo arrigo arturo assunta attilio augusta augusto aurelia aurelio baldassare bartolomeo basilio battista beatrice bella benedetta benedetto beniamino benigna benigno benito benvenuto beppe berenice bernardetta bernardino bernardo bertoldo bertrando bettina bettino biagino biagio bianca bibiana bice bonaventure bonifacio brigida bruna brunella callisto calogera calogero calvino camilla camillo caprice carla carlo carlotta carmela carmina carmine carolina casimiro catarina caterina cecilia cecilio celestina celestino celia celino celio celso cesare chiara chiarina cinzia cipriano ciriaco cirillo cirino ciro clara clarissa claudia claudio clelia clemente clementina cleto clio colombina columbano columbo concetta concetto consolata cornelia corrado cosima cosimo cosmo costantino costanzo crescenzo cristiana cristiano cristina cristoforo crocetta crocifissa dafne damiana damiano daniela daniele danilo dante daria dario davide delfina demetrio desiderio diana dino domenica domenico domitilla donata donatella donatello donato doriano dorotea duilio edda edmondo edoardo edvige efisio egidio elda elena eleonora elettra elia eliana eligia eligio elisa elisabetta eliseo elmo eloisa elpidio emanuele emidio emilia emiliana emiliano emilio ennio enrica enrico enzo ercole ermanno ermenegildo ermete ernesta ernesto estachio ettore eufemia eugenia eugenio eulalia eusebio eva evaristo evelina fabia fabiana fabiano fabio fabrizia fabrizio fausta faustina fausto fedele federica federico felice felicia feliciana feliciano felìcita ferdinanda ferdinando ferruccio fiammetta filiberto filippo filomena fioralba fiorella fiorenza fiorenzo firmino flavia flavio flora florentina floriana floriano fortunata fortunato franca francesca francesco franco fredo fulgenzio fulvia fulvio gabriele gabriella gaetana gaetano gaspare gasparo gavino geltrude gemma gennaro genoveffa gerardo germano gerolamo geronimo gervasio giachetta giacinta giacinto giacobbe giacomo giada giambattista giampaolo giampiero giancarlo gianfranco gianluca gianluigi gianmarco gianmaria gianna gianni giannino gianpaolo gianpiero gilberto gilda gina ginevra gino gioacchino gioachino gioconda giordano giorgia giorgina giorgino giorgio giosetta giosuè giovanna giovannetta giovanni giraldo girolamo gisella giuditta giulia giuliana giuliano giulietta giulio giuseppe giuseppina giustina giustino gloria goffredo grazia graziana graziano graziella gregorio gualtiero guerino guglielmo guido gustavo ignazio ilaria ilario imelda immacolata innocenzo ippolito irene isabella isaia isidora isidoro itala italo jacopo jolanda ladislao laura lauretta lauro lazzaro leandro lelia leonardo leone leonora leontina leonzio leopoldo letizia lia liana liberatore liboria liborio lidia lina livia liviana livio lodovico loredana lorena lorenza lorenzo loretta lothario luca lucia luciana luciano lucilla lucio lucrezia luigi luigina luigino luisa maddalena mafalda manfredo manlio marcella marcellino marcello marco margherita maria mariana mariangela mariano mariella marietta marina marino mario marisa marta martina martino marzio massimiliano massimo matteo mattia maura maurizio mauro melania melchiorre micaela michela michelangela michelangelo michele michelina milena mimi mina mirabella mirella modesto monica naldo narciso natale natalia natanaele nazario nerina nerio nero nestore nevio niccolò nico nicodemo nicola nicoletta nicolò nicomedo nicostrato nino noemi norina norma nunzia nunziatina nunzio olimpia orazio orfeo oriana orlando ornella orsina orsino orso osvaldo ottavia ottaviano ottavio palmira palmiro pancrazio panfilo pantaleone paola paolina paolino paolo paride pasquale pasqualina pasqualino patrizia patrizio paulina pellegrino perla pia piera pierina piero pietrina pietro pino placida placido pompeo ponzio porfirio primo prospero prudenzio quirino rachele raffaele raffaella raffaello raimonda raimondo raniero raul rebecca regina remigio remo renata renato renzo riccarda riccardo rico rina rinaldo rino rita roberta robertina roberto rocco rodolfo rodrigo romana romano romeo romilda romola romolo rosa rosabella rosalba rosalia rosangela rosanna rosella rosetta rosina rossella rufino ruggero ruggiero rut sabina sabino sabrina salvatore samanta samuela samuele sandra sandro sansone santa santino santo santuzza sara saturnino saverio savino savio scevola sebastiana sebastiano selvaggia serafina serafino serena sergio sesto severiano severina severino severo silvana silvano silvestra silvestro silvia silvio simona simonetta sofia sonia sophia stefania stefano susana susanna tacito taddeo tammaro tancredo tatiana teodora teodoro teodosio teofilo terenzio teresa timoteo tina tito tiziana tiziano tommaso tonio tore tullia tullio uberto ugo ulisse umberto urbana urbano valentina valentino valeria valerio vanda vasco velia venceslao veronica vespasiano vico vincenza vincenzo viola violetta virgilio virginia vitale vitalia vito vittore vittoria vittorino vittorio viviana zara zita \n"
          ]
        }
      ]
    },
    {
      "cell_type": "markdown",
      "source": [
        "On va faire une liste des différentes lettres et on pourra ainsi remplacer le caractère dans chaine_prenom par son indice."
      ],
      "metadata": {
        "id": "zh3rIO9Bo2cR"
      }
    },
    {
      "cell_type": "code",
      "source": [
        "liste_lettres = []\n",
        "\n",
        "#Pour chaque lettre de la chaine, on ajoute la lettre à liste_lettres si elle n'est pas déjà dedans\n",
        "for lettre in chaine_prenoms :\n",
        "  if lettre not in liste_lettres :\n",
        "    liste_lettres.append(lettre)\n",
        "\n",
        "print(\"Nombre de caractères différents :\",len(liste_lettres))\n",
        "print(liste_lettres)\n",
        "print('indice de la lettre h :', liste_lettres.index('h'))"
      ],
      "metadata": {
        "colab": {
          "base_uri": "https://localhost:8080/"
        },
        "outputId": "347120a6-caa8-4d89-a205-128748bc261c",
        "id": "9U_z89gio2cS"
      },
      "execution_count": null,
      "outputs": [
        {
          "output_type": "stream",
          "name": "stdout",
          "text": [
            "Nombre de caractères différents : 37\n",
            "['a', 'b', 'e', 'l', ' ', 's', 'o', 'n', 'c', 'h', 'i', 'd', 'r', 'm', 'é', 'ï', 'è', 'p', 'f', 'g', 't', 'k', 'x', 'u', 'v', 'y', 'q', 'z', 'j', 'w', 'ç', '-', 'ô', 'ë', 'í', 'ì', 'ò']\n",
            "indice de la lettre h : 9\n"
          ]
        }
      ]
    },
    {
      "cell_type": "markdown",
      "source": [
        "On va pouvoir créer les séquences glissées sur la chaîne de prénoms"
      ],
      "metadata": {
        "id": "j-qXGpDjo2cT"
      }
    },
    {
      "cell_type": "code",
      "source": [
        "#On va créer les séquences et la lettre suivante en même temps\n",
        "sequences = []\n",
        "lettres_suivantes = []\n",
        "\n",
        "#On récupère la longueur de la chaîne de prénoms :\n",
        "longueur_chaine = len(chaine_prenoms)\n",
        "\n",
        "#on va faire une boucle sur des indices entre 0 et longueur_chaine - longueur_sequence :\n",
        "for indice in range(0, longueur_chaine - longueur_sequence) :\n",
        "  #on récupère une séquence dans chaîne nombre située entre indice et indice + longueur_sequence\n",
        "  sequence = chaine_prenoms[indice : indice + longueur_sequence]\n",
        "  #on récupère la lettre suivante :\n",
        "  lettre_suivante = chaine_prenoms[indice + longueur_sequence]\n",
        "\n",
        "  #On ajoute ces derniers éléments à nos 2 listes\n",
        "  sequences.append(sequence)\n",
        "  lettres_suivantes.append(lettre_suivante)\n",
        "\n",
        "print(\"Nombre de séquences :\", len(sequences))\n",
        "#Vérification sur les 10 premiers éléments et le dernier\n",
        "#On utilise enumerate() pour récupérer l'indice et l'élément de la liste avec for\n",
        "for indice,sequence in enumerate(sequences[:10]):\n",
        "  print(\"Séquence :\", sequence, \"    Lettre suivante :\",lettres_suivantes[indice])\n",
        "\n",
        "print()\n",
        "print(\"Dernières occurences :\")\n",
        "print(\"Séquence :\", sequences[-1], \"    Lettre suivante :\",lettres_suivantes[-1])"
      ],
      "metadata": {
        "colab": {
          "base_uri": "https://localhost:8080/"
        },
        "outputId": "95805ffb-db23-4583-e267-4d1737a94446",
        "id": "fzHhGq1uo2cU"
      },
      "execution_count": null,
      "outputs": [
        {
          "output_type": "stream",
          "name": "stdout",
          "text": [
            "Nombre de séquences : 13020\n",
            "Séquence : abel absolon a     Lettre suivante : c\n",
            "Séquence : bel absolon ac     Lettre suivante : h\n",
            "Séquence : el absolon ach     Lettre suivante : i\n",
            "Séquence : l absolon achi     Lettre suivante : l\n",
            "Séquence :  absolon achil     Lettre suivante : l\n",
            "Séquence : absolon achill     Lettre suivante : e\n",
            "Séquence : bsolon achille     Lettre suivante :  \n",
            "Séquence : solon achille      Lettre suivante : a\n",
            "Séquence : olon achille a     Lettre suivante : d\n",
            "Séquence : lon achille ad     Lettre suivante : a\n",
            "\n",
            "Dernières occurences :\n",
            "Séquence : iana zara zita     Lettre suivante :  \n"
          ]
        }
      ]
    },
    {
      "cell_type": "markdown",
      "source": [
        "## Création des X, Y"
      ],
      "metadata": {
        "id": "fB6N53IJo2cV"
      }
    },
    {
      "cell_type": "code",
      "source": [
        "import numpy as np\n",
        "from tensorflow.keras.utils import to_categorical\n",
        "\n",
        "#On stocke la longueur de liste_lettres\n",
        "categories = len(liste_lettres)\n",
        "\n",
        "#on va commencer par créer les X\n",
        "X=[]\n",
        "\n",
        "#on crée une boucle sur les séquences\n",
        "for sequence in sequences :\n",
        "  #on va créer une liste vide pour récolter les indices des caractères\n",
        "  liste = []\n",
        "  for caractere in sequence :\n",
        "    #on récupère l'indice correspondant au caractère\n",
        "    indice = liste_lettres.index(caractere)\n",
        "    #on ajoute l'indice à la liste\n",
        "    liste.append(indice)\n",
        "\n",
        "  #on convertit tout de suite avec to_categorical pour avoir un vecteur de proba de 26 éléments\n",
        "  liste = to_categorical(liste,categories)\n",
        "  #On ajoute la liste dans X\n",
        "  X.append(liste)\n",
        "\n",
        "X= np.asarray(X)\n",
        "print(X.shape)\n",
        "\n",
        "#pour les Y, on ne change pas de méthode\n",
        "#il faut quand même convertir les caractères en indice\n",
        "Y=[]\n",
        "for caractere in lettres_suivantes :\n",
        "  indice = liste_lettres.index(caractere)\n",
        "  Y.append(indice)\n",
        "\n",
        "#to_categorical\n",
        "Y = to_categorical(Y,categories)\n",
        "\n",
        "print(Y.shape)"
      ],
      "metadata": {
        "colab": {
          "base_uri": "https://localhost:8080/"
        },
        "outputId": "2121e439-4f98-4fb9-8f2e-c4c3b79bf6fa",
        "id": "-olelprQo2cW"
      },
      "execution_count": null,
      "outputs": [
        {
          "output_type": "stream",
          "name": "stdout",
          "text": [
            "(13020, 14, 37)\n",
            "(13020, 37)\n"
          ]
        }
      ]
    },
    {
      "cell_type": "markdown",
      "source": [
        "##Réseau de neurones avec LSTM"
      ],
      "metadata": {
        "id": "JfRtkYX_o2cX"
      }
    },
    {
      "cell_type": "code",
      "source": [
        "from tensorflow.keras.models import Sequential\n",
        "from tensorflow.keras.layers import Dense, LSTM\n",
        "\n",
        "modele = Sequential()\n",
        "\n",
        "#On ajoute en entrée une couche de neurones LSTM\n",
        "modele.add(LSTM(64, input_shape = (longueur_sequence,categories), recurrent_dropout = 0.2))\n",
        "\n",
        "#On ajoute la sortie\n",
        "modele.add(Dense(categories, activation='softmax'))\n",
        "\n",
        "modele.summary()"
      ],
      "metadata": {
        "colab": {
          "base_uri": "https://localhost:8080/"
        },
        "outputId": "d863474b-b589-46f7-af63-c0b252b31feb",
        "id": "wSn-W-g9o2ce"
      },
      "execution_count": null,
      "outputs": [
        {
          "output_type": "stream",
          "name": "stdout",
          "text": [
            "Model: \"sequential_1\"\n",
            "_________________________________________________________________\n",
            " Layer (type)                Output Shape              Param #   \n",
            "=================================================================\n",
            " lstm_1 (LSTM)               (None, 64)                26112     \n",
            "                                                                 \n",
            " dense_1 (Dense)             (None, 37)                2405      \n",
            "                                                                 \n",
            "=================================================================\n",
            "Total params: 28,517\n",
            "Trainable params: 28,517\n",
            "Non-trainable params: 0\n",
            "_________________________________________________________________\n"
          ]
        }
      ]
    },
    {
      "cell_type": "code",
      "source": [
        "from tensorflow.keras.optimizers import RMSprop\n",
        "\n",
        "optimizer = RMSprop(learning_rate = 0.01)\n",
        "\n",
        "modele.compile(optimizer=optimizer, loss='categorical_crossentropy', metrics=['accuracy',])\n",
        "\n",
        "modele.fit(X, Y, batch_size = 32, epochs = 50)\n",
        "\n",
        "modele.save('name_generator.h5')"
      ],
      "metadata": {
        "colab": {
          "base_uri": "https://localhost:8080/",
          "height": 1000
        },
        "outputId": "69bff928-78e9-4208-ec37-c0e0e04e214e",
        "id": "rc4aWhrHo2cf"
      },
      "execution_count": null,
      "outputs": [
        {
          "output_type": "stream",
          "name": "stdout",
          "text": [
            "Epoch 1/50\n",
            "407/407 [==============================] - 9s 17ms/step - loss: 2.4346 - accuracy: 0.2618\n",
            "Epoch 2/50\n",
            "407/407 [==============================] - 7s 18ms/step - loss: 2.0517 - accuracy: 0.3714\n",
            "Epoch 3/50\n",
            "407/407 [==============================] - 7s 17ms/step - loss: 1.8049 - accuracy: 0.4504\n",
            "Epoch 4/50\n",
            "407/407 [==============================] - 7s 17ms/step - loss: 1.6554 - accuracy: 0.5018\n",
            "Epoch 5/50\n",
            "407/407 [==============================] - 7s 17ms/step - loss: 1.5531 - accuracy: 0.5280\n",
            "Epoch 6/50\n",
            "407/407 [==============================] - 7s 17ms/step - loss: 1.4860 - accuracy: 0.5492\n",
            "Epoch 7/50\n",
            "407/407 [==============================] - 7s 17ms/step - loss: 1.4364 - accuracy: 0.5660\n",
            "Epoch 8/50\n",
            "407/407 [==============================] - 7s 17ms/step - loss: 1.3926 - accuracy: 0.5743\n",
            "Epoch 9/50\n",
            "407/407 [==============================] - 7s 17ms/step - loss: 1.3600 - accuracy: 0.5843\n",
            "Epoch 10/50\n",
            "407/407 [==============================] - 7s 17ms/step - loss: 1.3267 - accuracy: 0.5889\n",
            "Epoch 11/50\n",
            "407/407 [==============================] - 7s 17ms/step - loss: 1.3030 - accuracy: 0.5995\n",
            "Epoch 12/50\n",
            "407/407 [==============================] - 7s 17ms/step - loss: 1.2783 - accuracy: 0.6076\n",
            "Epoch 13/50\n",
            "407/407 [==============================] - 7s 17ms/step - loss: 1.2563 - accuracy: 0.6159\n",
            "Epoch 14/50\n",
            "407/407 [==============================] - 7s 17ms/step - loss: 1.2361 - accuracy: 0.6187\n",
            "Epoch 15/50\n",
            "407/407 [==============================] - 7s 17ms/step - loss: 1.2277 - accuracy: 0.6204\n",
            "Epoch 16/50\n",
            "407/407 [==============================] - 7s 17ms/step - loss: 1.1982 - accuracy: 0.6318\n",
            "Epoch 17/50\n",
            "407/407 [==============================] - 7s 17ms/step - loss: 1.2017 - accuracy: 0.6281\n",
            "Epoch 18/50\n",
            "407/407 [==============================] - 7s 17ms/step - loss: 1.1779 - accuracy: 0.6374\n",
            "Epoch 19/50\n",
            "407/407 [==============================] - 8s 20ms/step - loss: 1.1654 - accuracy: 0.6435\n",
            "Epoch 20/50\n",
            "407/407 [==============================] - 7s 17ms/step - loss: 1.1678 - accuracy: 0.6374\n",
            "Epoch 21/50\n",
            "407/407 [==============================] - 7s 17ms/step - loss: 1.1525 - accuracy: 0.6470\n",
            "Epoch 22/50\n",
            "407/407 [==============================] - 7s 17ms/step - loss: 1.1474 - accuracy: 0.6469\n",
            "Epoch 23/50\n",
            "407/407 [==============================] - 7s 17ms/step - loss: 1.1312 - accuracy: 0.6495\n",
            "Epoch 24/50\n",
            "407/407 [==============================] - 7s 17ms/step - loss: 1.1289 - accuracy: 0.6537\n",
            "Epoch 25/50\n",
            "407/407 [==============================] - 7s 17ms/step - loss: 1.1194 - accuracy: 0.6566\n",
            "Epoch 26/50\n",
            "407/407 [==============================] - 7s 17ms/step - loss: 1.1136 - accuracy: 0.6561\n",
            "Epoch 27/50\n",
            "407/407 [==============================] - 7s 17ms/step - loss: 1.1104 - accuracy: 0.6516\n",
            "Epoch 28/50\n",
            "407/407 [==============================] - 7s 17ms/step - loss: 1.0842 - accuracy: 0.6654\n",
            "Epoch 29/50\n",
            "407/407 [==============================] - 7s 17ms/step - loss: 1.0889 - accuracy: 0.6631\n",
            "Epoch 30/50\n",
            "407/407 [==============================] - 7s 17ms/step - loss: 1.1018 - accuracy: 0.6591\n",
            "Epoch 31/50\n",
            "407/407 [==============================] - 7s 17ms/step - loss: 1.0853 - accuracy: 0.6608\n",
            "Epoch 32/50\n",
            "407/407 [==============================] - 7s 17ms/step - loss: 1.0803 - accuracy: 0.6673\n",
            "Epoch 33/50\n",
            "154/407 [==========>...................] - ETA: 4s - loss: 1.0415 - accuracy: 0.6751"
          ]
        },
        {
          "output_type": "error",
          "ename": "KeyboardInterrupt",
          "evalue": "ignored",
          "traceback": [
            "\u001b[0;31m---------------------------------------------------------------------------\u001b[0m",
            "\u001b[0;31mKeyboardInterrupt\u001b[0m                         Traceback (most recent call last)",
            "\u001b[0;32m<ipython-input-46-24fc6b5b9894>\u001b[0m in \u001b[0;36m<module>\u001b[0;34m\u001b[0m\n\u001b[1;32m      5\u001b[0m \u001b[0mmodele\u001b[0m\u001b[0;34m.\u001b[0m\u001b[0mcompile\u001b[0m\u001b[0;34m(\u001b[0m\u001b[0moptimizer\u001b[0m\u001b[0;34m=\u001b[0m\u001b[0moptimizer\u001b[0m\u001b[0;34m,\u001b[0m \u001b[0mloss\u001b[0m\u001b[0;34m=\u001b[0m\u001b[0;34m'categorical_crossentropy'\u001b[0m\u001b[0;34m,\u001b[0m \u001b[0mmetrics\u001b[0m\u001b[0;34m=\u001b[0m\u001b[0;34m[\u001b[0m\u001b[0;34m'accuracy'\u001b[0m\u001b[0;34m,\u001b[0m\u001b[0;34m]\u001b[0m\u001b[0;34m)\u001b[0m\u001b[0;34m\u001b[0m\u001b[0;34m\u001b[0m\u001b[0m\n\u001b[1;32m      6\u001b[0m \u001b[0;34m\u001b[0m\u001b[0m\n\u001b[0;32m----> 7\u001b[0;31m \u001b[0mmodele\u001b[0m\u001b[0;34m.\u001b[0m\u001b[0mfit\u001b[0m\u001b[0;34m(\u001b[0m\u001b[0mX\u001b[0m\u001b[0;34m,\u001b[0m \u001b[0mY\u001b[0m\u001b[0;34m,\u001b[0m \u001b[0mbatch_size\u001b[0m \u001b[0;34m=\u001b[0m \u001b[0;36m32\u001b[0m\u001b[0;34m,\u001b[0m \u001b[0mepochs\u001b[0m \u001b[0;34m=\u001b[0m \u001b[0;36m50\u001b[0m\u001b[0;34m)\u001b[0m\u001b[0;34m\u001b[0m\u001b[0;34m\u001b[0m\u001b[0m\n\u001b[0m\u001b[1;32m      8\u001b[0m \u001b[0;34m\u001b[0m\u001b[0m\n\u001b[1;32m      9\u001b[0m \u001b[0mmodele\u001b[0m\u001b[0;34m.\u001b[0m\u001b[0msave\u001b[0m\u001b[0;34m(\u001b[0m\u001b[0;34m'name_generator.h5'\u001b[0m\u001b[0;34m)\u001b[0m\u001b[0;34m\u001b[0m\u001b[0;34m\u001b[0m\u001b[0m\n",
            "\u001b[0;32m/usr/local/lib/python3.8/dist-packages/keras/utils/traceback_utils.py\u001b[0m in \u001b[0;36merror_handler\u001b[0;34m(*args, **kwargs)\u001b[0m\n\u001b[1;32m     62\u001b[0m     \u001b[0mfiltered_tb\u001b[0m \u001b[0;34m=\u001b[0m \u001b[0;32mNone\u001b[0m\u001b[0;34m\u001b[0m\u001b[0;34m\u001b[0m\u001b[0m\n\u001b[1;32m     63\u001b[0m     \u001b[0;32mtry\u001b[0m\u001b[0;34m:\u001b[0m\u001b[0;34m\u001b[0m\u001b[0;34m\u001b[0m\u001b[0m\n\u001b[0;32m---> 64\u001b[0;31m       \u001b[0;32mreturn\u001b[0m \u001b[0mfn\u001b[0m\u001b[0;34m(\u001b[0m\u001b[0;34m*\u001b[0m\u001b[0margs\u001b[0m\u001b[0;34m,\u001b[0m \u001b[0;34m**\u001b[0m\u001b[0mkwargs\u001b[0m\u001b[0;34m)\u001b[0m\u001b[0;34m\u001b[0m\u001b[0;34m\u001b[0m\u001b[0m\n\u001b[0m\u001b[1;32m     65\u001b[0m     \u001b[0;32mexcept\u001b[0m \u001b[0mException\u001b[0m \u001b[0;32mas\u001b[0m \u001b[0me\u001b[0m\u001b[0;34m:\u001b[0m  \u001b[0;31m# pylint: disable=broad-except\u001b[0m\u001b[0;34m\u001b[0m\u001b[0;34m\u001b[0m\u001b[0m\n\u001b[1;32m     66\u001b[0m       \u001b[0mfiltered_tb\u001b[0m \u001b[0;34m=\u001b[0m \u001b[0m_process_traceback_frames\u001b[0m\u001b[0;34m(\u001b[0m\u001b[0me\u001b[0m\u001b[0;34m.\u001b[0m\u001b[0m__traceback__\u001b[0m\u001b[0;34m)\u001b[0m\u001b[0;34m\u001b[0m\u001b[0;34m\u001b[0m\u001b[0m\n",
            "\u001b[0;32m/usr/local/lib/python3.8/dist-packages/keras/engine/training.py\u001b[0m in \u001b[0;36mfit\u001b[0;34m(self, x, y, batch_size, epochs, verbose, callbacks, validation_split, validation_data, shuffle, class_weight, sample_weight, initial_epoch, steps_per_epoch, validation_steps, validation_batch_size, validation_freq, max_queue_size, workers, use_multiprocessing)\u001b[0m\n\u001b[1;32m   1407\u001b[0m                 _r=1):\n\u001b[1;32m   1408\u001b[0m               \u001b[0mcallbacks\u001b[0m\u001b[0;34m.\u001b[0m\u001b[0mon_train_batch_begin\u001b[0m\u001b[0;34m(\u001b[0m\u001b[0mstep\u001b[0m\u001b[0;34m)\u001b[0m\u001b[0;34m\u001b[0m\u001b[0;34m\u001b[0m\u001b[0m\n\u001b[0;32m-> 1409\u001b[0;31m               \u001b[0mtmp_logs\u001b[0m \u001b[0;34m=\u001b[0m \u001b[0mself\u001b[0m\u001b[0;34m.\u001b[0m\u001b[0mtrain_function\u001b[0m\u001b[0;34m(\u001b[0m\u001b[0miterator\u001b[0m\u001b[0;34m)\u001b[0m\u001b[0;34m\u001b[0m\u001b[0;34m\u001b[0m\u001b[0m\n\u001b[0m\u001b[1;32m   1410\u001b[0m               \u001b[0;32mif\u001b[0m \u001b[0mdata_handler\u001b[0m\u001b[0;34m.\u001b[0m\u001b[0mshould_sync\u001b[0m\u001b[0;34m:\u001b[0m\u001b[0;34m\u001b[0m\u001b[0;34m\u001b[0m\u001b[0m\n\u001b[1;32m   1411\u001b[0m                 \u001b[0mcontext\u001b[0m\u001b[0;34m.\u001b[0m\u001b[0masync_wait\u001b[0m\u001b[0;34m(\u001b[0m\u001b[0;34m)\u001b[0m\u001b[0;34m\u001b[0m\u001b[0;34m\u001b[0m\u001b[0m\n",
            "\u001b[0;32m/usr/local/lib/python3.8/dist-packages/tensorflow/python/util/traceback_utils.py\u001b[0m in \u001b[0;36merror_handler\u001b[0;34m(*args, **kwargs)\u001b[0m\n\u001b[1;32m    148\u001b[0m     \u001b[0mfiltered_tb\u001b[0m \u001b[0;34m=\u001b[0m \u001b[0;32mNone\u001b[0m\u001b[0;34m\u001b[0m\u001b[0;34m\u001b[0m\u001b[0m\n\u001b[1;32m    149\u001b[0m     \u001b[0;32mtry\u001b[0m\u001b[0;34m:\u001b[0m\u001b[0;34m\u001b[0m\u001b[0;34m\u001b[0m\u001b[0m\n\u001b[0;32m--> 150\u001b[0;31m       \u001b[0;32mreturn\u001b[0m \u001b[0mfn\u001b[0m\u001b[0;34m(\u001b[0m\u001b[0;34m*\u001b[0m\u001b[0margs\u001b[0m\u001b[0;34m,\u001b[0m \u001b[0;34m**\u001b[0m\u001b[0mkwargs\u001b[0m\u001b[0;34m)\u001b[0m\u001b[0;34m\u001b[0m\u001b[0;34m\u001b[0m\u001b[0m\n\u001b[0m\u001b[1;32m    151\u001b[0m     \u001b[0;32mexcept\u001b[0m \u001b[0mException\u001b[0m \u001b[0;32mas\u001b[0m \u001b[0me\u001b[0m\u001b[0;34m:\u001b[0m\u001b[0;34m\u001b[0m\u001b[0;34m\u001b[0m\u001b[0m\n\u001b[1;32m    152\u001b[0m       \u001b[0mfiltered_tb\u001b[0m \u001b[0;34m=\u001b[0m \u001b[0m_process_traceback_frames\u001b[0m\u001b[0;34m(\u001b[0m\u001b[0me\u001b[0m\u001b[0;34m.\u001b[0m\u001b[0m__traceback__\u001b[0m\u001b[0;34m)\u001b[0m\u001b[0;34m\u001b[0m\u001b[0;34m\u001b[0m\u001b[0m\n",
            "\u001b[0;32m/usr/local/lib/python3.8/dist-packages/tensorflow/python/eager/def_function.py\u001b[0m in \u001b[0;36m__call__\u001b[0;34m(self, *args, **kwds)\u001b[0m\n\u001b[1;32m    913\u001b[0m \u001b[0;34m\u001b[0m\u001b[0m\n\u001b[1;32m    914\u001b[0m       \u001b[0;32mwith\u001b[0m \u001b[0mOptionalXlaContext\u001b[0m\u001b[0;34m(\u001b[0m\u001b[0mself\u001b[0m\u001b[0;34m.\u001b[0m\u001b[0m_jit_compile\u001b[0m\u001b[0;34m)\u001b[0m\u001b[0;34m:\u001b[0m\u001b[0;34m\u001b[0m\u001b[0;34m\u001b[0m\u001b[0m\n\u001b[0;32m--> 915\u001b[0;31m         \u001b[0mresult\u001b[0m \u001b[0;34m=\u001b[0m \u001b[0mself\u001b[0m\u001b[0;34m.\u001b[0m\u001b[0m_call\u001b[0m\u001b[0;34m(\u001b[0m\u001b[0;34m*\u001b[0m\u001b[0margs\u001b[0m\u001b[0;34m,\u001b[0m \u001b[0;34m**\u001b[0m\u001b[0mkwds\u001b[0m\u001b[0;34m)\u001b[0m\u001b[0;34m\u001b[0m\u001b[0;34m\u001b[0m\u001b[0m\n\u001b[0m\u001b[1;32m    916\u001b[0m \u001b[0;34m\u001b[0m\u001b[0m\n\u001b[1;32m    917\u001b[0m       \u001b[0mnew_tracing_count\u001b[0m \u001b[0;34m=\u001b[0m \u001b[0mself\u001b[0m\u001b[0;34m.\u001b[0m\u001b[0mexperimental_get_tracing_count\u001b[0m\u001b[0;34m(\u001b[0m\u001b[0;34m)\u001b[0m\u001b[0;34m\u001b[0m\u001b[0;34m\u001b[0m\u001b[0m\n",
            "\u001b[0;32m/usr/local/lib/python3.8/dist-packages/tensorflow/python/eager/def_function.py\u001b[0m in \u001b[0;36m_call\u001b[0;34m(self, *args, **kwds)\u001b[0m\n\u001b[1;32m    945\u001b[0m       \u001b[0;31m# In this case we have created variables on the first call, so we run the\u001b[0m\u001b[0;34m\u001b[0m\u001b[0;34m\u001b[0m\u001b[0;34m\u001b[0m\u001b[0m\n\u001b[1;32m    946\u001b[0m       \u001b[0;31m# defunned version which is guaranteed to never create variables.\u001b[0m\u001b[0;34m\u001b[0m\u001b[0;34m\u001b[0m\u001b[0;34m\u001b[0m\u001b[0m\n\u001b[0;32m--> 947\u001b[0;31m       \u001b[0;32mreturn\u001b[0m \u001b[0mself\u001b[0m\u001b[0;34m.\u001b[0m\u001b[0m_stateless_fn\u001b[0m\u001b[0;34m(\u001b[0m\u001b[0;34m*\u001b[0m\u001b[0margs\u001b[0m\u001b[0;34m,\u001b[0m \u001b[0;34m**\u001b[0m\u001b[0mkwds\u001b[0m\u001b[0;34m)\u001b[0m  \u001b[0;31m# pylint: disable=not-callable\u001b[0m\u001b[0;34m\u001b[0m\u001b[0;34m\u001b[0m\u001b[0m\n\u001b[0m\u001b[1;32m    948\u001b[0m     \u001b[0;32melif\u001b[0m \u001b[0mself\u001b[0m\u001b[0;34m.\u001b[0m\u001b[0m_stateful_fn\u001b[0m \u001b[0;32mis\u001b[0m \u001b[0;32mnot\u001b[0m \u001b[0;32mNone\u001b[0m\u001b[0;34m:\u001b[0m\u001b[0;34m\u001b[0m\u001b[0;34m\u001b[0m\u001b[0m\n\u001b[1;32m    949\u001b[0m       \u001b[0;31m# Release the lock early so that multiple threads can perform the call\u001b[0m\u001b[0;34m\u001b[0m\u001b[0;34m\u001b[0m\u001b[0;34m\u001b[0m\u001b[0m\n",
            "\u001b[0;32m/usr/local/lib/python3.8/dist-packages/tensorflow/python/eager/function.py\u001b[0m in \u001b[0;36m__call__\u001b[0;34m(self, *args, **kwargs)\u001b[0m\n\u001b[1;32m   2451\u001b[0m       (graph_function,\n\u001b[1;32m   2452\u001b[0m        filtered_flat_args) = self._maybe_define_function(args, kwargs)\n\u001b[0;32m-> 2453\u001b[0;31m     return graph_function._call_flat(\n\u001b[0m\u001b[1;32m   2454\u001b[0m         filtered_flat_args, captured_inputs=graph_function.captured_inputs)  # pylint: disable=protected-access\n\u001b[1;32m   2455\u001b[0m \u001b[0;34m\u001b[0m\u001b[0m\n",
            "\u001b[0;32m/usr/local/lib/python3.8/dist-packages/tensorflow/python/eager/function.py\u001b[0m in \u001b[0;36m_call_flat\u001b[0;34m(self, args, captured_inputs, cancellation_manager)\u001b[0m\n\u001b[1;32m   1858\u001b[0m         and executing_eagerly):\n\u001b[1;32m   1859\u001b[0m       \u001b[0;31m# No tape is watching; skip to running the function.\u001b[0m\u001b[0;34m\u001b[0m\u001b[0;34m\u001b[0m\u001b[0;34m\u001b[0m\u001b[0m\n\u001b[0;32m-> 1860\u001b[0;31m       return self._build_call_outputs(self._inference_function.call(\n\u001b[0m\u001b[1;32m   1861\u001b[0m           ctx, args, cancellation_manager=cancellation_manager))\n\u001b[1;32m   1862\u001b[0m     forward_backward = self._select_forward_and_backward_functions(\n",
            "\u001b[0;32m/usr/local/lib/python3.8/dist-packages/tensorflow/python/eager/function.py\u001b[0m in \u001b[0;36mcall\u001b[0;34m(self, ctx, args, cancellation_manager)\u001b[0m\n\u001b[1;32m    495\u001b[0m       \u001b[0;32mwith\u001b[0m \u001b[0m_InterpolateFunctionError\u001b[0m\u001b[0;34m(\u001b[0m\u001b[0mself\u001b[0m\u001b[0;34m)\u001b[0m\u001b[0;34m:\u001b[0m\u001b[0;34m\u001b[0m\u001b[0;34m\u001b[0m\u001b[0m\n\u001b[1;32m    496\u001b[0m         \u001b[0;32mif\u001b[0m \u001b[0mcancellation_manager\u001b[0m \u001b[0;32mis\u001b[0m \u001b[0;32mNone\u001b[0m\u001b[0;34m:\u001b[0m\u001b[0;34m\u001b[0m\u001b[0;34m\u001b[0m\u001b[0m\n\u001b[0;32m--> 497\u001b[0;31m           outputs = execute.execute(\n\u001b[0m\u001b[1;32m    498\u001b[0m               \u001b[0mstr\u001b[0m\u001b[0;34m(\u001b[0m\u001b[0mself\u001b[0m\u001b[0;34m.\u001b[0m\u001b[0msignature\u001b[0m\u001b[0;34m.\u001b[0m\u001b[0mname\u001b[0m\u001b[0;34m)\u001b[0m\u001b[0;34m,\u001b[0m\u001b[0;34m\u001b[0m\u001b[0;34m\u001b[0m\u001b[0m\n\u001b[1;32m    499\u001b[0m               \u001b[0mnum_outputs\u001b[0m\u001b[0;34m=\u001b[0m\u001b[0mself\u001b[0m\u001b[0;34m.\u001b[0m\u001b[0m_num_outputs\u001b[0m\u001b[0;34m,\u001b[0m\u001b[0;34m\u001b[0m\u001b[0;34m\u001b[0m\u001b[0m\n",
            "\u001b[0;32m/usr/local/lib/python3.8/dist-packages/tensorflow/python/eager/execute.py\u001b[0m in \u001b[0;36mquick_execute\u001b[0;34m(op_name, num_outputs, inputs, attrs, ctx, name)\u001b[0m\n\u001b[1;32m     52\u001b[0m   \u001b[0;32mtry\u001b[0m\u001b[0;34m:\u001b[0m\u001b[0;34m\u001b[0m\u001b[0;34m\u001b[0m\u001b[0m\n\u001b[1;32m     53\u001b[0m     \u001b[0mctx\u001b[0m\u001b[0;34m.\u001b[0m\u001b[0mensure_initialized\u001b[0m\u001b[0;34m(\u001b[0m\u001b[0;34m)\u001b[0m\u001b[0;34m\u001b[0m\u001b[0;34m\u001b[0m\u001b[0m\n\u001b[0;32m---> 54\u001b[0;31m     tensors = pywrap_tfe.TFE_Py_Execute(ctx._handle, device_name, op_name,\n\u001b[0m\u001b[1;32m     55\u001b[0m                                         inputs, attrs, num_outputs)\n\u001b[1;32m     56\u001b[0m   \u001b[0;32mexcept\u001b[0m \u001b[0mcore\u001b[0m\u001b[0;34m.\u001b[0m\u001b[0m_NotOkStatusException\u001b[0m \u001b[0;32mas\u001b[0m \u001b[0me\u001b[0m\u001b[0;34m:\u001b[0m\u001b[0;34m\u001b[0m\u001b[0;34m\u001b[0m\u001b[0m\n",
            "\u001b[0;31mKeyboardInterrupt\u001b[0m: "
          ]
        }
      ]
    },
    {
      "cell_type": "markdown",
      "source": [
        "##Création du prédicteur"
      ],
      "metadata": {
        "id": "f2_GTPBOo2ch"
      }
    },
    {
      "cell_type": "code",
      "source": [
        "#On va décider de la première lettre :\n",
        "lettre = 'na'\n",
        "#lettre = np.random.choice(liste_lettres)\n",
        "\n",
        "lettres_choisies = lettre\n",
        "\n",
        "#On récupère la dernière séquence ou une séquence de même taille de notre choix\n",
        "#sequence=\"a zvonko zygmunt\"\n",
        "sequence=\"iana zara zita\"\n",
        "\n",
        "#On ajoute à la fin un caractère espace et la lettre choisie et on supprime les 2 premiers caractères\n",
        "sequence += ' ' + lettre\n",
        "sequence = sequence[1+len(lettre):]\n",
        "\n",
        "#print(len(sequence),sequence)\n",
        "\n",
        "#On crée une nouvelle chaine pour stocker les prénoms générés en commençant par la lettre choisie :\n",
        "prenoms_generes = lettre\n",
        "\n",
        "#On donne combien de noms vont être générés :\n",
        "nombre_noms = 10\n",
        "\n",
        "#On prend un compteur de caractères\n",
        "nombre_lettres = 0\n",
        "\n",
        "while nombre_noms > 0 :\n",
        "  X = []\n",
        "\n",
        "  #on recrée X\n",
        "  for caractere in sequence :\n",
        "    indice = liste_lettres.index(caractere)\n",
        "    X.append(indice)\n",
        "\n",
        "  #On to_categorical X\n",
        "  X = to_categorical(X, categories)\n",
        "\n",
        "  #il faut reshape X pour avoir un tenseur en 3 dimensions\n",
        "  X = np.reshape(X, (1,X.shape[0],X.shape[1]))\n",
        "  #print(X.shape)\n",
        "\n",
        "  #On prédit le vecteur de probabilités\n",
        "  probas = modele.predict(X, verbose = 0)\n",
        "  probas = probas[0]\n",
        "\n",
        "  #On choisit aléatoirement l'indice parmi les catégories en utilisant la distribution calculée\n",
        "  indice = np.random.choice(categories, p=probas)\n",
        "\n",
        "  #On ajoute au nombre de lettres dans le prénom\n",
        "  nombre_lettres += 1\n",
        "\n",
        "  #On récupère la lettre correspondante et on l'ajoute à la liste des prénoms\n",
        "  lettre = liste_lettres[indice]\n",
        "  prenoms_generes += lettre\n",
        "\n",
        "  #On refait la séquence d'entrée du prédicteur\n",
        "  sequence += lettre\n",
        "  sequence = sequence[1:]\n",
        "\n",
        "  #Si la lettre est le séparateur, on a nouveau nom\n",
        "  if lettre == ' ' and nombre_lettres > 3:\n",
        "    nombre_noms -= 1\n",
        "    print(\"noms générés : \", 10 - nombre_noms)\n",
        "    #remise à 0 du nombre de lettres\n",
        "    nombre_lettres = 0\n",
        "\n",
        "\n",
        "  #On refait la séquence pour commencer par les lettres choisies\n",
        "  if lettre == ' ':\n",
        "    sequence += lettres_choisies\n",
        "    sequence = sequence[len(lettres_choisies):]\n",
        "    #On réinitialise le début du prénom\n",
        "    prenoms_generes += lettres_choisies\n",
        "\n",
        "\n",
        "prenoms = prenoms_generes.split()\n",
        "print(\"Voici les 10 prénoms générés\")\n",
        "for prenom in prenoms :\n",
        "  if len(prenom) >= 3 and '(' not in prenom:\n",
        "    print(prenom.capitalize())"
      ],
      "metadata": {
        "colab": {
          "base_uri": "https://localhost:8080/"
        },
        "outputId": "377e01a9-c126-403f-b03e-2023e3254100",
        "id": "K7qlmaAno2ci"
      },
      "execution_count": null,
      "outputs": [
        {
          "output_type": "stream",
          "name": "stdout",
          "text": [
            "noms générés :  1\n",
            "noms générés :  2\n",
            "noms générés :  3\n",
            "noms générés :  4\n",
            "noms générés :  5\n",
            "noms générés :  6\n",
            "noms générés :  7\n",
            "noms générés :  8\n",
            "noms générés :  9\n",
            "noms générés :  10\n",
            "Voici les 10 prénoms générés\n",
            "Nardo\n",
            "Natala\n",
            "Nataniel\n",
            "Natalio\n",
            "Natalina\n",
            "Naéline\n",
            "Nannine\n",
            "Nadtaes\n",
            "Natheline\n",
            "Nauenne\n"
          ]
        }
      ]
    },
    {
      "cell_type": "markdown",
      "source": [
        "#Avec des Données récupérées sur Kaggle\n",
        "https://www.kaggle.com/"
      ],
      "metadata": {
        "id": "u87PPTcwtUXc"
      }
    },
    {
      "cell_type": "markdown",
      "source": [
        "On va récupérer les données d'un kaggle Pokemon : https://www.kaggle.com/datasets/abcsds/pokemon"
      ],
      "metadata": {
        "id": "SE33INUDt_gE"
      }
    },
    {
      "cell_type": "markdown",
      "metadata": {
        "id": "b8s7Vmba5LIs"
      },
      "source": [
        "##Affilier le Dataset de Kaggle à notre notebook\n",
        "\n",
        "On va suivre ce tuto (sauf la partie Google Drive qui ralentit l'importation d'image) : [Tuto Kaggle](https://medium.com/analytics-vidhya/how-to-fetch-kaggle-datasets-into-google-colab-ea682569851a)\n",
        "\n",
        "1.   Se connecter sur [Kaggle](https://www.kaggle.com/)\n",
        "2.   On va sur Account pour expirer notre jeton API et en créer un nouveau\n",
        "3.   On importe le fichier kaggle.json sur notre notebook\n",
        "4.   On importe \"l'environnement Kaggle\" avec le code ci-dessous (on enlève toute référence à Drive par rapport au tuto)"
      ]
    },
    {
      "cell_type": "code",
      "metadata": {
        "id": "xWj2ly3540YC"
      },
      "source": [
        "import os\n",
        "os.environ['KAGGLE_CONFIG_DIR'] = \"/content\""
      ],
      "execution_count": null,
      "outputs": []
    },
    {
      "cell_type": "markdown",
      "metadata": {
        "id": "WqhoUBy79WrX"
      },
      "source": [
        "5.   On va récupérer la commande API du dataset (en cliquant sur les 3 petits points à droite)\n",
        "6.   On met dans le code un point d'exclamation ! puis on colle la commande du dataset.\n",
        "7.   Il télécharge ensuite un fichier zip contenant le dataset dans nos fichiers."
      ]
    },
    {
      "cell_type": "code",
      "metadata": {
        "colab": {
          "base_uri": "https://localhost:8080/"
        },
        "id": "MnOzmLRD9geM",
        "outputId": "2c378f64-6d0e-41fc-ebb7-3e1929fbacbc"
      },
      "source": [
        "!kaggle datasets download -d abcsds/pokemon"
      ],
      "execution_count": null,
      "outputs": [
        {
          "output_type": "stream",
          "name": "stdout",
          "text": [
            "Warning: Your Kaggle API key is readable by other users on this system! To fix this, you can run 'chmod 600 /content/kaggle.json'\n",
            "Downloading pokemon.zip to /content\n",
            "  0% 0.00/14.9k [00:00<?, ?B/s]\n",
            "100% 14.9k/14.9k [00:00<00:00, 10.4MB/s]\n"
          ]
        }
      ]
    },
    {
      "cell_type": "markdown",
      "metadata": {
        "id": "cUkIdZoaAG-Y"
      },
      "source": [
        "8.   On va dézipper l'archive"
      ]
    },
    {
      "cell_type": "code",
      "metadata": {
        "id": "riJ6s1sXAIWq",
        "colab": {
          "base_uri": "https://localhost:8080/"
        },
        "outputId": "f380dbf3-8804-4f3a-8322-4e28d512f21b"
      },
      "source": [
        "!unzip \\*.zip"
      ],
      "execution_count": null,
      "outputs": [
        {
          "output_type": "stream",
          "name": "stdout",
          "text": [
            "Archive:  pokemon.zip\n",
            "  inflating: Pokemon.csv             \n"
          ]
        }
      ]
    },
    {
      "cell_type": "code",
      "source": [
        "!rm \\*.zip"
      ],
      "metadata": {
        "colab": {
          "base_uri": "https://localhost:8080/"
        },
        "id": "bObjHAGgu9sW",
        "outputId": "adabd12a-6537-441a-b016-f5c0b2cb50ff"
      },
      "execution_count": null,
      "outputs": [
        {
          "output_type": "stream",
          "name": "stdout",
          "text": [
            "rm: cannot remove '*.zip': No such file or directory\n"
          ]
        }
      ]
    },
    {
      "cell_type": "markdown",
      "metadata": {
        "id": "_leClQtEBAd8"
      },
      "source": [
        "9.   ça y est notre Dataset est importé dans les fichiers"
      ]
    },
    {
      "cell_type": "markdown",
      "source": [
        "##Récupération du CSV"
      ],
      "metadata": {
        "id": "gqHAPF28vWc-"
      }
    },
    {
      "cell_type": "code",
      "source": [
        "import pandas as pd\n",
        "\n",
        "data_pokemon = pd.read_csv(\"Pokemon.csv\")\n",
        "\n",
        "#data_prenoms.columns = ['prenom','genre','langage','frequence']\n",
        "data_pokemon.sample(20)"
      ],
      "metadata": {
        "colab": {
          "base_uri": "https://localhost:8080/",
          "height": 676
        },
        "outputId": "489951fa-dfd7-4c11-e0f7-a6c7254cbcbd",
        "id": "tWj9rkVLvT5f"
      },
      "execution_count": null,
      "outputs": [
        {
          "output_type": "execute_result",
          "data": {
            "text/plain": [
              "       #        Name    Type 1  Type 2  Total   HP  Attack  Defense  Sp. Atk  \\\n",
              "408  373   Salamence    Dragon  Flying    600   95     135       80      110   \n",
              "129  120      Staryu     Water     NaN    340   30      45       55       70   \n",
              "147  136     Flareon      Fire     NaN    525   65     130       60       95   \n",
              "788  712    Bergmite       Ice     NaN    304   55      69       85       32   \n",
              "273  253     Grovyle     Grass     NaN    405   50      65       45       85   \n",
              "479  431     Glameow    Normal     NaN    310   49      55       42       42   \n",
              "665  604  Eelektross  Electric     NaN    515   85     115       80      105   \n",
              "15    12  Butterfree       Bug  Flying    395   60      45       50       90   \n",
              "128  119     Seaking     Water     NaN    450   80      92       65       65   \n",
              "332  306      Aggron     Steel    Rock    530   70     110      180       60   \n",
              "215  200  Misdreavus     Ghost     NaN    435   60      60       60       85   \n",
              "586  527      Woobat   Psychic  Flying    313   55      45       43       55   \n",
              "252  233    Porygon2    Normal     NaN    515   85      80       90      105   \n",
              "475  428     Lopunny    Normal     NaN    480   65      76       84       54   \n",
              "562  503    Samurott     Water     NaN    528   95     100       85      108   \n",
              "637  576  Gothitelle   Psychic     NaN    490   70      55       95       95   \n",
              "209  194      Wooper     Water  Ground    210   55      45       45       25   \n",
              "792  716     Xerneas     Fairy     NaN    680  126     131       95      131   \n",
              "0      1   Bulbasaur     Grass  Poison    318   45      49       49       65   \n",
              "359  328    Trapinch    Ground     NaN    290   45     100       45       45   \n",
              "\n",
              "     Sp. Def  Speed  Generation  Legendary  \n",
              "408       80    100           3      False  \n",
              "129       55     85           1      False  \n",
              "147      110     65           1      False  \n",
              "788       35     28           6      False  \n",
              "273       65     95           3      False  \n",
              "479       37     85           4      False  \n",
              "665       80     50           5      False  \n",
              "15        80     70           1      False  \n",
              "128       80     68           1      False  \n",
              "332       60     50           3      False  \n",
              "215       85     85           2      False  \n",
              "586       43     72           5      False  \n",
              "252       95     60           2      False  \n",
              "475       96    105           4      False  \n",
              "562       70     70           5      False  \n",
              "637      110     65           5      False  \n",
              "209       25     15           2      False  \n",
              "792       98     99           6       True  \n",
              "0         65     45           1      False  \n",
              "359       45     10           3      False  "
            ],
            "text/html": [
              "\n",
              "  <div id=\"df-33bb7f82-f49c-4288-87ef-fdf828f4ce39\">\n",
              "    <div class=\"colab-df-container\">\n",
              "      <div>\n",
              "<style scoped>\n",
              "    .dataframe tbody tr th:only-of-type {\n",
              "        vertical-align: middle;\n",
              "    }\n",
              "\n",
              "    .dataframe tbody tr th {\n",
              "        vertical-align: top;\n",
              "    }\n",
              "\n",
              "    .dataframe thead th {\n",
              "        text-align: right;\n",
              "    }\n",
              "</style>\n",
              "<table border=\"1\" class=\"dataframe\">\n",
              "  <thead>\n",
              "    <tr style=\"text-align: right;\">\n",
              "      <th></th>\n",
              "      <th>#</th>\n",
              "      <th>Name</th>\n",
              "      <th>Type 1</th>\n",
              "      <th>Type 2</th>\n",
              "      <th>Total</th>\n",
              "      <th>HP</th>\n",
              "      <th>Attack</th>\n",
              "      <th>Defense</th>\n",
              "      <th>Sp. Atk</th>\n",
              "      <th>Sp. Def</th>\n",
              "      <th>Speed</th>\n",
              "      <th>Generation</th>\n",
              "      <th>Legendary</th>\n",
              "    </tr>\n",
              "  </thead>\n",
              "  <tbody>\n",
              "    <tr>\n",
              "      <th>408</th>\n",
              "      <td>373</td>\n",
              "      <td>Salamence</td>\n",
              "      <td>Dragon</td>\n",
              "      <td>Flying</td>\n",
              "      <td>600</td>\n",
              "      <td>95</td>\n",
              "      <td>135</td>\n",
              "      <td>80</td>\n",
              "      <td>110</td>\n",
              "      <td>80</td>\n",
              "      <td>100</td>\n",
              "      <td>3</td>\n",
              "      <td>False</td>\n",
              "    </tr>\n",
              "    <tr>\n",
              "      <th>129</th>\n",
              "      <td>120</td>\n",
              "      <td>Staryu</td>\n",
              "      <td>Water</td>\n",
              "      <td>NaN</td>\n",
              "      <td>340</td>\n",
              "      <td>30</td>\n",
              "      <td>45</td>\n",
              "      <td>55</td>\n",
              "      <td>70</td>\n",
              "      <td>55</td>\n",
              "      <td>85</td>\n",
              "      <td>1</td>\n",
              "      <td>False</td>\n",
              "    </tr>\n",
              "    <tr>\n",
              "      <th>147</th>\n",
              "      <td>136</td>\n",
              "      <td>Flareon</td>\n",
              "      <td>Fire</td>\n",
              "      <td>NaN</td>\n",
              "      <td>525</td>\n",
              "      <td>65</td>\n",
              "      <td>130</td>\n",
              "      <td>60</td>\n",
              "      <td>95</td>\n",
              "      <td>110</td>\n",
              "      <td>65</td>\n",
              "      <td>1</td>\n",
              "      <td>False</td>\n",
              "    </tr>\n",
              "    <tr>\n",
              "      <th>788</th>\n",
              "      <td>712</td>\n",
              "      <td>Bergmite</td>\n",
              "      <td>Ice</td>\n",
              "      <td>NaN</td>\n",
              "      <td>304</td>\n",
              "      <td>55</td>\n",
              "      <td>69</td>\n",
              "      <td>85</td>\n",
              "      <td>32</td>\n",
              "      <td>35</td>\n",
              "      <td>28</td>\n",
              "      <td>6</td>\n",
              "      <td>False</td>\n",
              "    </tr>\n",
              "    <tr>\n",
              "      <th>273</th>\n",
              "      <td>253</td>\n",
              "      <td>Grovyle</td>\n",
              "      <td>Grass</td>\n",
              "      <td>NaN</td>\n",
              "      <td>405</td>\n",
              "      <td>50</td>\n",
              "      <td>65</td>\n",
              "      <td>45</td>\n",
              "      <td>85</td>\n",
              "      <td>65</td>\n",
              "      <td>95</td>\n",
              "      <td>3</td>\n",
              "      <td>False</td>\n",
              "    </tr>\n",
              "    <tr>\n",
              "      <th>479</th>\n",
              "      <td>431</td>\n",
              "      <td>Glameow</td>\n",
              "      <td>Normal</td>\n",
              "      <td>NaN</td>\n",
              "      <td>310</td>\n",
              "      <td>49</td>\n",
              "      <td>55</td>\n",
              "      <td>42</td>\n",
              "      <td>42</td>\n",
              "      <td>37</td>\n",
              "      <td>85</td>\n",
              "      <td>4</td>\n",
              "      <td>False</td>\n",
              "    </tr>\n",
              "    <tr>\n",
              "      <th>665</th>\n",
              "      <td>604</td>\n",
              "      <td>Eelektross</td>\n",
              "      <td>Electric</td>\n",
              "      <td>NaN</td>\n",
              "      <td>515</td>\n",
              "      <td>85</td>\n",
              "      <td>115</td>\n",
              "      <td>80</td>\n",
              "      <td>105</td>\n",
              "      <td>80</td>\n",
              "      <td>50</td>\n",
              "      <td>5</td>\n",
              "      <td>False</td>\n",
              "    </tr>\n",
              "    <tr>\n",
              "      <th>15</th>\n",
              "      <td>12</td>\n",
              "      <td>Butterfree</td>\n",
              "      <td>Bug</td>\n",
              "      <td>Flying</td>\n",
              "      <td>395</td>\n",
              "      <td>60</td>\n",
              "      <td>45</td>\n",
              "      <td>50</td>\n",
              "      <td>90</td>\n",
              "      <td>80</td>\n",
              "      <td>70</td>\n",
              "      <td>1</td>\n",
              "      <td>False</td>\n",
              "    </tr>\n",
              "    <tr>\n",
              "      <th>128</th>\n",
              "      <td>119</td>\n",
              "      <td>Seaking</td>\n",
              "      <td>Water</td>\n",
              "      <td>NaN</td>\n",
              "      <td>450</td>\n",
              "      <td>80</td>\n",
              "      <td>92</td>\n",
              "      <td>65</td>\n",
              "      <td>65</td>\n",
              "      <td>80</td>\n",
              "      <td>68</td>\n",
              "      <td>1</td>\n",
              "      <td>False</td>\n",
              "    </tr>\n",
              "    <tr>\n",
              "      <th>332</th>\n",
              "      <td>306</td>\n",
              "      <td>Aggron</td>\n",
              "      <td>Steel</td>\n",
              "      <td>Rock</td>\n",
              "      <td>530</td>\n",
              "      <td>70</td>\n",
              "      <td>110</td>\n",
              "      <td>180</td>\n",
              "      <td>60</td>\n",
              "      <td>60</td>\n",
              "      <td>50</td>\n",
              "      <td>3</td>\n",
              "      <td>False</td>\n",
              "    </tr>\n",
              "    <tr>\n",
              "      <th>215</th>\n",
              "      <td>200</td>\n",
              "      <td>Misdreavus</td>\n",
              "      <td>Ghost</td>\n",
              "      <td>NaN</td>\n",
              "      <td>435</td>\n",
              "      <td>60</td>\n",
              "      <td>60</td>\n",
              "      <td>60</td>\n",
              "      <td>85</td>\n",
              "      <td>85</td>\n",
              "      <td>85</td>\n",
              "      <td>2</td>\n",
              "      <td>False</td>\n",
              "    </tr>\n",
              "    <tr>\n",
              "      <th>586</th>\n",
              "      <td>527</td>\n",
              "      <td>Woobat</td>\n",
              "      <td>Psychic</td>\n",
              "      <td>Flying</td>\n",
              "      <td>313</td>\n",
              "      <td>55</td>\n",
              "      <td>45</td>\n",
              "      <td>43</td>\n",
              "      <td>55</td>\n",
              "      <td>43</td>\n",
              "      <td>72</td>\n",
              "      <td>5</td>\n",
              "      <td>False</td>\n",
              "    </tr>\n",
              "    <tr>\n",
              "      <th>252</th>\n",
              "      <td>233</td>\n",
              "      <td>Porygon2</td>\n",
              "      <td>Normal</td>\n",
              "      <td>NaN</td>\n",
              "      <td>515</td>\n",
              "      <td>85</td>\n",
              "      <td>80</td>\n",
              "      <td>90</td>\n",
              "      <td>105</td>\n",
              "      <td>95</td>\n",
              "      <td>60</td>\n",
              "      <td>2</td>\n",
              "      <td>False</td>\n",
              "    </tr>\n",
              "    <tr>\n",
              "      <th>475</th>\n",
              "      <td>428</td>\n",
              "      <td>Lopunny</td>\n",
              "      <td>Normal</td>\n",
              "      <td>NaN</td>\n",
              "      <td>480</td>\n",
              "      <td>65</td>\n",
              "      <td>76</td>\n",
              "      <td>84</td>\n",
              "      <td>54</td>\n",
              "      <td>96</td>\n",
              "      <td>105</td>\n",
              "      <td>4</td>\n",
              "      <td>False</td>\n",
              "    </tr>\n",
              "    <tr>\n",
              "      <th>562</th>\n",
              "      <td>503</td>\n",
              "      <td>Samurott</td>\n",
              "      <td>Water</td>\n",
              "      <td>NaN</td>\n",
              "      <td>528</td>\n",
              "      <td>95</td>\n",
              "      <td>100</td>\n",
              "      <td>85</td>\n",
              "      <td>108</td>\n",
              "      <td>70</td>\n",
              "      <td>70</td>\n",
              "      <td>5</td>\n",
              "      <td>False</td>\n",
              "    </tr>\n",
              "    <tr>\n",
              "      <th>637</th>\n",
              "      <td>576</td>\n",
              "      <td>Gothitelle</td>\n",
              "      <td>Psychic</td>\n",
              "      <td>NaN</td>\n",
              "      <td>490</td>\n",
              "      <td>70</td>\n",
              "      <td>55</td>\n",
              "      <td>95</td>\n",
              "      <td>95</td>\n",
              "      <td>110</td>\n",
              "      <td>65</td>\n",
              "      <td>5</td>\n",
              "      <td>False</td>\n",
              "    </tr>\n",
              "    <tr>\n",
              "      <th>209</th>\n",
              "      <td>194</td>\n",
              "      <td>Wooper</td>\n",
              "      <td>Water</td>\n",
              "      <td>Ground</td>\n",
              "      <td>210</td>\n",
              "      <td>55</td>\n",
              "      <td>45</td>\n",
              "      <td>45</td>\n",
              "      <td>25</td>\n",
              "      <td>25</td>\n",
              "      <td>15</td>\n",
              "      <td>2</td>\n",
              "      <td>False</td>\n",
              "    </tr>\n",
              "    <tr>\n",
              "      <th>792</th>\n",
              "      <td>716</td>\n",
              "      <td>Xerneas</td>\n",
              "      <td>Fairy</td>\n",
              "      <td>NaN</td>\n",
              "      <td>680</td>\n",
              "      <td>126</td>\n",
              "      <td>131</td>\n",
              "      <td>95</td>\n",
              "      <td>131</td>\n",
              "      <td>98</td>\n",
              "      <td>99</td>\n",
              "      <td>6</td>\n",
              "      <td>True</td>\n",
              "    </tr>\n",
              "    <tr>\n",
              "      <th>0</th>\n",
              "      <td>1</td>\n",
              "      <td>Bulbasaur</td>\n",
              "      <td>Grass</td>\n",
              "      <td>Poison</td>\n",
              "      <td>318</td>\n",
              "      <td>45</td>\n",
              "      <td>49</td>\n",
              "      <td>49</td>\n",
              "      <td>65</td>\n",
              "      <td>65</td>\n",
              "      <td>45</td>\n",
              "      <td>1</td>\n",
              "      <td>False</td>\n",
              "    </tr>\n",
              "    <tr>\n",
              "      <th>359</th>\n",
              "      <td>328</td>\n",
              "      <td>Trapinch</td>\n",
              "      <td>Ground</td>\n",
              "      <td>NaN</td>\n",
              "      <td>290</td>\n",
              "      <td>45</td>\n",
              "      <td>100</td>\n",
              "      <td>45</td>\n",
              "      <td>45</td>\n",
              "      <td>45</td>\n",
              "      <td>10</td>\n",
              "      <td>3</td>\n",
              "      <td>False</td>\n",
              "    </tr>\n",
              "  </tbody>\n",
              "</table>\n",
              "</div>\n",
              "      <button class=\"colab-df-convert\" onclick=\"convertToInteractive('df-33bb7f82-f49c-4288-87ef-fdf828f4ce39')\"\n",
              "              title=\"Convert this dataframe to an interactive table.\"\n",
              "              style=\"display:none;\">\n",
              "        \n",
              "  <svg xmlns=\"http://www.w3.org/2000/svg\" height=\"24px\"viewBox=\"0 0 24 24\"\n",
              "       width=\"24px\">\n",
              "    <path d=\"M0 0h24v24H0V0z\" fill=\"none\"/>\n",
              "    <path d=\"M18.56 5.44l.94 2.06.94-2.06 2.06-.94-2.06-.94-.94-2.06-.94 2.06-2.06.94zm-11 1L8.5 8.5l.94-2.06 2.06-.94-2.06-.94L8.5 2.5l-.94 2.06-2.06.94zm10 10l.94 2.06.94-2.06 2.06-.94-2.06-.94-.94-2.06-.94 2.06-2.06.94z\"/><path d=\"M17.41 7.96l-1.37-1.37c-.4-.4-.92-.59-1.43-.59-.52 0-1.04.2-1.43.59L10.3 9.45l-7.72 7.72c-.78.78-.78 2.05 0 2.83L4 21.41c.39.39.9.59 1.41.59.51 0 1.02-.2 1.41-.59l7.78-7.78 2.81-2.81c.8-.78.8-2.07 0-2.86zM5.41 20L4 18.59l7.72-7.72 1.47 1.35L5.41 20z\"/>\n",
              "  </svg>\n",
              "      </button>\n",
              "      \n",
              "  <style>\n",
              "    .colab-df-container {\n",
              "      display:flex;\n",
              "      flex-wrap:wrap;\n",
              "      gap: 12px;\n",
              "    }\n",
              "\n",
              "    .colab-df-convert {\n",
              "      background-color: #E8F0FE;\n",
              "      border: none;\n",
              "      border-radius: 50%;\n",
              "      cursor: pointer;\n",
              "      display: none;\n",
              "      fill: #1967D2;\n",
              "      height: 32px;\n",
              "      padding: 0 0 0 0;\n",
              "      width: 32px;\n",
              "    }\n",
              "\n",
              "    .colab-df-convert:hover {\n",
              "      background-color: #E2EBFA;\n",
              "      box-shadow: 0px 1px 2px rgba(60, 64, 67, 0.3), 0px 1px 3px 1px rgba(60, 64, 67, 0.15);\n",
              "      fill: #174EA6;\n",
              "    }\n",
              "\n",
              "    [theme=dark] .colab-df-convert {\n",
              "      background-color: #3B4455;\n",
              "      fill: #D2E3FC;\n",
              "    }\n",
              "\n",
              "    [theme=dark] .colab-df-convert:hover {\n",
              "      background-color: #434B5C;\n",
              "      box-shadow: 0px 1px 3px 1px rgba(0, 0, 0, 0.15);\n",
              "      filter: drop-shadow(0px 1px 2px rgba(0, 0, 0, 0.3));\n",
              "      fill: #FFFFFF;\n",
              "    }\n",
              "  </style>\n",
              "\n",
              "      <script>\n",
              "        const buttonEl =\n",
              "          document.querySelector('#df-33bb7f82-f49c-4288-87ef-fdf828f4ce39 button.colab-df-convert');\n",
              "        buttonEl.style.display =\n",
              "          google.colab.kernel.accessAllowed ? 'block' : 'none';\n",
              "\n",
              "        async function convertToInteractive(key) {\n",
              "          const element = document.querySelector('#df-33bb7f82-f49c-4288-87ef-fdf828f4ce39');\n",
              "          const dataTable =\n",
              "            await google.colab.kernel.invokeFunction('convertToInteractive',\n",
              "                                                     [key], {});\n",
              "          if (!dataTable) return;\n",
              "\n",
              "          const docLinkHtml = 'Like what you see? Visit the ' +\n",
              "            '<a target=\"_blank\" href=https://colab.research.google.com/notebooks/data_table.ipynb>data table notebook</a>'\n",
              "            + ' to learn more about interactive tables.';\n",
              "          element.innerHTML = '';\n",
              "          dataTable['output_type'] = 'display_data';\n",
              "          await google.colab.output.renderOutput(dataTable, element);\n",
              "          const docLink = document.createElement('div');\n",
              "          docLink.innerHTML = docLinkHtml;\n",
              "          element.appendChild(docLink);\n",
              "        }\n",
              "      </script>\n",
              "    </div>\n",
              "  </div>\n",
              "  "
            ]
          },
          "metadata": {},
          "execution_count": 60
        }
      ]
    },
    {
      "cell_type": "code",
      "source": [
        "data_pokemon.info()"
      ],
      "metadata": {
        "colab": {
          "base_uri": "https://localhost:8080/"
        },
        "outputId": "6b9df8d2-9e6c-4a2a-b7fc-151e0d59e3e8",
        "id": "V5hTO-2LvT5i"
      },
      "execution_count": null,
      "outputs": [
        {
          "output_type": "stream",
          "name": "stdout",
          "text": [
            "<class 'pandas.core.frame.DataFrame'>\n",
            "RangeIndex: 800 entries, 0 to 799\n",
            "Data columns (total 13 columns):\n",
            " #   Column      Non-Null Count  Dtype \n",
            "---  ------      --------------  ----- \n",
            " 0   #           800 non-null    int64 \n",
            " 1   Name        800 non-null    object\n",
            " 2   Type 1      800 non-null    object\n",
            " 3   Type 2      414 non-null    object\n",
            " 4   Total       800 non-null    int64 \n",
            " 5   HP          800 non-null    int64 \n",
            " 6   Attack      800 non-null    int64 \n",
            " 7   Defense     800 non-null    int64 \n",
            " 8   Sp. Atk     800 non-null    int64 \n",
            " 9   Sp. Def     800 non-null    int64 \n",
            " 10  Speed       800 non-null    int64 \n",
            " 11  Generation  800 non-null    int64 \n",
            " 12  Legendary   800 non-null    bool  \n",
            "dtypes: bool(1), int64(9), object(3)\n",
            "memory usage: 75.9+ KB\n"
          ]
        }
      ]
    },
    {
      "cell_type": "code",
      "source": [
        "from tqdm import tqdm\n",
        "\n",
        "#On récupère la colonne avec les prénoms\n",
        "prenoms = data_pokemon['Name']\n",
        "\n",
        "#On supprime les éléments vide avec dropna\n",
        "prenoms = prenoms.dropna()\n",
        "\n",
        "#on la convertit en liste\n",
        "liste_prenoms = []\n",
        "\n",
        "for prenom in tqdm(prenoms):\n",
        "  #On vérifie qu'il n'y ait pas de doublons\n",
        "  if prenom not in liste_prenoms and 'Mega' not in prenom and 'Primal' not in prenom and ' X' not in prenom and ' Y' not in prenom :\n",
        "    liste_prenoms.append(prenom)\n"
      ],
      "metadata": {
        "colab": {
          "base_uri": "https://localhost:8080/"
        },
        "outputId": "06586af9-a8e7-4462-863e-09c10f096a6f",
        "id": "Hn0KSTRovT5j"
      },
      "execution_count": null,
      "outputs": [
        {
          "output_type": "stream",
          "name": "stderr",
          "text": [
            "100%|██████████| 800/800 [00:00<00:00, 94775.82it/s]\n"
          ]
        }
      ]
    },
    {
      "cell_type": "code",
      "source": [
        "print(len(liste_prenoms))"
      ],
      "metadata": {
        "colab": {
          "base_uri": "https://localhost:8080/"
        },
        "outputId": "15b02534-0b12-411a-b23d-419fc5cd8a05",
        "id": "NLWEsif7vT5k"
      },
      "execution_count": null,
      "outputs": [
        {
          "output_type": "stream",
          "name": "stdout",
          "text": [
            "749\n"
          ]
        }
      ]
    },
    {
      "cell_type": "markdown",
      "source": [
        "##Mise en forme des données\n",
        "On va faire une chaîne de caractère qui joint tous les éléments de la liste.\n",
        "\n",
        "Pour ce faire, on va utiliser la méthode str.join(list)"
      ],
      "metadata": {
        "id": "nW_OJxoivT5r"
      }
    },
    {
      "cell_type": "code",
      "source": [
        "#On commence par chercher la longueur des séquences\n",
        "longueur_sequence = 0\n",
        "\n",
        "#Il va falloir mettre cette longueur par rapport au plus long nom\n",
        "for prenom in liste_prenoms :\n",
        "  longueur = len(prenom)\n",
        "\n",
        "  #si la longueur du prénom est plus grande que celle de la séquence, on update cette dernière\n",
        "  if longueur > longueur_sequence :\n",
        "    longueur_sequence = longueur\n",
        "\n",
        "#On ajoute 1 pour prendre en compte le séparateur ' '\n",
        "longueur_sequence += 1\n",
        "\n",
        "print(\"Longueur des séquences :\", longueur_sequence)\n",
        "\n"
      ],
      "metadata": {
        "colab": {
          "base_uri": "https://localhost:8080/"
        },
        "outputId": "2b09a79a-269f-4d7a-c79c-a2b4626734cf",
        "id": "I_s23xO9vT5s"
      },
      "execution_count": null,
      "outputs": [
        {
          "output_type": "stream",
          "name": "stdout",
          "text": [
            "Longueur des séquences : 25\n"
          ]
        }
      ]
    },
    {
      "cell_type": "code",
      "source": [
        "#On peut maintenant faire notre chaîne de prénoms :\n",
        "chaine_prenoms = ' '.join(liste_prenoms).lower()\n",
        "\n",
        "#On ajoute un espace à la fin\n",
        "chaine_prenoms += ' '\n",
        "\n",
        "print(\"Chaîne des prénoms :\", chaine_prenoms)"
      ],
      "metadata": {
        "colab": {
          "base_uri": "https://localhost:8080/"
        },
        "outputId": "6c266a7e-087d-473c-b47f-d8480246f1e0",
        "id": "OOFqgF8dvT5t"
      },
      "execution_count": null,
      "outputs": [
        {
          "output_type": "stream",
          "name": "stdout",
          "text": [
            "Chaîne des prénoms : bulbasaur ivysaur venusaur charmander charmeleon charizard squirtle wartortle blastoise caterpie metapod butterfree weedle kakuna beedrill pidgey pidgeotto pidgeot rattata raticate spearow fearow ekans arbok pikachu raichu sandshrew sandslash nidoran♀ nidorina nidoqueen nidoran♂ nidorino nidoking clefairy clefable vulpix ninetales jigglypuff wigglytuff zubat golbat oddish gloom vileplume paras parasect venonat venomoth diglett dugtrio meowth persian psyduck golduck mankey primeape growlithe arcanine poliwag poliwhirl poliwrath abra kadabra alakazam machop machoke machamp bellsprout weepinbell victreebel tentacool tentacruel geodude graveler golem ponyta rapidash slowpoke slowbro magnemite magneton farfetch'd doduo dodrio seel dewgong grimer muk shellder cloyster gastly haunter gengar onix drowzee hypno krabby kingler voltorb electrode exeggcute exeggutor cubone marowak hitmonlee hitmonchan lickitung koffing weezing rhyhorn rhydon chansey tangela kangaskhan horsea seadra goldeen seaking staryu starmie mr. mime scyther jynx electabuzz magmar pinsir tauros magikarp gyarados lapras ditto eevee vaporeon jolteon flareon porygon omanyte omastar kabuto kabutops aerodactyl snorlax articuno zapdos moltres dratini dragonair dragonite mewtwo mew chikorita bayleef cyndaquil quilava typhlosion totodile croconaw feraligatr sentret furret hoothoot noctowl ledyba ledian spinarak ariados crobat chinchou lanturn pichu cleffa igglybuff togepi togetic natu xatu mareep flaaffy ampharos bellossom marill azumarill sudowoodo politoed hoppip skiploom jumpluff aipom sunkern sunflora yanma wooper quagsire espeon umbreon murkrow slowking misdreavus unown wobbuffet girafarig pineco forretress dunsparce gligar steelix snubbull granbull qwilfish scizor shuckle heracross sneasel teddiursa ursaring slugma magcargo swinub piloswine corsola remoraid octillery delibird mantine skarmory houndour houndoom kingdra phanpy donphan porygon2 stantler smeargle tyrogue hitmontop smoochum elekid magby miltank blissey raikou entei suicune larvitar pupitar tyranitar lugia ho-oh celebi treecko grovyle sceptile torchic combusken blaziken mudkip marshtomp swampert poochyena mightyena zigzagoon linoone wurmple silcoon beautifly cascoon dustox lotad lombre ludicolo seedot nuzleaf shiftry taillow swellow wingull pelipper ralts kirlia gardevoir surskit masquerain shroomish breloom slakoth vigoroth slaking nincada ninjask shedinja whismur loudred exploud makuhita hariyama azurill nosepass skitty delcatty sableye mawile aron lairon aggron meditite medicham electrike manectric plusle minun volbeat illumise roselia gulpin swalot carvanha sharpedo wailmer wailord numel camerupt torkoal spoink grumpig spinda trapinch vibrava flygon cacnea cacturne swablu altaria zangoose seviper lunatone solrock barboach whiscash corphish crawdaunt baltoy claydol lileep cradily anorith armaldo feebas milotic castform kecleon shuppet banette duskull dusclops tropius chimecho absol wynaut snorunt glalie spheal sealeo walrein clamperl huntail gorebyss relicanth luvdisc bagon shelgon salamence beldum metang metagross regirock regice registeel latias latios kyogre groudon rayquaza jirachi deoxysnormal forme deoxysattack forme deoxysdefense forme deoxysspeed forme turtwig grotle torterra chimchar monferno infernape piplup prinplup empoleon starly staravia staraptor bidoof bibarel kricketot kricketune shinx luxio luxray budew roserade cranidos rampardos shieldon bastiodon burmy wormadamplant cloak wormadamsandy cloak wormadamtrash cloak mothim combee vespiquen pachirisu buizel floatzel cherubi cherrim shellos gastrodon ambipom drifloon drifblim buneary lopunny mismagius honchkrow glameow purugly chingling stunky skuntank bronzor bronzong bonsly mime jr. happiny chatot spiritomb gible gabite garchomp munchlax riolu lucario hippopotas hippowdon skorupi drapion croagunk toxicroak carnivine finneon lumineon mantyke snover abomasnow weavile magnezone lickilicky rhyperior tangrowth electivire magmortar togekiss yanmega leafeon glaceon gliscor mamoswine porygon-z gallade probopass dusknoir froslass rotom rotomheat rotom rotomwash rotom rotomfrost rotom rotomfan rotom rotommow rotom uxie mesprit azelf dialga palkia heatran regigigas giratinaaltered forme giratinaorigin forme cresselia phione manaphy darkrai shayminland forme shayminsky forme arceus victini snivy servine serperior tepig pignite emboar oshawott dewott samurott patrat watchog lillipup herdier stoutland purrloin liepard pansage simisage pansear simisear panpour simipour munna musharna pidove tranquill unfezant blitzle zebstrika roggenrola boldore gigalith woobat swoobat drilbur excadrill audino timburr gurdurr conkeldurr tympole palpitoad seismitoad throh sawk sewaddle swadloon leavanny venipede whirlipede scolipede cottonee whimsicott petilil lilligant basculin sandile krokorok krookodile darumaka darmanitanstandard mode darmanitanzen mode maractus dwebble crustle scraggy scrafty sigilyph yamask cofagrigus tirtouga carracosta archen archeops trubbish garbodor zorua zoroark minccino cinccino gothita gothorita gothitelle solosis duosion reuniclus ducklett swanna vanillite vanillish vanilluxe deerling sawsbuck emolga karrablast escavalier foongus amoonguss frillish jellicent alomomola joltik galvantula ferroseed ferrothorn klink klang klinklang tynamo eelektrik eelektross elgyem beheeyem litwick lampent chandelure axew fraxure haxorus cubchoo beartic cryogonal shelmet accelgor stunfisk mienfoo mienshao druddigon golett golurk pawniard bisharp bouffalant rufflet braviary vullaby mandibuzz heatmor durant deino zweilous hydreigon larvesta volcarona cobalion terrakion virizion tornadusincarnate forme tornadustherian forme thundurusincarnate forme thundurustherian forme reshiram zekrom landorusincarnate forme landorustherian forme kyurem kyuremblack kyurem kyuremwhite kyurem keldeoordinary forme keldeoresolute forme meloettaaria forme meloettapirouette forme genesect chespin quilladin chesnaught fennekin braixen delphox froakie frogadier greninja bunnelby diggersby fletchling fletchinder talonflame scatterbug spewpa vivillon litleo pyroar flabébé floette florges skiddo gogoat pancham pangoro furfrou espurr meowsticmale meowsticfemale honedge doublade aegislashblade forme aegislashshield forme spritzee aromatisse swirlix slurpuff inkay malamar binacle barbaracle skrelp dragalge clauncher clawitzer helioptile heliolisk tyrunt tyrantrum amaura aurorus sylveon hawlucha dedenne carbink goomy sliggoo goodra klefki phantump trevenant pumpkabooaverage size pumpkaboosmall size pumpkaboolarge size pumpkaboosuper size gourgeistaverage size gourgeistsmall size gourgeistlarge size gourgeistsuper size bergmite avalugg noibat noivern xerneas yveltal zygarde50% forme diancie hoopahoopa confined hoopahoopa unbound volcanion \n"
          ]
        }
      ]
    },
    {
      "cell_type": "markdown",
      "source": [
        "On va faire une liste des différentes lettres et on pourra ainsi remplacer le caractère dans chaine_prenom par son indice."
      ],
      "metadata": {
        "id": "0gOk_HeOvT5u"
      }
    },
    {
      "cell_type": "code",
      "source": [
        "liste_lettres = []\n",
        "\n",
        "#Pour chaque lettre de la chaine, on ajoute la lettre à liste_lettres si elle n'est pas déjà dedans\n",
        "for lettre in chaine_prenoms :\n",
        "  if lettre not in liste_lettres :\n",
        "    liste_lettres.append(lettre)\n",
        "\n",
        "print(\"Nombre de caractères différents :\",len(liste_lettres))\n",
        "print(liste_lettres)\n",
        "print('indice de la lettre h :', liste_lettres.index('h'))"
      ],
      "metadata": {
        "colab": {
          "base_uri": "https://localhost:8080/"
        },
        "outputId": "7fd6e9cc-c3ca-476c-d5ff-0e552ca22068",
        "id": "vDQX7XnMvT5u"
      },
      "execution_count": null,
      "outputs": [
        {
          "output_type": "stream",
          "name": "stdout",
          "text": [
            "Nombre de caractères différents : 37\n",
            "['b', 'u', 'l', 'a', 's', 'r', ' ', 'i', 'v', 'y', 'e', 'n', 'c', 'h', 'm', 'd', 'o', 'z', 'q', 't', 'w', 'p', 'f', 'k', 'g', '♀', '♂', 'x', 'j', \"'\", '.', '2', '-', 'é', '5', '0', '%']\n",
            "indice de la lettre h : 13\n"
          ]
        }
      ]
    },
    {
      "cell_type": "markdown",
      "source": [
        "On va pouvoir créer les séquences glissées sur la chaîne de prénoms"
      ],
      "metadata": {
        "id": "hUsACXD2vT5v"
      }
    },
    {
      "cell_type": "code",
      "source": [
        "#On va créer les séquences et la lettre suivante en même temps\n",
        "sequences = []\n",
        "lettres_suivantes = []\n",
        "\n",
        "#On récupère la longueur de la chaîne de prénoms :\n",
        "longueur_chaine = len(chaine_prenoms)\n",
        "\n",
        "#on va faire une boucle sur des indices entre 0 et longueur_chaine - longueur_sequence :\n",
        "for indice in range(0, longueur_chaine - longueur_sequence) :\n",
        "  #on récupère une séquence dans chaîne nombre située entre indice et indice + longueur_sequence\n",
        "  sequence = chaine_prenoms[indice : indice + longueur_sequence]\n",
        "  #on récupère la lettre suivante :\n",
        "  lettre_suivante = chaine_prenoms[indice + longueur_sequence]\n",
        "\n",
        "  #On ajoute ces derniers éléments à nos 2 listes\n",
        "  sequences.append(sequence)\n",
        "  lettres_suivantes.append(lettre_suivante)\n",
        "\n",
        "print(\"Nombre de séquences :\", len(sequences))\n",
        "#Vérification sur les 10 premiers éléments et le dernier\n",
        "#On utilise enumerate() pour récupérer l'indice et l'élément de la liste avec for\n",
        "for indice,sequence in enumerate(sequences[:10]):\n",
        "  print(\"Séquence :\", sequence, \"    Lettre suivante :\",lettres_suivantes[indice])\n",
        "\n",
        "print()\n",
        "print(\"Dernières occurences :\")\n",
        "print(\"Séquence :\", sequences[-1], \"    Lettre suivante :\",lettres_suivantes[-1])"
      ],
      "metadata": {
        "colab": {
          "base_uri": "https://localhost:8080/"
        },
        "outputId": "306607b6-1e80-46f0-e0cb-45b4e62968c1",
        "id": "0ZzDry8wvT5w"
      },
      "execution_count": null,
      "outputs": [
        {
          "output_type": "stream",
          "name": "stdout",
          "text": [
            "Nombre de séquences : 6775\n",
            "Séquence : bulbasaur ivysaur venusau     Lettre suivante : r\n",
            "Séquence : ulbasaur ivysaur venusaur     Lettre suivante :  \n",
            "Séquence : lbasaur ivysaur venusaur      Lettre suivante : c\n",
            "Séquence : basaur ivysaur venusaur c     Lettre suivante : h\n",
            "Séquence : asaur ivysaur venusaur ch     Lettre suivante : a\n",
            "Séquence : saur ivysaur venusaur cha     Lettre suivante : r\n",
            "Séquence : aur ivysaur venusaur char     Lettre suivante : m\n",
            "Séquence : ur ivysaur venusaur charm     Lettre suivante : a\n",
            "Séquence : r ivysaur venusaur charma     Lettre suivante : n\n",
            "Séquence :  ivysaur venusaur charman     Lettre suivante : d\n",
            "\n",
            "Dernières occurences :\n",
            "Séquence : pahoopa unbound volcanion     Lettre suivante :  \n"
          ]
        }
      ]
    },
    {
      "cell_type": "markdown",
      "source": [
        "## Création des X, Y"
      ],
      "metadata": {
        "id": "qDGWQjOVvT5x"
      }
    },
    {
      "cell_type": "code",
      "source": [
        "import numpy as np\n",
        "from tensorflow.keras.utils import to_categorical\n",
        "\n",
        "#On stocke la longueur de liste_lettres\n",
        "categories = len(liste_lettres)\n",
        "\n",
        "#on va commencer par créer les X\n",
        "X=[]\n",
        "\n",
        "#on crée une boucle sur les séquences\n",
        "for sequence in sequences :\n",
        "  #on va créer une liste vide pour récolter les indices des caractères\n",
        "  liste = []\n",
        "  for caractere in sequence :\n",
        "    #on récupère l'indice correspondant au caractère\n",
        "    indice = liste_lettres.index(caractere)\n",
        "    #on ajoute l'indice à la liste\n",
        "    liste.append(indice)\n",
        "\n",
        "  #on convertit tout de suite avec to_categorical pour avoir un vecteur de proba de 26 éléments\n",
        "  liste = to_categorical(liste,categories)\n",
        "  #On ajoute la liste dans X\n",
        "  X.append(liste)\n",
        "\n",
        "X= np.asarray(X)\n",
        "print(X.shape)\n",
        "\n",
        "#pour les Y, on ne change pas de méthode\n",
        "#il faut quand même convertir les caractères en indice\n",
        "Y=[]\n",
        "for caractere in lettres_suivantes :\n",
        "  indice = liste_lettres.index(caractere)\n",
        "  Y.append(indice)\n",
        "\n",
        "#to_categorical\n",
        "Y = to_categorical(Y,categories)\n",
        "\n",
        "print(Y.shape)"
      ],
      "metadata": {
        "colab": {
          "base_uri": "https://localhost:8080/"
        },
        "outputId": "d40f9666-9518-40ce-fd2d-886d468164e6",
        "id": "CzhRM9R3vT5y"
      },
      "execution_count": null,
      "outputs": [
        {
          "output_type": "stream",
          "name": "stdout",
          "text": [
            "(6775, 25, 37)\n",
            "(6775, 37)\n"
          ]
        }
      ]
    },
    {
      "cell_type": "markdown",
      "source": [
        "##Réseau de neurones avec LSTM"
      ],
      "metadata": {
        "id": "j1KttRmIvT5z"
      }
    },
    {
      "cell_type": "code",
      "source": [
        "from tensorflow.keras.models import Sequential\n",
        "from tensorflow.keras.layers import Dense, LSTM\n",
        "\n",
        "modele = Sequential()\n",
        "\n",
        "#On ajoute en entrée une couche de neurones LSTM\n",
        "modele.add(LSTM(64, input_shape = (longueur_sequence,categories), recurrent_dropout = 0.2))\n",
        "\n",
        "#On ajoute la sortie\n",
        "modele.add(Dense(categories, activation='softmax'))\n",
        "\n",
        "modele.summary()"
      ],
      "metadata": {
        "colab": {
          "base_uri": "https://localhost:8080/"
        },
        "outputId": "1adbb93d-da02-4c11-8d34-b948c99d6de2",
        "id": "DD2sUp2kvT5z"
      },
      "execution_count": null,
      "outputs": [
        {
          "output_type": "stream",
          "name": "stdout",
          "text": [
            "Model: \"sequential_2\"\n",
            "_________________________________________________________________\n",
            " Layer (type)                Output Shape              Param #   \n",
            "=================================================================\n",
            " lstm_2 (LSTM)               (None, 64)                26112     \n",
            "                                                                 \n",
            " dense_2 (Dense)             (None, 37)                2405      \n",
            "                                                                 \n",
            "=================================================================\n",
            "Total params: 28,517\n",
            "Trainable params: 28,517\n",
            "Non-trainable params: 0\n",
            "_________________________________________________________________\n"
          ]
        }
      ]
    },
    {
      "cell_type": "code",
      "source": [
        "from tensorflow.keras.optimizers import RMSprop\n",
        "\n",
        "optimizer = RMSprop(learning_rate = 0.01)\n",
        "\n",
        "modele.compile(optimizer=optimizer, loss='categorical_crossentropy', metrics=['accuracy',])\n",
        "\n",
        "modele.fit(X, Y, batch_size = 32, epochs = 50)\n",
        "\n",
        "modele.save('name_generator.h5')"
      ],
      "metadata": {
        "colab": {
          "base_uri": "https://localhost:8080/",
          "height": 1000
        },
        "outputId": "d23646c1-0aca-4aca-c96a-08fd85ddcae8",
        "id": "XACvYmbIvT50"
      },
      "execution_count": null,
      "outputs": [
        {
          "output_type": "stream",
          "name": "stdout",
          "text": [
            "Epoch 1/50\n",
            "212/212 [==============================] - 51s 29ms/step - loss: 2.8331 - accuracy: 0.1634\n",
            "Epoch 2/50\n",
            "212/212 [==============================] - 6s 29ms/step - loss: 2.5554 - accuracy: 0.2303\n",
            "Epoch 3/50\n",
            "212/212 [==============================] - 6s 29ms/step - loss: 2.4583 - accuracy: 0.2517\n",
            "Epoch 4/50\n",
            "212/212 [==============================] - 6s 29ms/step - loss: 2.3819 - accuracy: 0.2729\n",
            "Epoch 5/50\n",
            "212/212 [==============================] - 6s 29ms/step - loss: 2.3083 - accuracy: 0.2955\n",
            "Epoch 6/50\n",
            "212/212 [==============================] - 6s 29ms/step - loss: 2.2381 - accuracy: 0.3144\n",
            "Epoch 7/50\n",
            "212/212 [==============================] - 6s 28ms/step - loss: 2.1858 - accuracy: 0.3293\n",
            "Epoch 8/50\n",
            "212/212 [==============================] - 6s 29ms/step - loss: 2.1201 - accuracy: 0.3457\n",
            "Epoch 9/50\n",
            "212/212 [==============================] - 6s 29ms/step - loss: 2.0702 - accuracy: 0.3528\n",
            "Epoch 10/50\n",
            "212/212 [==============================] - 6s 29ms/step - loss: 2.0294 - accuracy: 0.3723\n",
            "Epoch 11/50\n",
            "212/212 [==============================] - 7s 33ms/step - loss: 1.9989 - accuracy: 0.3765\n",
            "Epoch 12/50\n",
            "212/212 [==============================] - 6s 29ms/step - loss: 1.9647 - accuracy: 0.3855\n",
            "Epoch 13/50\n",
            "212/212 [==============================] - 6s 29ms/step - loss: 1.9304 - accuracy: 0.3963\n",
            "Epoch 14/50\n",
            "212/212 [==============================] - 6s 29ms/step - loss: 1.9125 - accuracy: 0.3988\n",
            "Epoch 15/50\n",
            "212/212 [==============================] - 6s 29ms/step - loss: 1.8858 - accuracy: 0.4111\n",
            "Epoch 16/50\n",
            "212/212 [==============================] - 6s 29ms/step - loss: 1.8538 - accuracy: 0.4211\n",
            "Epoch 17/50\n",
            "212/212 [==============================] - 6s 29ms/step - loss: 1.8356 - accuracy: 0.4254\n",
            "Epoch 18/50\n",
            "212/212 [==============================] - 6s 29ms/step - loss: 1.8103 - accuracy: 0.4316\n",
            "Epoch 19/50\n",
            "212/212 [==============================] - 6s 29ms/step - loss: 1.7959 - accuracy: 0.4387\n",
            "Epoch 20/50\n",
            "212/212 [==============================] - 6s 29ms/step - loss: 1.7816 - accuracy: 0.4441\n",
            "Epoch 21/50\n",
            "212/212 [==============================] - 6s 29ms/step - loss: 1.7675 - accuracy: 0.4523\n",
            "Epoch 22/50\n",
            "212/212 [==============================] - 6s 29ms/step - loss: 1.7345 - accuracy: 0.4565\n",
            "Epoch 23/50\n",
            "212/212 [==============================] - 6s 29ms/step - loss: 1.7176 - accuracy: 0.4623\n",
            "Epoch 24/50\n",
            "212/212 [==============================] - 6s 29ms/step - loss: 1.7224 - accuracy: 0.4642\n",
            "Epoch 25/50\n",
            "212/212 [==============================] - 6s 29ms/step - loss: 1.7058 - accuracy: 0.4624\n",
            "Epoch 26/50\n",
            "212/212 [==============================] - 6s 29ms/step - loss: 1.6820 - accuracy: 0.4784\n",
            "Epoch 27/50\n",
            "212/212 [==============================] - 6s 29ms/step - loss: 1.6681 - accuracy: 0.4807\n",
            "Epoch 28/50\n",
            "212/212 [==============================] - 6s 29ms/step - loss: 1.6615 - accuracy: 0.4781\n",
            "Epoch 29/50\n",
            "212/212 [==============================] - 6s 29ms/step - loss: 1.6395 - accuracy: 0.4948\n",
            "Epoch 30/50\n",
            "212/212 [==============================] - 6s 29ms/step - loss: 1.6357 - accuracy: 0.4869\n",
            "Epoch 31/50\n",
            "212/212 [==============================] - 6s 29ms/step - loss: 1.6314 - accuracy: 0.4959\n",
            "Epoch 32/50\n",
            "212/212 [==============================] - 6s 29ms/step - loss: 1.6385 - accuracy: 0.4875\n",
            "Epoch 33/50\n",
            "212/212 [==============================] - 6s 29ms/step - loss: 1.6180 - accuracy: 0.4951\n",
            "Epoch 34/50\n",
            "212/212 [==============================] - 6s 29ms/step - loss: 1.6010 - accuracy: 0.4951\n",
            "Epoch 35/50\n",
            "212/212 [==============================] - 6s 29ms/step - loss: 1.6002 - accuracy: 0.4949\n",
            "Epoch 36/50\n",
            "104/212 [=============>................] - ETA: 3s - loss: 1.5244 - accuracy: 0.5108"
          ]
        },
        {
          "output_type": "error",
          "ename": "KeyboardInterrupt",
          "evalue": "ignored",
          "traceback": [
            "\u001b[0;31m---------------------------------------------------------------------------\u001b[0m",
            "\u001b[0;31mKeyboardInterrupt\u001b[0m                         Traceback (most recent call last)",
            "\u001b[0;32m<ipython-input-79-24fc6b5b9894>\u001b[0m in \u001b[0;36m<module>\u001b[0;34m\u001b[0m\n\u001b[1;32m      5\u001b[0m \u001b[0mmodele\u001b[0m\u001b[0;34m.\u001b[0m\u001b[0mcompile\u001b[0m\u001b[0;34m(\u001b[0m\u001b[0moptimizer\u001b[0m\u001b[0;34m=\u001b[0m\u001b[0moptimizer\u001b[0m\u001b[0;34m,\u001b[0m \u001b[0mloss\u001b[0m\u001b[0;34m=\u001b[0m\u001b[0;34m'categorical_crossentropy'\u001b[0m\u001b[0;34m,\u001b[0m \u001b[0mmetrics\u001b[0m\u001b[0;34m=\u001b[0m\u001b[0;34m[\u001b[0m\u001b[0;34m'accuracy'\u001b[0m\u001b[0;34m,\u001b[0m\u001b[0;34m]\u001b[0m\u001b[0;34m)\u001b[0m\u001b[0;34m\u001b[0m\u001b[0;34m\u001b[0m\u001b[0m\n\u001b[1;32m      6\u001b[0m \u001b[0;34m\u001b[0m\u001b[0m\n\u001b[0;32m----> 7\u001b[0;31m \u001b[0mmodele\u001b[0m\u001b[0;34m.\u001b[0m\u001b[0mfit\u001b[0m\u001b[0;34m(\u001b[0m\u001b[0mX\u001b[0m\u001b[0;34m,\u001b[0m \u001b[0mY\u001b[0m\u001b[0;34m,\u001b[0m \u001b[0mbatch_size\u001b[0m \u001b[0;34m=\u001b[0m \u001b[0;36m32\u001b[0m\u001b[0;34m,\u001b[0m \u001b[0mepochs\u001b[0m \u001b[0;34m=\u001b[0m \u001b[0;36m50\u001b[0m\u001b[0;34m)\u001b[0m\u001b[0;34m\u001b[0m\u001b[0;34m\u001b[0m\u001b[0m\n\u001b[0m\u001b[1;32m      8\u001b[0m \u001b[0;34m\u001b[0m\u001b[0m\n\u001b[1;32m      9\u001b[0m \u001b[0mmodele\u001b[0m\u001b[0;34m.\u001b[0m\u001b[0msave\u001b[0m\u001b[0;34m(\u001b[0m\u001b[0;34m'name_generator.h5'\u001b[0m\u001b[0;34m)\u001b[0m\u001b[0;34m\u001b[0m\u001b[0;34m\u001b[0m\u001b[0m\n",
            "\u001b[0;32m/usr/local/lib/python3.8/dist-packages/keras/utils/traceback_utils.py\u001b[0m in \u001b[0;36merror_handler\u001b[0;34m(*args, **kwargs)\u001b[0m\n\u001b[1;32m     62\u001b[0m     \u001b[0mfiltered_tb\u001b[0m \u001b[0;34m=\u001b[0m \u001b[0;32mNone\u001b[0m\u001b[0;34m\u001b[0m\u001b[0;34m\u001b[0m\u001b[0m\n\u001b[1;32m     63\u001b[0m     \u001b[0;32mtry\u001b[0m\u001b[0;34m:\u001b[0m\u001b[0;34m\u001b[0m\u001b[0;34m\u001b[0m\u001b[0m\n\u001b[0;32m---> 64\u001b[0;31m       \u001b[0;32mreturn\u001b[0m \u001b[0mfn\u001b[0m\u001b[0;34m(\u001b[0m\u001b[0;34m*\u001b[0m\u001b[0margs\u001b[0m\u001b[0;34m,\u001b[0m \u001b[0;34m**\u001b[0m\u001b[0mkwargs\u001b[0m\u001b[0;34m)\u001b[0m\u001b[0;34m\u001b[0m\u001b[0;34m\u001b[0m\u001b[0m\n\u001b[0m\u001b[1;32m     65\u001b[0m     \u001b[0;32mexcept\u001b[0m \u001b[0mException\u001b[0m \u001b[0;32mas\u001b[0m \u001b[0me\u001b[0m\u001b[0;34m:\u001b[0m  \u001b[0;31m# pylint: disable=broad-except\u001b[0m\u001b[0;34m\u001b[0m\u001b[0;34m\u001b[0m\u001b[0m\n\u001b[1;32m     66\u001b[0m       \u001b[0mfiltered_tb\u001b[0m \u001b[0;34m=\u001b[0m \u001b[0m_process_traceback_frames\u001b[0m\u001b[0;34m(\u001b[0m\u001b[0me\u001b[0m\u001b[0;34m.\u001b[0m\u001b[0m__traceback__\u001b[0m\u001b[0;34m)\u001b[0m\u001b[0;34m\u001b[0m\u001b[0;34m\u001b[0m\u001b[0m\n",
            "\u001b[0;32m/usr/local/lib/python3.8/dist-packages/keras/engine/training.py\u001b[0m in \u001b[0;36mfit\u001b[0;34m(self, x, y, batch_size, epochs, verbose, callbacks, validation_split, validation_data, shuffle, class_weight, sample_weight, initial_epoch, steps_per_epoch, validation_steps, validation_batch_size, validation_freq, max_queue_size, workers, use_multiprocessing)\u001b[0m\n\u001b[1;32m   1407\u001b[0m                 _r=1):\n\u001b[1;32m   1408\u001b[0m               \u001b[0mcallbacks\u001b[0m\u001b[0;34m.\u001b[0m\u001b[0mon_train_batch_begin\u001b[0m\u001b[0;34m(\u001b[0m\u001b[0mstep\u001b[0m\u001b[0;34m)\u001b[0m\u001b[0;34m\u001b[0m\u001b[0;34m\u001b[0m\u001b[0m\n\u001b[0;32m-> 1409\u001b[0;31m               \u001b[0mtmp_logs\u001b[0m \u001b[0;34m=\u001b[0m \u001b[0mself\u001b[0m\u001b[0;34m.\u001b[0m\u001b[0mtrain_function\u001b[0m\u001b[0;34m(\u001b[0m\u001b[0miterator\u001b[0m\u001b[0;34m)\u001b[0m\u001b[0;34m\u001b[0m\u001b[0;34m\u001b[0m\u001b[0m\n\u001b[0m\u001b[1;32m   1410\u001b[0m               \u001b[0;32mif\u001b[0m \u001b[0mdata_handler\u001b[0m\u001b[0;34m.\u001b[0m\u001b[0mshould_sync\u001b[0m\u001b[0;34m:\u001b[0m\u001b[0;34m\u001b[0m\u001b[0;34m\u001b[0m\u001b[0m\n\u001b[1;32m   1411\u001b[0m                 \u001b[0mcontext\u001b[0m\u001b[0;34m.\u001b[0m\u001b[0masync_wait\u001b[0m\u001b[0;34m(\u001b[0m\u001b[0;34m)\u001b[0m\u001b[0;34m\u001b[0m\u001b[0;34m\u001b[0m\u001b[0m\n",
            "\u001b[0;32m/usr/local/lib/python3.8/dist-packages/tensorflow/python/util/traceback_utils.py\u001b[0m in \u001b[0;36merror_handler\u001b[0;34m(*args, **kwargs)\u001b[0m\n\u001b[1;32m    148\u001b[0m     \u001b[0mfiltered_tb\u001b[0m \u001b[0;34m=\u001b[0m \u001b[0;32mNone\u001b[0m\u001b[0;34m\u001b[0m\u001b[0;34m\u001b[0m\u001b[0m\n\u001b[1;32m    149\u001b[0m     \u001b[0;32mtry\u001b[0m\u001b[0;34m:\u001b[0m\u001b[0;34m\u001b[0m\u001b[0;34m\u001b[0m\u001b[0m\n\u001b[0;32m--> 150\u001b[0;31m       \u001b[0;32mreturn\u001b[0m \u001b[0mfn\u001b[0m\u001b[0;34m(\u001b[0m\u001b[0;34m*\u001b[0m\u001b[0margs\u001b[0m\u001b[0;34m,\u001b[0m \u001b[0;34m**\u001b[0m\u001b[0mkwargs\u001b[0m\u001b[0;34m)\u001b[0m\u001b[0;34m\u001b[0m\u001b[0;34m\u001b[0m\u001b[0m\n\u001b[0m\u001b[1;32m    151\u001b[0m     \u001b[0;32mexcept\u001b[0m \u001b[0mException\u001b[0m \u001b[0;32mas\u001b[0m \u001b[0me\u001b[0m\u001b[0;34m:\u001b[0m\u001b[0;34m\u001b[0m\u001b[0;34m\u001b[0m\u001b[0m\n\u001b[1;32m    152\u001b[0m       \u001b[0mfiltered_tb\u001b[0m \u001b[0;34m=\u001b[0m \u001b[0m_process_traceback_frames\u001b[0m\u001b[0;34m(\u001b[0m\u001b[0me\u001b[0m\u001b[0;34m.\u001b[0m\u001b[0m__traceback__\u001b[0m\u001b[0;34m)\u001b[0m\u001b[0;34m\u001b[0m\u001b[0;34m\u001b[0m\u001b[0m\n",
            "\u001b[0;32m/usr/local/lib/python3.8/dist-packages/tensorflow/python/eager/def_function.py\u001b[0m in \u001b[0;36m__call__\u001b[0;34m(self, *args, **kwds)\u001b[0m\n\u001b[1;32m    913\u001b[0m \u001b[0;34m\u001b[0m\u001b[0m\n\u001b[1;32m    914\u001b[0m       \u001b[0;32mwith\u001b[0m \u001b[0mOptionalXlaContext\u001b[0m\u001b[0;34m(\u001b[0m\u001b[0mself\u001b[0m\u001b[0;34m.\u001b[0m\u001b[0m_jit_compile\u001b[0m\u001b[0;34m)\u001b[0m\u001b[0;34m:\u001b[0m\u001b[0;34m\u001b[0m\u001b[0;34m\u001b[0m\u001b[0m\n\u001b[0;32m--> 915\u001b[0;31m         \u001b[0mresult\u001b[0m \u001b[0;34m=\u001b[0m \u001b[0mself\u001b[0m\u001b[0;34m.\u001b[0m\u001b[0m_call\u001b[0m\u001b[0;34m(\u001b[0m\u001b[0;34m*\u001b[0m\u001b[0margs\u001b[0m\u001b[0;34m,\u001b[0m \u001b[0;34m**\u001b[0m\u001b[0mkwds\u001b[0m\u001b[0;34m)\u001b[0m\u001b[0;34m\u001b[0m\u001b[0;34m\u001b[0m\u001b[0m\n\u001b[0m\u001b[1;32m    916\u001b[0m \u001b[0;34m\u001b[0m\u001b[0m\n\u001b[1;32m    917\u001b[0m       \u001b[0mnew_tracing_count\u001b[0m \u001b[0;34m=\u001b[0m \u001b[0mself\u001b[0m\u001b[0;34m.\u001b[0m\u001b[0mexperimental_get_tracing_count\u001b[0m\u001b[0;34m(\u001b[0m\u001b[0;34m)\u001b[0m\u001b[0;34m\u001b[0m\u001b[0;34m\u001b[0m\u001b[0m\n",
            "\u001b[0;32m/usr/local/lib/python3.8/dist-packages/tensorflow/python/eager/def_function.py\u001b[0m in \u001b[0;36m_call\u001b[0;34m(self, *args, **kwds)\u001b[0m\n\u001b[1;32m    945\u001b[0m       \u001b[0;31m# In this case we have created variables on the first call, so we run the\u001b[0m\u001b[0;34m\u001b[0m\u001b[0;34m\u001b[0m\u001b[0;34m\u001b[0m\u001b[0m\n\u001b[1;32m    946\u001b[0m       \u001b[0;31m# defunned version which is guaranteed to never create variables.\u001b[0m\u001b[0;34m\u001b[0m\u001b[0;34m\u001b[0m\u001b[0;34m\u001b[0m\u001b[0m\n\u001b[0;32m--> 947\u001b[0;31m       \u001b[0;32mreturn\u001b[0m \u001b[0mself\u001b[0m\u001b[0;34m.\u001b[0m\u001b[0m_stateless_fn\u001b[0m\u001b[0;34m(\u001b[0m\u001b[0;34m*\u001b[0m\u001b[0margs\u001b[0m\u001b[0;34m,\u001b[0m \u001b[0;34m**\u001b[0m\u001b[0mkwds\u001b[0m\u001b[0;34m)\u001b[0m  \u001b[0;31m# pylint: disable=not-callable\u001b[0m\u001b[0;34m\u001b[0m\u001b[0;34m\u001b[0m\u001b[0m\n\u001b[0m\u001b[1;32m    948\u001b[0m     \u001b[0;32melif\u001b[0m \u001b[0mself\u001b[0m\u001b[0;34m.\u001b[0m\u001b[0m_stateful_fn\u001b[0m \u001b[0;32mis\u001b[0m \u001b[0;32mnot\u001b[0m \u001b[0;32mNone\u001b[0m\u001b[0;34m:\u001b[0m\u001b[0;34m\u001b[0m\u001b[0;34m\u001b[0m\u001b[0m\n\u001b[1;32m    949\u001b[0m       \u001b[0;31m# Release the lock early so that multiple threads can perform the call\u001b[0m\u001b[0;34m\u001b[0m\u001b[0;34m\u001b[0m\u001b[0;34m\u001b[0m\u001b[0m\n",
            "\u001b[0;32m/usr/local/lib/python3.8/dist-packages/tensorflow/python/eager/function.py\u001b[0m in \u001b[0;36m__call__\u001b[0;34m(self, *args, **kwargs)\u001b[0m\n\u001b[1;32m   2451\u001b[0m       (graph_function,\n\u001b[1;32m   2452\u001b[0m        filtered_flat_args) = self._maybe_define_function(args, kwargs)\n\u001b[0;32m-> 2453\u001b[0;31m     return graph_function._call_flat(\n\u001b[0m\u001b[1;32m   2454\u001b[0m         filtered_flat_args, captured_inputs=graph_function.captured_inputs)  # pylint: disable=protected-access\n\u001b[1;32m   2455\u001b[0m \u001b[0;34m\u001b[0m\u001b[0m\n",
            "\u001b[0;32m/usr/local/lib/python3.8/dist-packages/tensorflow/python/eager/function.py\u001b[0m in \u001b[0;36m_call_flat\u001b[0;34m(self, args, captured_inputs, cancellation_manager)\u001b[0m\n\u001b[1;32m   1858\u001b[0m         and executing_eagerly):\n\u001b[1;32m   1859\u001b[0m       \u001b[0;31m# No tape is watching; skip to running the function.\u001b[0m\u001b[0;34m\u001b[0m\u001b[0;34m\u001b[0m\u001b[0;34m\u001b[0m\u001b[0m\n\u001b[0;32m-> 1860\u001b[0;31m       return self._build_call_outputs(self._inference_function.call(\n\u001b[0m\u001b[1;32m   1861\u001b[0m           ctx, args, cancellation_manager=cancellation_manager))\n\u001b[1;32m   1862\u001b[0m     forward_backward = self._select_forward_and_backward_functions(\n",
            "\u001b[0;32m/usr/local/lib/python3.8/dist-packages/tensorflow/python/eager/function.py\u001b[0m in \u001b[0;36mcall\u001b[0;34m(self, ctx, args, cancellation_manager)\u001b[0m\n\u001b[1;32m    495\u001b[0m       \u001b[0;32mwith\u001b[0m \u001b[0m_InterpolateFunctionError\u001b[0m\u001b[0;34m(\u001b[0m\u001b[0mself\u001b[0m\u001b[0;34m)\u001b[0m\u001b[0;34m:\u001b[0m\u001b[0;34m\u001b[0m\u001b[0;34m\u001b[0m\u001b[0m\n\u001b[1;32m    496\u001b[0m         \u001b[0;32mif\u001b[0m \u001b[0mcancellation_manager\u001b[0m \u001b[0;32mis\u001b[0m \u001b[0;32mNone\u001b[0m\u001b[0;34m:\u001b[0m\u001b[0;34m\u001b[0m\u001b[0;34m\u001b[0m\u001b[0m\n\u001b[0;32m--> 497\u001b[0;31m           outputs = execute.execute(\n\u001b[0m\u001b[1;32m    498\u001b[0m               \u001b[0mstr\u001b[0m\u001b[0;34m(\u001b[0m\u001b[0mself\u001b[0m\u001b[0;34m.\u001b[0m\u001b[0msignature\u001b[0m\u001b[0;34m.\u001b[0m\u001b[0mname\u001b[0m\u001b[0;34m)\u001b[0m\u001b[0;34m,\u001b[0m\u001b[0;34m\u001b[0m\u001b[0;34m\u001b[0m\u001b[0m\n\u001b[1;32m    499\u001b[0m               \u001b[0mnum_outputs\u001b[0m\u001b[0;34m=\u001b[0m\u001b[0mself\u001b[0m\u001b[0;34m.\u001b[0m\u001b[0m_num_outputs\u001b[0m\u001b[0;34m,\u001b[0m\u001b[0;34m\u001b[0m\u001b[0;34m\u001b[0m\u001b[0m\n",
            "\u001b[0;32m/usr/local/lib/python3.8/dist-packages/tensorflow/python/eager/execute.py\u001b[0m in \u001b[0;36mquick_execute\u001b[0;34m(op_name, num_outputs, inputs, attrs, ctx, name)\u001b[0m\n\u001b[1;32m     52\u001b[0m   \u001b[0;32mtry\u001b[0m\u001b[0;34m:\u001b[0m\u001b[0;34m\u001b[0m\u001b[0;34m\u001b[0m\u001b[0m\n\u001b[1;32m     53\u001b[0m     \u001b[0mctx\u001b[0m\u001b[0;34m.\u001b[0m\u001b[0mensure_initialized\u001b[0m\u001b[0;34m(\u001b[0m\u001b[0;34m)\u001b[0m\u001b[0;34m\u001b[0m\u001b[0;34m\u001b[0m\u001b[0m\n\u001b[0;32m---> 54\u001b[0;31m     tensors = pywrap_tfe.TFE_Py_Execute(ctx._handle, device_name, op_name,\n\u001b[0m\u001b[1;32m     55\u001b[0m                                         inputs, attrs, num_outputs)\n\u001b[1;32m     56\u001b[0m   \u001b[0;32mexcept\u001b[0m \u001b[0mcore\u001b[0m\u001b[0;34m.\u001b[0m\u001b[0m_NotOkStatusException\u001b[0m \u001b[0;32mas\u001b[0m \u001b[0me\u001b[0m\u001b[0;34m:\u001b[0m\u001b[0;34m\u001b[0m\u001b[0;34m\u001b[0m\u001b[0m\n",
            "\u001b[0;31mKeyboardInterrupt\u001b[0m: "
          ]
        }
      ]
    },
    {
      "cell_type": "markdown",
      "source": [
        "##Création du prédicteur"
      ],
      "metadata": {
        "id": "yz7CDqVsvT51"
      }
    },
    {
      "cell_type": "code",
      "source": [
        "#On va décider de la première lettre :\n",
        "lettre = 'na'\n",
        "#lettre = np.random.choice(liste_lettres)\n",
        "\n",
        "lettres_choisies = lettre\n",
        "\n",
        "#On récupère la dernière séquence ou une séquence de même taille de notre choix\n",
        "#sequence=\"a zvonko zygmunt\"\n",
        "sequence=\"pahoopa unbound volcanion\"\n",
        "\n",
        "#On ajoute à la fin un caractère espace et la lettre choisie et on supprime les 2 premiers caractères\n",
        "sequence += ' ' + lettre\n",
        "sequence = sequence[1+len(lettre):]\n",
        "\n",
        "#print(len(sequence),sequence)\n",
        "\n",
        "#On crée une nouvelle chaine pour stocker les prénoms générés en commençant par la lettre choisie :\n",
        "prenoms_generes = lettre\n",
        "\n",
        "#On donne combien de noms vont être générés :\n",
        "nombre_noms = 10\n",
        "\n",
        "#On prend un compteur de caractères\n",
        "nombre_lettres = 0\n",
        "\n",
        "while nombre_noms > 0 :\n",
        "  X = []\n",
        "\n",
        "  #on recrée X\n",
        "  for caractere in sequence :\n",
        "    indice = liste_lettres.index(caractere)\n",
        "    X.append(indice)\n",
        "\n",
        "  #On to_categorical X\n",
        "  X = to_categorical(X, categories)\n",
        "\n",
        "  #il faut reshape X pour avoir un tenseur en 3 dimensions\n",
        "  X = np.reshape(X, (1,X.shape[0],X.shape[1]))\n",
        "  #print(X.shape)\n",
        "\n",
        "  #On prédit le vecteur de probabilités\n",
        "  probas = modele.predict(X, verbose = 0)\n",
        "  probas = probas[0]\n",
        "\n",
        "  #On choisit aléatoirement l'indice parmi les catégories en utilisant la distribution calculée\n",
        "  indice = np.random.choice(categories, p=probas)\n",
        "\n",
        "  #On ajoute au nombre de lettres dans le prénom\n",
        "  nombre_lettres += 1\n",
        "\n",
        "  #On récupère la lettre correspondante et on l'ajoute à la liste des prénoms\n",
        "  lettre = liste_lettres[indice]\n",
        "  prenoms_generes += lettre\n",
        "\n",
        "  #On refait la séquence d'entrée du prédicteur\n",
        "  sequence += lettre\n",
        "  sequence = sequence[1:]\n",
        "\n",
        "  #Si la lettre est le séparateur, on a nouveau nom\n",
        "  if lettre == ' ' and nombre_lettres > 3:\n",
        "    nombre_noms -= 1\n",
        "    print(\"noms générés : \", 10 - nombre_noms)\n",
        "    #remise à 0 du nombre de lettres\n",
        "    nombre_lettres = 0\n",
        "\n",
        "\n",
        "  #On refait la séquence pour commencer par les lettres choisies\n",
        "  if lettre == ' ':\n",
        "    sequence += lettres_choisies\n",
        "    sequence = sequence[len(lettres_choisies):]\n",
        "    #On réinitialise le début du prénom\n",
        "    prenoms_generes += lettres_choisies\n",
        "\n",
        "\n",
        "prenoms = prenoms_generes.split()\n",
        "print(\"Voici les 10 prénoms générés\")\n",
        "for prenom in prenoms :\n",
        "  if len(prenom) >= 3 and '(' not in prenom:\n",
        "    print(prenom.capitalize())"
      ],
      "metadata": {
        "colab": {
          "base_uri": "https://localhost:8080/"
        },
        "outputId": "645b3776-1ac1-4286-bb09-f27225a02f76",
        "id": "EPQO5x21vT6D"
      },
      "execution_count": null,
      "outputs": [
        {
          "output_type": "stream",
          "name": "stdout",
          "text": [
            "noms générés :  1\n",
            "noms générés :  2\n",
            "noms générés :  3\n",
            "noms générés :  4\n",
            "noms générés :  5\n",
            "noms générés :  6\n",
            "noms générés :  7\n",
            "noms générés :  8\n",
            "noms générés :  9\n",
            "noms générés :  10\n",
            "Voici les 10 prénoms générés\n",
            "Nanccino\n",
            "Nandave\n",
            "Nadosmpla\n",
            "Naudoninash\n",
            "Nadotonz\n",
            "Naincoke\n",
            "Naunchan\n",
            "Nancsee\n",
            "Nanserin\n",
            "Nangada\n"
          ]
        }
      ]
    }
  ]
}